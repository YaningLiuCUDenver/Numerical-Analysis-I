{
 "cells": [
  {
   "cell_type": "markdown",
   "id": "6eda397c",
   "metadata": {},
   "source": [
    "# Chapter 1 Introduction"
   ]
  },
  {
   "cell_type": "markdown",
   "id": "649b7f8c",
   "metadata": {},
   "source": [
    "## Review of Calculus"
   ]
  },
  {
   "cell_type": "markdown",
   "id": "ffbc9377",
   "metadata": {},
   "source": [
    "There are several concepts and facts from Calculus that we need in Numerical Analysis. In this section we will list some definitions and theorems that will be needed later. For the most part functions in this book refer to real valued functions defined on real numbers $\\mathbf{R}$, or an interval $(a,b)\\subset\\mathbf{R}$."
   ]
  },
  {
   "cell_type": "markdown",
   "id": "736ba73c",
   "metadata": {},
   "source": [
    "```{prf:definition}\n",
    ":label: chap1_def1\n",
    "\n",
    "1. A function $f$ has the limit $L$ at $x_{0}$, written as $\\lim_{x\\rightarrow x_{0}}f(x)=L,$\n",
    "if for any $\\epsilon>0,$ there exists $\\delta>0$ such that $|f(x)-L|<\\epsilon$\n",
    "whenever $0<|x-x_{0}|<\\delta$.\n",
    "\n",
    "2. A function $f$ is continuous at $x_{0}$ if $\\lim_{x\\rightarrow x_{0}}f(x)=f(x_{0}),$ and\n",
    "$f$ is continuous on a set $A$ if it is continuous at each $x_{0}\\in A$.\n",
    "\n",
    "3. Let $\\{x_{n}\\}_{n=1}^{\\infty}$ be an infinite sequence of real numbers.\n",
    "The sequence has the limit $x,$ i.e., $\\lim_{n\\rightarrow\\infty}x_{n}=x$\n",
    "(or, written as $x_{n}\\rightarrow x$ as $n\\rightarrow\\infty)$ if\n",
    "for any $\\epsilon>0,$ there exists an integer $N>0$ such that $|x_{n}-x|<\\epsilon$\n",
    "whenever $n>N$.\n",
    "```"
   ]
  },
  {
   "cell_type": "markdown",
   "id": "f3c62822",
   "metadata": {},
   "source": [
    "```{prf:theorem}\n",
    ":label: chap1_thm2\n",
    "\n",
    "The following are equivalent for a real valued function $f:$\n",
    "1. $f$ is continuous at $x_{0}$\n",
    "2. If $\\{x_{n}\\}_{n=1}^{\\infty}$ is any sequence converging to $x_{0},$\n",
    "then $\\lim_{n\\rightarrow\\infty}f(x_{n})=f(x_{0})$.\n",
    "```"
   ]
  },
  {
   "cell_type": "markdown",
   "id": "499408e3",
   "metadata": {},
   "source": [
    "```{prf:definition}\n",
    ":label: chap1_def3\n",
    "We say $f(x)$ is differentiable at $x_{0}$ if\n",
    "\\begin{equation*}\n",
    "f'(x_{0})=\\lim_{x\\rightarrow x_{0}}\\frac{f(x)-f(x_{0})}{x-x_{0}}=\\lim_{h\\rightarrow0}\\frac{f(x_{0}+h)-f(x_{0})}{h}\n",
    "\\end{equation*}\n",
    "exists.\n",
    "```"
   ]
  },
  {
   "cell_type": "markdown",
   "id": "4dfb9b1b",
   "metadata": {},
   "source": [
    "**Notation:**\n",
    "\n",
    "$C^{n}(A)$ denotes the set of all functions $f$ such that $f$ and its first $n$ derivatives are continuous on $A.$ If $f$ is only continuous on\n",
    "$A$, then we write $f\\in C^{0}(A).$ $C^{\\infty}(A)$ consists of\n",
    "functions that have derivatives of all orders, for example, $f(x)=\\sin x$\n",
    "or $f(x)=e^{x}$."
   ]
  },
  {
   "cell_type": "markdown",
   "id": "9f3f2014",
   "metadata": {},
   "source": [
    "The following well-known theorems of Calculus will often be used in the remainder of the book.\n",
    "\n",
    "```{prf:theorem} Mean value theorem\n",
    ":label: chap1_thm4\n",
    "    \n",
    "If $f\\in C^{0}[a,b]$ and $f$ is differentiable on $(a,b)$, then there exists $c\\in(a,b)$ such that $f'(c)=\\frac{f(b)-f(a)}{b-a}$.\n",
    "```"
   ]
  },
  {
   "cell_type": "markdown",
   "id": "d3b483a0",
   "metadata": {},
   "source": [
    "```{prf:theorem} Extreme value theorem\n",
    ":label: chap1_thm5\n",
    "    \n",
    "If $f\\in C^{0}[a,b]$ and $f$ is differentiable on $(a,b)$, then\n",
    "there exists $c\\in(a,b)$ such that $f'(c)=\\frac{f(b)-f(a)}{b-a}$.\n",
    "```"
   ]
  },
  {
   "cell_type": "markdown",
   "id": "127a5686",
   "metadata": {},
   "source": [
    "```{prf:theorem} Intermediate value theorem\n",
    ":label: chap1_thm6\n",
    "If $f\\in C^{0}[a,b]$ and $K$ is any number between $f(a)$ and\n",
    "$f(b)$, then there exists $c\\in(a,b)$ with $f(c)=K$.\n",
    "```"
   ]
  },
  {
   "cell_type": "markdown",
   "id": "69a1395d",
   "metadata": {},
   "source": [
    "```{prf:theorem} Taylor's theorem\n",
    ":label: chap1_thm7\n",
    "Suppose $f\\in C^{n}[a,b]$ and $f^{(n+1)}$ exists on $(a,b),$\n",
    "and $x_{0}\\in(a,b).$ Then, for $x\\in (a,b)$\n",
    "\\begin{equation*}\n",
    "f(x)=P_{n}(x)+R_{n}(x)\n",
    "\\end{equation*}\n",
    "where $P_{n}$ is the $n$th order Taylor polynomial\n",
    "\\begin{equation*}\n",
    "P_{n}(x)=f(x_{0})+f'(x_{0})(x-x_{0})+f''(x_{0})\\frac{(x-x_{0})^{2}}{2!}+...+f^{(n)}(x_{0})\\frac{(x-x_{0})^{n}}{n!}\n",
    "\\end{equation*}\n",
    "and $R_{n}$ is the remainder term\n",
    "\\begin{equation*}\n",
    "R_{n}(x)=f^{(n+1)}(\\xi)\\frac{(x-x_{0})^{n+1}}{(n+1)!}\n",
    "\\end{equation*}\n",
    "for some $\\xi$ between $x$ and $x_{0}$.\n",
    "```"
   ]
  },
  {
   "cell_type": "markdown",
   "id": "e33caa67",
   "metadata": {},
   "source": [
    "```{prf:example} \n",
    ":label: chap1_exa8\n",
    "Let $f(x)=x\\cos x -x.$\n",
    "1. Find $P_{3}(x)$ about $x_{0}=\\pi/2$ and use it to approximate $f(0.8).$\n",
    "2. Compute the exact value for $f(0.8)$, and the error $|f(0.8)-P_{3}(0.8)|.$\n",
    "3. Use the remainder term $R_{3}(x)$ to find an upper bound for the error $|f(0.8)-P_{3}(0.8)|.$ Compare the upper bound with the actual error found in part 2.        \n",
    "```      \n",
    "\n",
    "**Solution.**\n",
    "1. First note that $f(\\pi/2)=-\\pi/2$.\n",
    "    Differentiating $f$ we get:\n",
    "    \\begin{align*}\n",
    "    f'(x) & =\\cos x - x \\sin x -1 \\Rightarrow f'(\\pi/2)=-\\pi/2-1\\\\\n",
    "    f''(x) & =-2\\sin x -x \\cos x \\Rightarrow f''(\\pi/2)=-2\\\\\n",
    "    f'''(x) & =-3 \\cos x+x \\sin x\\Rightarrow f'''(\\pi/2)=\\pi/2.\n",
    "    \\end{align*}\n",
    "    Therefore\n",
    "    \\begin{equation*}\n",
    "    P_{3}(x)=-\\pi/2-(\\pi/2+1)(x-\\pi/2)-(x-\\pi/2)^2+\\frac{\\pi}{12} (x-\\pi/2)^3.\n",
    "    \\end{equation*}\n",
    "    Then we approximate $f(0.8)$ by\n",
    "    $P_{3}(0.8)=-0.3033$ (using 4-digits with rounding).\n",
    "    \n",
    "2. The exact value is $f(0.8)=-0.2426$ and the absolute error is $|f(0.8)-P_{3}(0.8)|=0.06062$.\n",
    "\n",
    "3. To find an upper bound for the error, write\n",
    "    \\begin{equation*}\n",
    "    |f(0.8)-P_{3}(0.8)|=|R_{3}(0.8)|\n",
    "    \\end{equation*}\n",
    "    where\n",
    "    \\begin{equation*}\n",
    "    R_{3}(0.8)=f^{(4)}(\\xi)\\frac{(0.8-\\pi/2)^{4}}{4!}\n",
    "    \\end{equation*}\n",
    "    and $\\xi$ is between $0.8$ and $\\pi/2$. We need to differentiate $f$\n",
    "    one more time: $f^{(4)}(x)=4\\sin x +x \\cos x.$\n",
    "    Since $0.8<\\xi<\\pi/2$, we can find an upper bound for $f^{(4)}(x),$\n",
    "    and thus an upper bound for $R_{3}(0.8),$ using triangle inequality:\n",
    "    \\begin{align*}\n",
    "    \\left|R_{3}(0.8)\\right| & =\\left|f^{(4)}(\\xi)\\frac{(0.8-\\pi/2)^{4}}{4!}\\right|=\\left|4 \\sin\\xi + \\xi \\cos \\xi\\right|(0.01471)\\\\\n",
    "     & \\leq 0.05883 | \\sin \\xi | + 0.01471 |\\xi| |\\cos \\xi|.\n",
    "    \\end{align*}\n",
    "    Note that on $0.8<\\xi<\\pi/2$, $\\sin\\xi$ is a positive increasing\n",
    "    function, and $|\\sin(\\xi)|<\\sin(\\pi/2)=1$. For the second term, we can\n",
    "    find an upper bound by observing $|\\xi|$ attains a maximum\n",
    "    value of $\\pi/2$ on $0.8<\\xi<\\pi/2$, and $\\cos\\xi$, which is a decreasing positive function on $0.8<\\xi<\\pi/2$, has a maximum value\n",
    "    of $\\cos{(0.8)}=0.6967$. Putting these together, we\n",
    "    get\n",
    "    \\begin{equation*}\n",
    "    \\left|R_{3}(0.8)\\right| < 0.05883 (1) + (0.01471) (\\pi/2) (0.6967) \\approx 0.07493.\n",
    "    \\end{equation*}\n",
    "    Therefore, our estimate for the actual error (which is 0.06062 from part 2) is 0.07493."
   ]
  },
  {
   "cell_type": "markdown",
   "id": "0d292ec5",
   "metadata": {},
   "source": [
    "**Excercise 1.1**\n",
    "\n",
    "Find the second order Taylor polynomial for $f(x)=e^{x}\\sin x$ about $x_{0}=0$.\n",
    "\n",
    "a. Compute $P_{2}(0.4)$ to approximate $f(0.4)$. Use the remainder term $R_{2}(0.4)$ to find an upper bound for the error $|P_{2}(0.4)-f(0.4)|$. Compare the upper bound with the actual error.\n",
    "\n",
    "b. Compute $\\int_{0}^{1}P_{2}(x)dx$ to approximate $\\int_{0}^{1}f(x)dx$. Find an upper bound for the error using $\\int_{0}^{1}R_{2}(x)dx$,\n",
    "and compare it to the actual error."
   ]
  },
  {
   "cell_type": "markdown",
   "id": "b6031a63",
   "metadata": {},
   "source": [
    "## Python basics"
   ]
  },
  {
   "cell_type": "markdown",
   "id": "30371306",
   "metadata": {},
   "source": [
    "We recommend using the free and open-source Python package manager Anaconda (Individual Edition \\url{https://www.anaconda.com/products/individual}). Go to the webpage and choose the installer according to your operating system. At the time of writing this book, Python Version 3.8 is installed by default, which is also the version we use in this book. There are different environments and editors to run Python. Here we will use the Jupyter environment, which will be ready after Anaconda is installed. There are several tutorials and other resources on Python at \\url{https://www.python.org/} where one can find up-to-date information on Python.\n",
    "\n",
    "The Jupyter environment uses the so-called Jupyter notebook where one can write and edit a Python code, run the code, and export the work into various file formats including Latex and pdf. Most of our interaction with Python will be through the Jupyter notebooks. Note that Anaconda, once installed, has already preinstalled a large number of commonly used Python packages, so it is not necessary to install new packages for the purpose of running the codes in this book.\n",
    "\n",
    "After installing Anaconda, open a Jupyter notebook by following Anaconda $\\rightarrow$ Jupyter Notebook $\\rightarrow$ new $\\rightarrow$ Python 3. Here is a screenshot of my notebook:\n",
    "\n",
    "![JupyterNotebook](./images/Notebook.png)"
   ]
  },
  {
   "cell_type": "markdown",
   "id": "a5eec4e9",
   "metadata": {},
   "source": [
    " Let's start with some basic computations."
   ]
  },
  {
   "cell_type": "code",
   "execution_count": 1,
   "id": "e985f2cd",
   "metadata": {},
   "outputs": [
    {
     "data": {
      "text/plain": [
       "5"
      ]
     },
     "execution_count": 1,
     "metadata": {},
     "output_type": "execute_result"
    }
   ],
   "source": [
    "2+3"
   ]
  },
  {
   "cell_type": "markdown",
   "id": "4d264e69",
   "metadata": {},
   "source": [
    "Now we import the **sin** and **log** function, as well as the $\\pi$ constant from the **math** package,"
   ]
  },
  {
   "cell_type": "code",
   "execution_count": 2,
   "id": "6148b9e6",
   "metadata": {},
   "outputs": [],
   "source": [
    "from math import sin, pi, log"
   ]
  },
  {
   "cell_type": "markdown",
   "id": "b9c5af45",
   "metadata": {},
   "source": [
    "and compute $\\sin{(\\pi/4)}$:"
   ]
  },
  {
   "cell_type": "code",
   "execution_count": 3,
   "id": "a27248fa",
   "metadata": {},
   "outputs": [
    {
     "data": {
      "text/plain": [
       "0.7071067811865476"
      ]
     },
     "execution_count": 3,
     "metadata": {},
     "output_type": "execute_result"
    }
   ],
   "source": [
    "sin(pi/4)"
   ]
  },
  {
   "cell_type": "markdown",
   "id": "3c0d3115",
   "metadata": {},
   "source": [
    "One way to learn about a function is to search for it online in the\n",
    "Python documentation https://docs.python.org/3/. For example, the syntax\n",
    "for the logarithm function in the **math** package is $\\log (x[,b])$ where $b$ is the optional base. If $b$ is not provided, the natural logarithm of $x$ (to base $e$) is computed."
   ]
  },
  {
   "cell_type": "code",
   "execution_count": 4,
   "id": "08a8939b",
   "metadata": {},
   "outputs": [
    {
     "data": {
      "text/plain": [
       "2.0"
      ]
     },
     "execution_count": 4,
     "metadata": {},
     "output_type": "execute_result"
    }
   ],
   "source": [
    "log(4,2)"
   ]
  },
  {
   "cell_type": "markdown",
   "id": "046185bf",
   "metadata": {},
   "source": [
    "### Numpy arrays"
   ]
  },
  {
   "cell_type": "markdown",
   "id": "47f9da39",
   "metadata": {},
   "source": [
    "NumPy is a useful Python package for array data structure, random number generation, linear algebra algorithms, and so on. A NumPy array is a data structure that can be used to represent vectors and matrices, for which the computations are also made easier.  Import the NumPy package and define an alias (np) for it."
   ]
  },
  {
   "cell_type": "code",
   "execution_count": 5,
   "id": "2bda7f0c",
   "metadata": {},
   "outputs": [],
   "source": [
    "import numpy as np"
   ]
  },
  {
   "cell_type": "markdown",
   "id": "11eaa3f6",
   "metadata": {},
   "source": [
    " Here is the basic syntax to create a $1$D NumPy array (representing a vector):"
   ]
  },
  {
   "cell_type": "code",
   "execution_count": 6,
   "id": "9753df23",
   "metadata": {},
   "outputs": [
    {
     "data": {
      "text/plain": [
       "array([10, 20, 30])"
      ]
     },
     "execution_count": 6,
     "metadata": {},
     "output_type": "execute_result"
    }
   ],
   "source": [
    "x = np.array([10, 20, 30])\n",
    "x"
   ]
  },
  {
   "cell_type": "markdown",
   "id": "be14339d",
   "metadata": {},
   "source": [
    "The following line of code shows the entries of the created array are integers of 32 bits."
   ]
  },
  {
   "cell_type": "code",
   "execution_count": 7,
   "id": "3fa45a70",
   "metadata": {},
   "outputs": [
    {
     "data": {
      "text/plain": [
       "dtype('int32')"
      ]
     },
     "execution_count": 7,
     "metadata": {},
     "output_type": "execute_result"
    }
   ],
   "source": [
    "x.dtype"
   ]
  },
  {
   "cell_type": "markdown",
   "id": "255fdf4d",
   "metadata": {},
   "source": [
    "If we input a real, Python will change the type accordingly:"
   ]
  },
  {
   "cell_type": "code",
   "execution_count": 8,
   "id": "8c302ccd",
   "metadata": {},
   "outputs": [
    {
     "data": {
      "text/plain": [
       "array([10. , 20. , 30. ,  0.1])"
      ]
     },
     "execution_count": 8,
     "metadata": {},
     "output_type": "execute_result"
    }
   ],
   "source": [
    "x = np.array([10, 20, 30, 0.1])\n",
    "x"
   ]
  },
  {
   "cell_type": "code",
   "execution_count": 9,
   "id": "96230e11",
   "metadata": {},
   "outputs": [
    {
     "data": {
      "text/plain": [
       "dtype('float64')"
      ]
     },
     "execution_count": 9,
     "metadata": {},
     "output_type": "execute_result"
    }
   ],
   "source": [
    "x.dtype"
   ]
  },
  {
   "cell_type": "markdown",
   "id": "896d6f67",
   "metadata": {},
   "source": [
    "A 1D NumPy array does not assume a particular row or column arrangement of the data, and hence taking transpose for a 1D NumPy array is not valid. Here is another way to construct a 1D array, and some array operations:"
   ]
  },
  {
   "cell_type": "code",
   "execution_count": 10,
   "id": "ed4a976b",
   "metadata": {},
   "outputs": [
    {
     "data": {
      "text/plain": [
       "array([10, 20, 30, 40, 50])"
      ]
     },
     "execution_count": 10,
     "metadata": {},
     "output_type": "execute_result"
    }
   ],
   "source": [
    "x = np.array([10*i for i in range(1, 6)])\n",
    "x"
   ]
  },
  {
   "cell_type": "code",
   "execution_count": 11,
   "id": "7db670aa",
   "metadata": {},
   "outputs": [
    {
     "data": {
      "text/plain": [
       "50"
      ]
     },
     "execution_count": 11,
     "metadata": {},
     "output_type": "execute_result"
    }
   ],
   "source": [
    "x[-1]"
   ]
  },
  {
   "cell_type": "code",
   "execution_count": 12,
   "id": "c3bca687",
   "metadata": {},
   "outputs": [
    {
     "data": {
      "text/plain": [
       "10"
      ]
     },
     "execution_count": 12,
     "metadata": {},
     "output_type": "execute_result"
    }
   ],
   "source": [
    "min(x)"
   ]
  },
  {
   "cell_type": "code",
   "execution_count": 13,
   "id": "3a8078f5",
   "metadata": {},
   "outputs": [
    {
     "data": {
      "text/plain": [
       "150"
      ]
     },
     "execution_count": 13,
     "metadata": {},
     "output_type": "execute_result"
    }
   ],
   "source": [
    "np.sum(x)"
   ]
  },
  {
   "cell_type": "code",
   "execution_count": 14,
   "id": "fcc76232",
   "metadata": {},
   "outputs": [
    {
     "data": {
      "text/plain": [
       "array([10, 20, 30, 40, 50, 99])"
      ]
     },
     "execution_count": 14,
     "metadata": {},
     "output_type": "execute_result"
    }
   ],
   "source": [
    "x = np.append(x, 99)\n",
    "x"
   ]
  },
  {
   "cell_type": "code",
   "execution_count": 15,
   "id": "2dbe5d26",
   "metadata": {},
   "outputs": [
    {
     "data": {
      "text/plain": [
       "40"
      ]
     },
     "execution_count": 15,
     "metadata": {},
     "output_type": "execute_result"
    }
   ],
   "source": [
    "x[3]"
   ]
  },
  {
   "cell_type": "code",
   "execution_count": 16,
   "id": "4503c845",
   "metadata": {},
   "outputs": [
    {
     "data": {
      "text/plain": [
       "6"
      ]
     },
     "execution_count": 16,
     "metadata": {},
     "output_type": "execute_result"
    }
   ],
   "source": [
    "x.size"
   ]
  },
  {
   "cell_type": "markdown",
   "id": "53f558aa",
   "metadata": {},
   "source": [
    "The NumPy package has a wide range of mathematical functions such as $\\sin$, $\\log$, etc., which can be applied elementwise to an array:"
   ]
  },
  {
   "cell_type": "code",
   "execution_count": 18,
   "id": "2a0fe999",
   "metadata": {},
   "outputs": [
    {
     "data": {
      "text/plain": [
       "array([1, 2, 3])"
      ]
     },
     "execution_count": 18,
     "metadata": {},
     "output_type": "execute_result"
    }
   ],
   "source": [
    "x = np.array([1,2,3])\n",
    "x"
   ]
  },
  {
   "cell_type": "code",
   "execution_count": 19,
   "id": "7229abe9",
   "metadata": {},
   "outputs": [
    {
     "data": {
      "text/plain": [
       "array([0.84147098, 0.90929743, 0.14112001])"
      ]
     },
     "execution_count": 19,
     "metadata": {},
     "output_type": "execute_result"
    }
   ],
   "source": [
    "np.sin(x)"
   ]
  },
  {
   "cell_type": "markdown",
   "id": "fdcff5a5",
   "metadata": {},
   "source": [
    "### Plotting"
   ]
  },
  {
   "cell_type": "markdown",
   "id": "fc295dc2",
   "metadata": {},
   "source": [
    "There are several packages for plotting functions and we will use the PyPlot package. The package is preinstalled in Anaconda. To start the package, use"
   ]
  },
  {
   "cell_type": "code",
   "execution_count": 20,
   "id": "395de21e",
   "metadata": {},
   "outputs": [],
   "source": [
    "import matplotlib.pyplot as plt\n",
    "%matplotlib inline"
   ]
  },
  {
   "cell_type": "markdown",
   "id": "522e2ad0",
   "metadata": {},
   "source": [
    "The following piece of code is a simple example of plotting with PyPlot."
   ]
  },
  {
   "cell_type": "code",
   "execution_count": 21,
   "id": "183d3849",
   "metadata": {},
   "outputs": [
    {
     "data": {
      "image/png": "[encoded data removed]",
      "text/plain": [
       "<Figure size 432x288 with 1 Axes>"
      ]
     },
     "metadata": {
      "needs_background": "light"
     },
     "output_type": "display_data"
    }
   ],
   "source": [
    "x = np.linspace(0, 2*np.pi, 1000)\n",
    "y = np.sin(3*x)\n",
    "plt.plot(x, y, color='red', linewidth=2.0, linestyle='--')\n",
    "plt.title('The sine function');"
   ]
  },
  {
   "cell_type": "markdown",
   "id": "a6d2edbb",
   "metadata": {},
   "source": [
    "Let's plot two functions, $\\sin3x$ and $\\cos x$, and label them appropriately."
   ]
  },
  {
   "cell_type": "code",
   "execution_count": 22,
   "id": "ea948f52",
   "metadata": {},
   "outputs": [
    {
     "data": {
      "image/png": "[encoded data removed]",
      "text/plain": [
       "<Figure size 432x288 with 1 Axes>"
      ]
     },
     "metadata": {
      "needs_background": "light"
     },
     "output_type": "display_data"
    }
   ],
   "source": [
    "x = np.linspace(0, 2*np.pi, 1000)\n",
    "y = np.sin(3*x)\n",
    "z = np.cos(x)\n",
    "plt.plot(x, y, color='red', linewidth=2.0, linestyle='--', label='sin(3x)')\n",
    "plt.plot(x, z, color='blue', linewidth=1.0, linestyle='-', label='cos(x)')\n",
    "plt.legend(loc='upper center');"
   ]
  },
  {
   "cell_type": "markdown",
   "id": "c29f6a59",
   "metadata": {},
   "source": [
    "### Matrix operations"
   ]
  },
  {
   "cell_type": "markdown",
   "id": "63f4f71f",
   "metadata": {},
   "source": [
    "NumPy uses $2$D arrays to represent matrices. Let's create a $3\\times3$ matrix ($2$D array):"
   ]
  },
  {
   "cell_type": "code",
   "execution_count": 23,
   "id": "0f4f6e74",
   "metadata": {},
   "outputs": [
    {
     "data": {
      "text/plain": [
       "array([[-1.  ,  0.26,  0.74],\n",
       "       [ 0.09, -1.  ,  0.26],\n",
       "       [ 1.  ,  1.  ,  1.  ]])"
      ]
     },
     "execution_count": 23,
     "metadata": {},
     "output_type": "execute_result"
    }
   ],
   "source": [
    "A = np.array([[-1, 0.26, 0.74], [0.09, -1, 0.26], [1,1,1]])\n",
    "A"
   ]
  },
  {
   "cell_type": "markdown",
   "id": "aa8034cb",
   "metadata": {},
   "source": [
    "Transpose of \\(A\\) is computed as:"
   ]
  },
  {
   "cell_type": "code",
   "execution_count": 24,
   "id": "caa673dd",
   "metadata": {},
   "outputs": [
    {
     "data": {
      "text/plain": [
       "array([[-1.  ,  0.09,  1.  ],\n",
       "       [ 0.26, -1.  ,  1.  ],\n",
       "       [ 0.74,  0.26,  1.  ]])"
      ]
     },
     "execution_count": 24,
     "metadata": {},
     "output_type": "execute_result"
    }
   ],
   "source": [
    "A.T"
   ]
  },
  {
   "cell_type": "markdown",
   "id": "bfed7cdf",
   "metadata": {},
   "source": [
    "Here is its inverse."
   ]
  },
  {
   "cell_type": "code",
   "execution_count": 25,
   "id": "9aa993b0",
   "metadata": {},
   "outputs": [
    {
     "data": {
      "text/plain": [
       "array([[-0.59693007,  0.22740193,  0.38260375],\n",
       "       [ 0.08053818, -0.82433201,  0.15472807],\n",
       "       [ 0.51639189,  0.59693007,  0.46266818]])"
      ]
     },
     "execution_count": 25,
     "metadata": {},
     "output_type": "execute_result"
    }
   ],
   "source": [
    "np.linalg.inv(A)"
   ]
  },
  {
   "cell_type": "markdown",
   "id": "10058bab",
   "metadata": {},
   "source": [
    "To compute the product of $A$ and the inverse of $A$, use:"
   ]
  },
  {
   "cell_type": "code",
   "execution_count": 26,
   "id": "acc0464a",
   "metadata": {},
   "outputs": [
    {
     "data": {
      "text/plain": [
       "array([[ 1.00000000e+00,  1.24617643e-17, -1.74319952e-17],\n",
       "       [-3.98224397e-17,  1.00000000e+00,  1.74319952e-17],\n",
       "       [ 0.00000000e+00,  0.00000000e+00,  1.00000000e+00]])"
      ]
     },
     "execution_count": 26,
     "metadata": {},
     "output_type": "execute_result"
    }
   ],
   "source": [
    "np.dot(A, np.linalg.inv(A))"
   ]
  },
  {
   "cell_type": "markdown",
   "id": "cb5ee9f8",
   "metadata": {},
   "source": [
    "Let's try matrix vector multiplication. Define some vector \\(v\\) as:"
   ]
  },
  {
   "cell_type": "code",
   "execution_count": 27,
   "id": "76d26bc2",
   "metadata": {},
   "outputs": [
    {
     "data": {
      "text/plain": [
       "array([0, 0, 1])"
      ]
     },
     "execution_count": 27,
     "metadata": {},
     "output_type": "execute_result"
    }
   ],
   "source": [
    "v = np.array([0,0,1])\n",
    "v"
   ]
  },
  {
   "cell_type": "markdown",
   "id": "bc7873ba",
   "metadata": {},
   "source": [
    "Now try $\\text{np.dot}(A,v)$ to multiply them."
   ]
  },
  {
   "cell_type": "code",
   "execution_count": 28,
   "id": "2a381cc8",
   "metadata": {},
   "outputs": [
    {
     "data": {
      "text/plain": [
       "array([0.74, 0.26, 1.  ])"
      ]
     },
     "execution_count": 28,
     "metadata": {},
     "output_type": "execute_result"
    }
   ],
   "source": [
    "np.dot(A, v)"
   ]
  },
  {
   "cell_type": "markdown",
   "id": "a068a62f",
   "metadata": {},
   "source": [
    "To solve the matrix equation \\(Ax=v\\), type:"
   ]
  },
  {
   "cell_type": "code",
   "execution_count": 29,
   "id": "7a2d61d7",
   "metadata": {},
   "outputs": [
    {
     "data": {
      "text/plain": [
       "array([0.38260375, 0.15472807, 0.46266818])"
      ]
     },
     "execution_count": 29,
     "metadata": {},
     "output_type": "execute_result"
    }
   ],
   "source": [
    "np.linalg.solve(A, v)"
   ]
  },
  {
   "cell_type": "markdown",
   "id": "ba47890d",
   "metadata": {},
   "source": [
    "The solution to $Ax=v$ can be also computed as $x=A^{-1}v$ as\n",
    "follows:"
   ]
  },
  {
   "cell_type": "code",
   "execution_count": 31,
   "id": "e2c98c9c",
   "metadata": {},
   "outputs": [
    {
     "data": {
      "text/plain": [
       "array([0.38260375, 0.15472807, 0.46266818])"
      ]
     },
     "execution_count": 31,
     "metadata": {},
     "output_type": "execute_result"
    }
   ],
   "source": [
    "np.dot(np.linalg.inv(A), v)"
   ]
  },
  {
   "cell_type": "markdown",
   "id": "7b74ce82",
   "metadata": {},
   "source": [
    "Powers of \\(A\\) can be computed as:"
   ]
  },
  {
   "cell_type": "code",
   "execution_count": 33,
   "id": "ef280dcd",
   "metadata": {},
   "outputs": [
    {
     "data": {
      "text/plain": [
       "array([[-2.80229724,  0.39583437,  2.76651959],\n",
       "       [ 0.12572728, -1.39301724,  0.84621677],\n",
       "       [ 3.74250756,  3.24338756,  4.51654028]])"
      ]
     },
     "execution_count": 33,
     "metadata": {},
     "output_type": "execute_result"
    }
   ],
   "source": [
    "np.linalg.matrix_power(A, 5)"
   ]
  },
  {
   "cell_type": "markdown",
   "id": "b7d0f933",
   "metadata": {},
   "source": [
    "### Logic operations"
   ]
  },
  {
   "cell_type": "markdown",
   "id": "b3cc3288",
   "metadata": {},
   "source": [
    "Here are some basic logic operations:"
   ]
  },
  {
   "cell_type": "code",
   "execution_count": 35,
   "id": "e087f756",
   "metadata": {},
   "outputs": [
    {
     "data": {
      "text/plain": [
       "False"
      ]
     },
     "execution_count": 35,
     "metadata": {},
     "output_type": "execute_result"
    }
   ],
   "source": [
    "2 == 3"
   ]
  },
  {
   "cell_type": "code",
   "execution_count": 36,
   "id": "f9b9a474",
   "metadata": {},
   "outputs": [
    {
     "data": {
      "text/plain": [
       "True"
      ]
     },
     "execution_count": 36,
     "metadata": {},
     "output_type": "execute_result"
    }
   ],
   "source": [
    "2 <= 3"
   ]
  },
  {
   "cell_type": "code",
   "execution_count": 37,
   "id": "2234ea34",
   "metadata": {},
   "outputs": [
    {
     "data": {
      "text/plain": [
       "True"
      ]
     },
     "execution_count": 37,
     "metadata": {},
     "output_type": "execute_result"
    }
   ],
   "source": [
    "(2==2) or (1<0)"
   ]
  },
  {
   "cell_type": "code",
   "execution_count": 38,
   "id": "ba7be7d8",
   "metadata": {},
   "outputs": [
    {
     "data": {
      "text/plain": [
       "False"
      ]
     },
     "execution_count": 38,
     "metadata": {},
     "output_type": "execute_result"
    }
   ],
   "source": [
    "(2==2) and (1<0)"
   ]
  },
  {
   "cell_type": "code",
   "execution_count": 39,
   "id": "4ef6f2b3",
   "metadata": {},
   "outputs": [
    {
     "data": {
      "text/plain": [
       "True"
      ]
     },
     "execution_count": 39,
     "metadata": {},
     "output_type": "execute_result"
    }
   ],
   "source": [
    "(4 % 2) == 0 # Check if 4 is an even number"
   ]
  },
  {
   "cell_type": "code",
   "execution_count": 40,
   "id": "d7478629",
   "metadata": {},
   "outputs": [
    {
     "data": {
      "text/plain": [
       "False"
      ]
     },
     "execution_count": 40,
     "metadata": {},
     "output_type": "execute_result"
    }
   ],
   "source": [
    "(5 % 2) == 0"
   ]
  },
  {
   "cell_type": "code",
   "execution_count": 41,
   "id": "73b75c1f",
   "metadata": {},
   "outputs": [
    {
     "data": {
      "text/plain": [
       "True"
      ]
     },
     "execution_count": 41,
     "metadata": {},
     "output_type": "execute_result"
    }
   ],
   "source": [
    "(5 % 2) == 1 # Check if 5 is an odd number"
   ]
  },
  {
   "cell_type": "markdown",
   "id": "9f2f154d",
   "metadata": {},
   "source": [
    "### Defining functions"
   ]
  },
  {
   "cell_type": "markdown",
   "id": "a4fe823c",
   "metadata": {},
   "source": [
    "There are two  ways to define a function. Here is the basic syntax:"
   ]
  },
  {
   "cell_type": "code",
   "execution_count": 42,
   "id": "0d5c3764",
   "metadata": {},
   "outputs": [],
   "source": [
    "def squareit(x):\n",
    "    return x**2"
   ]
  },
  {
   "cell_type": "code",
   "execution_count": 43,
   "id": "f33b8c18",
   "metadata": {},
   "outputs": [
    {
     "data": {
      "text/plain": [
       "9"
      ]
     },
     "execution_count": 43,
     "metadata": {},
     "output_type": "execute_result"
    }
   ],
   "source": [
    "squareit(3)"
   ]
  },
  {
   "cell_type": "markdown",
   "id": "2398a4e6",
   "metadata": {},
   "source": [
    "There is also a compact form to define a function, if the body of the function is a short, simple expression:"
   ]
  },
  {
   "cell_type": "code",
   "execution_count": 44,
   "id": "10bec7eb",
   "metadata": {},
   "outputs": [],
   "source": [
    "cubeit = lambda x: x**3 "
   ]
  },
  {
   "cell_type": "code",
   "execution_count": 45,
   "id": "16e5cb15",
   "metadata": {},
   "outputs": [
    {
     "data": {
      "text/plain": [
       "125"
      ]
     },
     "execution_count": 45,
     "metadata": {},
     "output_type": "execute_result"
    }
   ],
   "source": [
    "cubeit(5)"
   ]
  },
  {
   "cell_type": "markdown",
   "id": "225ac0ad",
   "metadata": {},
   "source": [
    "Suppose we want to pick the elements of an array that are greater than 0. This can be done using:"
   ]
  },
  {
   "cell_type": "code",
   "execution_count": 47,
   "id": "ed66da0b",
   "metadata": {},
   "outputs": [
    {
     "data": {
      "text/plain": [
       "array([3, 4, 5])"
      ]
     },
     "execution_count": 47,
     "metadata": {},
     "output_type": "execute_result"
    }
   ],
   "source": [
    "x = np.array([-2,3,4,5,-3,0])\n",
    "x[x>0]"
   ]
  },
  {
   "cell_type": "markdown",
   "id": "c9f9ce1e",
   "metadata": {},
   "source": [
    "To count the number of elements that are greater than $0$ in the array above, use"
   ]
  },
  {
   "cell_type": "code",
   "execution_count": 48,
   "id": "e2637da6",
   "metadata": {},
   "outputs": [
    {
     "data": {
      "text/plain": [
       "3"
      ]
     },
     "execution_count": 48,
     "metadata": {},
     "output_type": "execute_result"
    }
   ],
   "source": [
    "x[x>0].size"
   ]
  },
  {
   "cell_type": "markdown",
   "id": "652d0aed",
   "metadata": {},
   "source": [
    "### Types"
   ]
  },
  {
   "cell_type": "markdown",
   "id": "04e54dc6",
   "metadata": {},
   "source": [
    "In Python, there are several types for integers and floating-point\n",
    "numbers such as int8, int64, float32, float64, and more advanced types\n",
    "for Boolean variables and strings. When we write a\n",
    "function, we do not have to declare the type of its variables: Python\n",
    "figures what the correct type is when the code is compiled. This is\n",
    "called a dynamic type system. For example, consider the\n",
    "**squareit** function we defined before:"
   ]
  },
  {
   "cell_type": "code",
   "execution_count": 49,
   "id": "a380774e",
   "metadata": {},
   "outputs": [],
   "source": [
    "def squareit(x):\n",
    "    return x**2"
   ]
  },
  {
   "cell_type": "markdown",
   "id": "04b24433",
   "metadata": {},
   "source": [
    "The type of $x$ is not declared in the function definition. We can\n",
    "call it with real or integer inputs, and Python will know what to do:"
   ]
  },
  {
   "cell_type": "code",
   "execution_count": 50,
   "id": "697c6926",
   "metadata": {},
   "outputs": [
    {
     "data": {
      "text/plain": [
       "25"
      ]
     },
     "execution_count": 50,
     "metadata": {},
     "output_type": "execute_result"
    }
   ],
   "source": [
    "squareit(5)"
   ]
  },
  {
   "cell_type": "code",
   "execution_count": 51,
   "id": "3d2b6474",
   "metadata": {},
   "outputs": [
    {
     "data": {
      "text/plain": [
       "30.25"
      ]
     },
     "execution_count": 51,
     "metadata": {},
     "output_type": "execute_result"
    }
   ],
   "source": [
    "squareit(5.5)"
   ]
  },
  {
   "cell_type": "markdown",
   "id": "dd813896",
   "metadata": {},
   "source": [
    "Now suppose the type of the input is a floating-point number. We can write another version of **squareit** that specifies the type."
   ]
  },
  {
   "cell_type": "code",
   "execution_count": 52,
   "id": "fc1fa691",
   "metadata": {},
   "outputs": [],
   "source": [
    "def typesquareit(x: float):\n",
    "    return x**2"
   ]
  },
  {
   "cell_type": "markdown",
   "id": "f1a561df",
   "metadata": {},
   "source": [
    "The input $x$ is now statically typed. However, the purpose here is to add an annotation to remind the users of the input type that should be used. In fact, Python interpreter will not perform any type checking automatically, unless some additional packages are used. In other words, there will be no difference between the *squareit* and *typesquareit* functions."
   ]
  },
  {
   "cell_type": "code",
   "execution_count": 53,
   "id": "e435c551",
   "metadata": {},
   "outputs": [
    {
     "data": {
      "text/plain": [
       "30.25"
      ]
     },
     "execution_count": 53,
     "metadata": {},
     "output_type": "execute_result"
    }
   ],
   "source": [
    "typesquareit(5.5)"
   ]
  },
  {
   "cell_type": "code",
   "execution_count": 54,
   "id": "4dbfee2d",
   "metadata": {},
   "outputs": [
    {
     "data": {
      "text/plain": [
       "25"
      ]
     },
     "execution_count": 54,
     "metadata": {},
     "output_type": "execute_result"
    }
   ],
   "source": [
    "typesquareit(5)"
   ]
  },
  {
   "cell_type": "markdown",
   "id": "15f2b3d2",
   "metadata": {},
   "source": [
    " It can be seen that the function *typesquareit* has no problem taking the integer $5$ as an input."
   ]
  },
  {
   "cell_type": "markdown",
   "id": "54680ffb",
   "metadata": {},
   "source": [
    "### Control flow"
   ]
  },
  {
   "cell_type": "markdown",
   "id": "a6968c20",
   "metadata": {},
   "source": [
    "Let's create a NumPy array of 10 entries of floating-type. A simple way to do it is by using the function **np.zeros(n)**, which creates an array of size $n$, and sets each entry to zero. (A similar function is **np.ones(n)** which creates an array of size $n$ with each entry set to 1.)"
   ]
  },
  {
   "cell_type": "code",
   "execution_count": 56,
   "id": "8a18896a",
   "metadata": {},
   "outputs": [
    {
     "data": {
      "text/plain": [
       "array([0., 0., 0., 0., 0., 0., 0., 0., 0., 0.])"
      ]
     },
     "execution_count": 56,
     "metadata": {},
     "output_type": "execute_result"
    }
   ],
   "source": [
    "values = np.zeros(10)\n",
    "values"
   ]
  },
  {
   "cell_type": "markdown",
   "id": "b847cf34",
   "metadata": {},
   "source": [
    "Now we will set the elements of the array to values of sin function."
   ]
  },
  {
   "cell_type": "code",
   "execution_count": 57,
   "id": "1f830cc1",
   "metadata": {},
   "outputs": [],
   "source": [
    "for n in range(10):\n",
    "    values[n] = np.sin((n+1)**2)"
   ]
  },
  {
   "cell_type": "code",
   "execution_count": 58,
   "id": "d8bd8175",
   "metadata": {},
   "outputs": [
    {
     "data": {
      "text/plain": [
       "array([ 0.84147098, -0.7568025 ,  0.41211849, -0.28790332, -0.13235175,\n",
       "       -0.99177885, -0.95375265,  0.92002604, -0.62988799, -0.50636564])"
      ]
     },
     "execution_count": 58,
     "metadata": {},
     "output_type": "execute_result"
    }
   ],
   "source": [
    "values"
   ]
  },
  {
   "cell_type": "markdown",
   "id": "415baa21",
   "metadata": {},
   "source": [
    "Here is another way to do this. Start with creating an empty array:"
   ]
  },
  {
   "cell_type": "code",
   "execution_count": 59,
   "id": "49b713a9",
   "metadata": {},
   "outputs": [],
   "source": [
    "newvalues = np.array([])"
   ]
  },
  {
   "cell_type": "markdown",
   "id": "05f803d3",
   "metadata": {},
   "source": [
    "Then use a **while** statement to generate the values, and append them to the array."
   ]
  },
  {
   "cell_type": "code",
   "execution_count": 61,
   "id": "1cd6139c",
   "metadata": {},
   "outputs": [
    {
     "data": {
      "text/plain": [
       "array([ 0.84147098, -0.7568025 ,  0.41211849, -0.28790332, -0.13235175,\n",
       "       -0.99177885, -0.95375265,  0.92002604, -0.62988799, -0.50636564,\n",
       "       -0.50636564])"
      ]
     },
     "execution_count": 61,
     "metadata": {},
     "output_type": "execute_result"
    }
   ],
   "source": [
    "n = 1\n",
    "while n<=10:\n",
    "    newvalues = np.append(values, np.sin(n**2))\n",
    "    n += 1\n",
    "newvalues"
   ]
  },
  {
   "cell_type": "markdown",
   "id": "4f38dadc",
   "metadata": {},
   "source": [
    "Here is how the **if** statement works:"
   ]
  },
  {
   "cell_type": "code",
   "execution_count": 62,
   "id": "855be4b5",
   "metadata": {},
   "outputs": [],
   "source": [
    "def f(x, y):\n",
    "    if x < y:\n",
    "        print(x, ' is less than ', y)\n",
    "    elif x > y:\n",
    "        print(x, ' is greater than ', y)\n",
    "    else:\n",
    "        print(x, ' is equal to ', y)"
   ]
  },
  {
   "cell_type": "code",
   "execution_count": 63,
   "id": "bed70a9b",
   "metadata": {},
   "outputs": [
    {
     "name": "stdout",
     "output_type": "stream",
     "text": [
      "2  is less than  3\n"
     ]
    }
   ],
   "source": [
    "f(2, 3)"
   ]
  },
  {
   "cell_type": "code",
   "execution_count": 64,
   "id": "dff08dd0",
   "metadata": {},
   "outputs": [
    {
     "name": "stdout",
     "output_type": "stream",
     "text": [
      "3  is greater than  2\n"
     ]
    }
   ],
   "source": [
    "f(3, 2)"
   ]
  },
  {
   "cell_type": "code",
   "execution_count": 65,
   "id": "59cb3e02",
   "metadata": {},
   "outputs": [
    {
     "name": "stdout",
     "output_type": "stream",
     "text": [
      "1  is equal to  1\n"
     ]
    }
   ],
   "source": [
    "f(1, 1)"
   ]
  },
  {
   "cell_type": "markdown",
   "id": "7731ddbf",
   "metadata": {},
   "source": [
    "In the next example we use **if** and **while** to find all the odd numbers in $\\{1,\\ldots,10\\}$.  The empty array created in the first line is of int64 type."
   ]
  },
  {
   "cell_type": "code",
   "execution_count": 66,
   "id": "e82ac97e",
   "metadata": {},
   "outputs": [
    {
     "data": {
      "text/plain": [
       "array([1, 3, 5, 7, 9], dtype=int64)"
      ]
     },
     "execution_count": 66,
     "metadata": {},
     "output_type": "execute_result"
    }
   ],
   "source": [
    "odds = np.array([]).astype('int64')\n",
    "n = 1\n",
    "while n <= 10:\n",
    "    if n%2 == 1:\n",
    "        odds = np.append(odds, n)\n",
    "    n += 1\n",
    "odds"
   ]
  },
  {
   "cell_type": "markdown",
   "id": "a458e82a",
   "metadata": {},
   "source": [
    "Here is an interesting property of the function **break**:"
   ]
  },
  {
   "cell_type": "code",
   "execution_count": 67,
   "id": "90082862",
   "metadata": {},
   "outputs": [
    {
     "name": "stdout",
     "output_type": "stream",
     "text": [
      "2\n"
     ]
    }
   ],
   "source": [
    "n = 1\n",
    "while n <= 20:\n",
    "    if n%2 == 0:\n",
    "        print(n)\n",
    "        break\n",
    "    n += 1"
   ]
  },
  {
   "cell_type": "markdown",
   "id": "8b55c07c",
   "metadata": {},
   "source": [
    " Why did the above execution stop at 2? Let's try\n",
    "removing **break**:"
   ]
  },
  {
   "cell_type": "code",
   "execution_count": 69,
   "id": "fe3f5802",
   "metadata": {},
   "outputs": [
    {
     "name": "stdout",
     "output_type": "stream",
     "text": [
      "2\n",
      "4\n",
      "6\n",
      "8\n",
      "10\n",
      "12\n",
      "14\n",
      "16\n",
      "18\n",
      "20\n"
     ]
    }
   ],
   "source": [
    "n = 1\n",
    "while n <= 20:\n",
    "    if n%2 == 0:\n",
    "        print(n)\n",
    "    n += 1"
   ]
  },
  {
   "cell_type": "markdown",
   "id": "3019ccf4",
   "metadata": {},
   "source": [
    "The function **break** causes the code to exit the while loop once it is evaluated."
   ]
  },
  {
   "cell_type": "markdown",
   "id": "9de1bc0c",
   "metadata": {},
   "source": [
    "### Random numbers"
   ]
  },
  {
   "cell_type": "markdown",
   "id": "43f58867",
   "metadata": {},
   "source": [
    " These are $5$ uniform random numbers from $(0,1)$."
   ]
  },
  {
   "cell_type": "code",
   "execution_count": 70,
   "id": "4cf2caee",
   "metadata": {},
   "outputs": [],
   "source": [
    "import numpy as np"
   ]
  },
  {
   "cell_type": "code",
   "execution_count": 71,
   "id": "ea2bdf80",
   "metadata": {},
   "outputs": [
    {
     "data": {
      "text/plain": [
       "array([0.3075755 , 0.92340412, 0.97882539, 0.6821323 , 0.02068239])"
      ]
     },
     "execution_count": 71,
     "metadata": {},
     "output_type": "execute_result"
    }
   ],
   "source": [
    "np.random.rand(5)"
   ]
  },
  {
   "cell_type": "markdown",
   "id": "40c6cb22",
   "metadata": {},
   "source": [
    "And these are random numbers from the standard normal distribution:"
   ]
  },
  {
   "cell_type": "code",
   "execution_count": 72,
   "id": "1a2a90fc",
   "metadata": {},
   "outputs": [
    {
     "data": {
      "text/plain": [
       "array([0.67226993, 0.31874673, 0.65879958, 0.85224441, 1.01491243])"
      ]
     },
     "execution_count": 72,
     "metadata": {},
     "output_type": "execute_result"
    }
   ],
   "source": [
    "np.random.randn(5)"
   ]
  },
  {
   "cell_type": "markdown",
   "id": "57f1355c",
   "metadata": {},
   "source": [
    "Here is a frequency histogram of $10^5$ random numbers from the standard normal\n",
    "distribution using $50$ bins:"
   ]
  },
  {
   "cell_type": "code",
   "execution_count": 73,
   "id": "5823e634",
   "metadata": {},
   "outputs": [
    {
     "data": {
      "image/png": "[encoded data removed]",
      "text/plain": [
       "<Figure size 432x288 with 1 Axes>"
      ]
     },
     "metadata": {
      "needs_background": "light"
     },
     "output_type": "display_data"
    }
   ],
   "source": [
    "y = np.random.randn(10**5)\n",
    "plt.hist(y, 50);"
   ]
  },
  {
   "cell_type": "markdown",
   "id": "1966bf03",
   "metadata": {},
   "source": [
    "Sometimes we are interested in relative frequency histograms where the\n",
    "height of each bin is the relative frequency of the numbers in the bin.\n",
    "Adding the option \"density=true\" outputs a relative frequency histogram:"
   ]
  },
  {
   "cell_type": "code",
   "execution_count": 74,
   "id": "e4873e4f",
   "metadata": {},
   "outputs": [
    {
     "data": {
      "image/png": "[encoded data removed]",
      "text/plain": [
       "<Figure size 432x288 with 1 Axes>"
      ]
     },
     "metadata": {
      "needs_background": "light"
     },
     "output_type": "display_data"
    }
   ],
   "source": [
    "y = np.random.randn(10**5)\n",
    "plt.hist(y, 50, density=True);"
   ]
  },
  {
   "cell_type": "markdown",
   "id": "6bcce8d8",
   "metadata": {},
   "source": [
    "**Excercise 1.2**\n",
    "\n",
    "In Python you can compute the factorial of a positive integer $n$\n",
    "by the built-in function **factorial(n)}** from the subpackage *special*\n",
    "in SciPy (**scipy.special.factorial(n)**). Write your own\n",
    "version of this function, called $factorial2$, using a for loop.\n",
    "Use the **time.time()** function to compare the execution time of\n",
    "your version and the built-in version of the factorial function."
   ]
  },
  {
   "cell_type": "markdown",
   "id": "92e7dfec",
   "metadata": {},
   "source": [
    "**Excercise 1.3**\n",
    "Write a Python code to estimate the value of  $\\pi$ using the following procedure: Place a circle of diameter one in the unit square. Generate 10,000 pairs of random numbers $(u,v)$ from the unit square. Count the number of pairs $(u,v)$ that fall into the circle, and call this number  $n$. Then  $n/10000$ is approximately the area of the circle. (This approach is known as the Monte Carlo method.)"
   ]
  },
  {
   "cell_type": "markdown",
   "id": "903cda86",
   "metadata": {},
   "source": [
    "**Excercise 1.4**\n",
    "Consider the following function\n",
    "\\begin{equation*}\n",
    "f(x,n)=\\sum_{i=1}^n \\prod _{j=1}^i x^{n-j+1}.\n",
    "\\end{equation*}\n",
    "\n",
    "a. Compute $f(2,3)$ by hand.\n",
    "\n",
    "b. Write a Python code that computes $f$. Verify $f(2,3)$ matches your answer above."
   ]
  },
  {
   "cell_type": "markdown",
   "id": "288c9c2e",
   "metadata": {},
   "source": [
    "## Computer arithmetic"
   ]
  },
  {
   "cell_type": "markdown",
   "id": "e148b64d",
   "metadata": {},
   "source": [
    "The way computers store numbers and perform computations could surprise\n",
    "the beginner. In Python if you type $(\\sqrt{3})^{2}$ the result will\n",
    "be 2.9....96, where 9 is repeated 15 times. Here are two obvious\n",
    "but fundamental differences in the way computers do arithmetic:\n",
    "\n",
    "- only finitely many numbers can be represented in a computer;\n",
    "- a number represented in a computer can only have finitely many digits.\n",
    "\n",
    "Therefore the numbers that can be represented in a computer exactly\n",
    "is only a subset of rational numbers. Anytime the computer performs\n",
    "an operation whose outcome is not a number that can be represented\n",
    "exactly in the computer, an approximation will replace the exact number.\n",
    "This is called the *roundoff error*: error produced when a computer\n",
    "is used to perform real number calculations."
   ]
  },
  {
   "cell_type": "markdown",
   "id": "f31ebf1a",
   "metadata": {},
   "source": [
    "### Floating-point representation of real numbers"
   ]
  },
  {
   "cell_type": "markdown",
   "id": "a569355a",
   "metadata": {},
   "source": [
    "Here is a general model for representing real numbers in a computer:"
   ]
  },
  {
   "cell_type": "markdown",
   "id": "b9841e36",
   "metadata": {},
   "source": [
    "```{math}\n",
    ":label: float_pt_general\n",
    "x=s(.a_{1}a_{2}...a_{t})_{\\beta}\\times\\beta^{e}\n",
    "```"
   ]
  },
  {
   "cell_type": "markdown",
   "id": "f74e8437",
   "metadata": {},
   "source": [
    "where\n",
    "\n",
    "\\begin{align*}\n",
    "s & \\rightarrow\\text{sign of } x=\\pm 1\\\\\n",
    "e & \\rightarrow\\text{exponent, with bounds } L\\le e\\leq U\\\\\n",
    "(.a_{1}...a_{t})_{\\beta} & =\\frac{a_{1}}{\\beta}+\\frac{a_{2}}{\\beta^{2}}+...+\\frac{a_{t}}{\\beta^{t}};\\text{ the mantissa}\\\\\n",
    "\\beta & \\rightarrow\\text{base}\\\\\n",
    "t & \\rightarrow\\text{number of digits; the precision.}\n",
    "\\end{align*}"
   ]
  },
  {
   "cell_type": "markdown",
   "id": "3f12079d",
   "metadata": {},
   "source": [
    "In the floating-point representation {eq}`float_pt_general`,\n",
    "if we specify $e$ in such a way that $a_{1}\\neq 0,$ then the representation\n",
    "will be unique. This is called the **normalized** floating-point\n",
    "representation. For example if $\\beta=10,$ in the normalized floating-point\n",
    "we would write $0.012$ as $0.12\\times10^{-1}$, instead of choices\n",
    "like $0.012 \\times 10^{0}$ or $0.0012 \\times 10$.\n",
    "\n",
    "In most computers today, the base is $\\beta=2.$ Bases 8 and 16 were\n",
    "used in old IBM mainframes in the past. Some handheld calculators\n",
    "use base 10. An interesting historical example is a short-lived\n",
    "computer named Setun developed at Moscow State University which used base 3.\n",
    "\n",
    "There are several choices to make in the general floating-point model\n",
    "{eq}`float_pt_general` for the values of $s,\\beta, t,e$. The IEEE 64-bit floating-point representation \n",
    "is the specific model used in most computers today:"
   ]
  },
  {
   "cell_type": "markdown",
   "id": "7bec85c5",
   "metadata": {},
   "source": [
    "```{math}\n",
    ":label: IEEE\n",
    "x=(-1)^{s}(1.a_{2}a_{3}...a_{53})_{2}2^{e-1023}.\n",
    "```"
   ]
  },
  {
   "cell_type": "markdown",
   "id": "56c3364d",
   "metadata": {},
   "source": [
    "Some comments:\n",
    "\n",
    "- Notice how $s$ appears in different forms in equations {eq}`float_pt_general` and {eq}`IEEE`. In {eq}`IEEE`, $s$ is either 0 or 1. If $s=0$, then $x$ is positive. If $s=1$, $x$ is negative.\n",
    "\n",
    "- Since $\\beta=2,$ in the normalized floating-point representation of $x$ the first (nonzero) digit after the decimal point has to be 1. Then we do not have to store this number. That's why we write $x$ as a decimal number starting at 1 in {eq}`IEEE`. Even though precision is $t=52,$ we are able to access up to the 53rd digit $a_{53}$.\n",
    "\n",
    "- The bounds for the exponent are: $0\\leq e\\leq 2047.$ We will discuss where 2047 comes from shortly. But first, let's discuss why we have $e-1023$ as the exponent in the representation {eq}`IEEE`, as opposed to simply $e$ (which we had in the representation {eq}`float_pt_general`. If the smallest exponent possible was $e=0$, then the smallest positive number the computer can generate would be $(1.00...0)_{2}=1$: certainly we need the computer to represent numbers less than 1! That's why we use the shifted expression $e-1023$, called the \\textbf{biased exponent},  in the representation In {eq}`IEEE`. Note that the bounds for the biased exponent are $-1023\\leq e-1023 \\leq 1024.$\n",
    "\n",
    "Here is a schema that illustrates how the physical bits of a computer\n",
    "correspond to the representation above. Each cell in the table below,\n",
    "numbered 1 through 64, correspond to the physical bits in the computer\n",
    "memory."
   ]
  },
  {
   "cell_type": "markdown",
   "id": "2d4a7dc2",
   "metadata": {},
   "source": [
    "\\begin{equation*}\n",
    "\\begin{array}{|c|c|c|c|c|c|c|c|}\n",
    "\\hline\n",
    "1 & \\textcolor{blue}{2} & \\textcolor{blue}{3} & \\textcolor{blue}{\\ldots} & \\textcolor{blue}{12} & \\textcolor{red}{13} & \\textcolor{red}{\\ldots} & \\textcolor{red}{64}\\\\\n",
    "\\hline\n",
    "\\end{array}\n",
    "\\end{equation*}\n",
    "\n",
    "- The first bit is the sign bit: it stores the value for $s$, 0 or 1.\n",
    "- The blue bits 2 through 12 store the exponent $e$ (not $e-1023)$. Using 11 bits, one can generate the integers from 0 to $2^{11}-1=2047$. Here is how you get the smallest and largest values for $e$:\n",
    "\\begin{align*}\n",
    "e&=(00...0)_{2}=0\\\\\n",
    "e&=(11...1)_{2}=2^{0}+2^{1}+...+2^{10}=\\frac{2^{11}-1}{2-1}=2047.\n",
    "\\end{align*}\n",
    "- The red bits, and there are 52 of them, store the digits $a_{2}$"
   ]
  },
  {
   "cell_type": "markdown",
   "id": "b1517079",
   "metadata": {},
   "source": [
    "```{prf:example}\n",
    ":label: chap1_exa9\n",
    "\n",
    "Find the floating-point representation of 10.375.\n",
    "```"
   ]
  },
  {
   "cell_type": "markdown",
   "id": "31e2e955",
   "metadata": {},
   "source": [
    "**Solution.**\n",
    "\n",
    "You can check that $10=({\\color{cyan}{\\color{red}1}}{\\color{brown}{\\color{green}{\\color{green}0}}}{\\color{blue}1}{\\color{black}0})_{2}$\n",
    "and $0.375=(.0{\\color{blue}1}{\\color{green}1})_{2}$ by computing\n",
    "\\begin{align*}\n",
    "10 & ={\\color{black}0}\\times2^{0}+{\\color{blue}1}\\times2^{1}+{\\color{brown}{\\color{green}{\\color{green}0}}}\\times2^{2}+{\\color{cyan}{\\color{red}1}}\\times2^{3}\\\\\n",
    "0.375 & =0\\times2^{-1}+{\\color{blue}1}\\times2^{-2}+{\\color{green}1}\\times2^{-3}.\n",
    "\\end{align*}\n",
    "Then\n",
    "\\begin{equation*}\n",
    "10.375=(1010.011)_{2}=(1.010011)_{2}\\times2^{3}\n",
    "\\end{equation*}\n",
    "where $(1.010011)_{2}\\times2^{3}$ is the normalized floating-point representation of the number.\n",
    "Now we rewrite this in terms of the representation {eq}`IEEE`:\n",
    "\\begin{equation*}\n",
    "10.375=(-1)^{0}(1.010011)_{2}\\times2^{1026-1023}.\n",
    "\\end{equation*}\n",
    "Since $1026=(10000000010)_{2}$, the bit by bit representation is:"
   ]
  },
  {
   "cell_type": "markdown",
   "id": "b2d4bc4d",
   "metadata": {},
   "source": [
    "\\begin{equation*}\n",
    "\\begin{array}{|c||c|c|c|c|c|c|c|c|c|c|c||c|c|c|c|c|c|c|c|c|}\n",
    "\\hline\n",
    "0 & \\textcolor{blue}{1} & \\textcolor{blue}{0} & \\textcolor{blue}{0} & \\textcolor{blue}{0} & \\textcolor{blue}{0} & \\textcolor{blue}{0} & \\textcolor{blue}{0} & \\textcolor{blue}{0} & \\textcolor{blue}{0} & \\textcolor{blue}{1} & \\textcolor{blue}{0} & \\textcolor{red}{0} & \\textcolor{red}{1} & \\textcolor{red}{0} & \\textcolor{red}{0} & \\textcolor{red}{1} & \\textcolor{red}{1} & 0 & \\ldots & 0\\\\\n",
    "\\hline\n",
    "\\end{array}\n",
    "\\end{equation*}"
   ]
  },
  {
   "cell_type": "markdown",
   "id": "55710004",
   "metadata": {},
   "source": [
    "Notice the first sign bit is 0 since the number is positive. The next\n",
    "11 bits (in blue) represent the exponent $e=1026$, and the next group of\n",
    "red bits are the mantissa, filled with 0's after the last digit of\n",
    "the mantissa. In Python, although there is no built-in function that produces\n",
    "the bit by bit representation of a number, we can define the following function named *float2bin*, which provides the bit representation of a floating-point number, based on the *struct* package:"
   ]
  },
  {
   "cell_type": "code",
   "execution_count": 76,
   "id": "55a14785",
   "metadata": {},
   "outputs": [],
   "source": [
    "import struct\n",
    "def float2bin(f):\n",
    "    (d,) = struct.unpack(\">Q\", struct.pack(\">d\", f))\n",
    "    return f'{d:064b}'"
   ]
  },
  {
   "cell_type": "code",
   "execution_count": 77,
   "id": "97c26a45",
   "metadata": {},
   "outputs": [
    {
     "data": {
      "text/plain": [
       "'0100000000100100110000000000000000000000000000000000000000000000'"
      ]
     },
     "execution_count": 77,
     "metadata": {},
     "output_type": "execute_result"
    }
   ],
   "source": [
    "float2bin(10.375)"
   ]
  },
  {
   "cell_type": "markdown",
   "id": "f37380af",
   "metadata": {},
   "source": [
    "#### Special cases: zero, infinity, NAN"
   ]
  },
  {
   "cell_type": "markdown",
   "id": "2d6ff1d3",
   "metadata": {},
   "source": [
    "In the floating-point arithmetic there are two zeros: $+0.0$ and $-0.0$, and they have special representations. In the representation of zero, all exponent and mantissa bits are set to 0. The sign bit is 0 for $+0.0$, and 1, for $-0.0$:\n",
    "\\begin{equation*}\n",
    "0.0\\rightarrow\n",
    "\\begin{array}{|c|c|c|c|c|c|c|}\n",
    "\\hline\n",
    "0 & \\textcolor{blue}{0} & \\textcolor{blue}{\\text{all zeros}} & \\textcolor{blue}{0} & \\textcolor{red}{0} & \\textcolor{red}{\\text{all zeros}} & \\textcolor{red}{0}\\\\\n",
    "\\hline\n",
    "\\end{array}\n",
    "\\end{equation*}\\\n",
    "\n",
    "\\begin{equation*}\n",
    "-0.0\\rightarrow \n",
    "\\begin{array}{|c|c|c|c|c|c|c|}\n",
    "\\hline\n",
    "1 & \\textcolor{blue}{0} & \\textcolor{blue}{\\text{all zeros}} & \\textcolor{blue}{0} & \\textcolor{red}{0} & \\textcolor{red}{\\text{all zeros}} & \\textcolor{red}{0}\\\\\n",
    "\\hline\n",
    "\\end{array}\n",
    "\\end{equation*}"
   ]
  },
  {
   "cell_type": "markdown",
   "id": "9ac0c79b",
   "metadata": {},
   "source": [
    "When the exponent bits are set to zero, we have $e=0$ and thus $e-1023=-1023.$\n",
    "This arrangement, all exponent bits set to zero, is reserved for\n",
    "$\\pm 0.0$ and **subnormal numbers**. Subnormal\n",
    "numbers are an exception to our normalized floating-point representation,\n",
    "an exception that is useful in various ways. For details see {cite}`goldberg`."
   ]
  },
  {
   "cell_type": "markdown",
   "id": "3872e0aa",
   "metadata": {},
   "source": [
    "Here is how plus and minus infinity is represented in the computer:\n",
    "\\begin{equation*}\n",
    "\\infty\\rightarrow\n",
    "\\begin{array}{|c|c|c|c|c|c|c|}\n",
    "\\hline\n",
    "0 & \\textcolor{blue}{1} & \\textcolor{blue}{\\text{all ones}} & \\textcolor{blue}{1} & \\textcolor{red}{0} & \\textcolor{red}{\\text{all zeros}} & \\textcolor{red}{0}\\\\\n",
    "\\hline\n",
    "\\end{array}\n",
    "\\end{equation*}\\\n",
    "\n",
    "\\begin{equation*}\n",
    "-\\infty\\rightarrow \n",
    "\\begin{array}{|c|c|c|c|c|c|c|}\n",
    "\\hline\n",
    "1 & \\textcolor{blue}{1} & \\textcolor{blue}{\\text{all ones}} & \\textcolor{blue}{1} & \\textcolor{red}{0} & \\textcolor{red}{\\text{all zeros}} & \\textcolor{red}{0}\\\\\n",
    "\\hline\n",
    "\\end{array}\n",
    "\\end{equation*}"
   ]
  },
  {
   "cell_type": "markdown",
   "id": "f4633ce7",
   "metadata": {},
   "source": [
    "When the exponent bits are set to one, we have $e=2047$ and thus\n",
    "$e-1023=1024.$ This arrangement is reserved for $\\pm \\infty$ as\n",
    "well as other special values such as NaN (not-a-number).\n",
    "\n",
    "In conclusion, even though $-1023\\leq e-1023\\leq 1024$ in {eq}`IEEE`,\n",
    "when it comes to representing non-zero real numbers, we only have\n",
    "access to exponents in the following range: $-1022\\leq e-1023\\leq 1023.$\n",
    "\n",
    "Therefore, the smallest positive real number that can be represented in a computer is\n",
    "\\begin{equation*}\n",
    "x=(-1)^{0}(1.00\\ldots0)_{2}\\times2^{-1022}=2^{-1022}\\approx0.2\\times10^{-307}\n",
    "\\end{equation*}\n",
    "and the largest is\n",
    "\\begin{align*}\n",
    "x=(-1)^{0}(1.11\\ldots1)_{2}\\times2^{1023}&=\\left(1+\\frac{1}{2}+\\frac{1}{2^{2}}+...+\\frac{1}{2^{52}}\\right)\\times2^{1023}\\\\\n",
    "&=(2-2^{-52})2^{1023}\\\\\n",
    "&\\approx0.18\\times10^{309}.\n",
    "\\end{align*}\n",
    "\n",
    "During a calculation, if a number\n",
    "less than the smallest floating-point number is obtained, then we obtain\n",
    "the **underflow error**. A number greater than the largest\n",
    "gives **overflow error**."
   ]
  },
  {
   "cell_type": "markdown",
   "id": "74986f80",
   "metadata": {},
   "source": [
    "**Excercise 1.5**\n",
    "\n",
    "Consider the following toy model for a normalized floating-point representation\n",
    "in base 2: $x=(-1)^{s}(1.a_{2}a_{3})_{2}\\times2^{e}$ where $-1\\leq e\\leq1$.\n",
    "Find all positive machine numbers (there are 12 of them) that can\n",
    "be represented in this model. Convert the numbers to base 10, and\n",
    "then carefully plot them on the number line, by hand, and comment\n",
    "on how the numbers are spaced."
   ]
  },
  {
   "cell_type": "markdown",
   "id": "95353adf",
   "metadata": {},
   "source": [
    "### Representation of integers"
   ]
  },
  {
   "cell_type": "code",
   "execution_count": null,
   "id": "96baaffc",
   "metadata": {},
   "outputs": [],
   "source": []
  },
  {
   "cell_type": "code",
   "execution_count": null,
   "id": "c691863c",
   "metadata": {},
   "outputs": [],
   "source": []
  },
  {
   "cell_type": "code",
   "execution_count": null,
   "id": "96d34f06",
   "metadata": {},
   "outputs": [],
   "source": []
  },
  {
   "cell_type": "markdown",
   "id": "f55f0198",
   "metadata": {},
   "source": [
    "```{bibliography}\n",
    "```"
   ]
  },
  {
   "cell_type": "code",
   "execution_count": null,
   "id": "308f560b",
   "metadata": {},
   "outputs": [],
   "source": []
  },
  {
   "cell_type": "code",
   "execution_count": null,
   "id": "219d3411",
   "metadata": {},
   "outputs": [],
   "source": []
  },
  {
   "cell_type": "code",
   "execution_count": null,
   "id": "27de4327",
   "metadata": {},
   "outputs": [],
   "source": []
  },
  {
   "cell_type": "code",
   "execution_count": null,
   "id": "e80ad163",
   "metadata": {},
   "outputs": [],
   "source": []
  },
  {
   "cell_type": "code",
   "execution_count": null,
   "id": "7e9fe39b",
   "metadata": {},
   "outputs": [],
   "source": []
  },
  {
   "cell_type": "code",
   "execution_count": null,
   "id": "bcb0aef2",
   "metadata": {},
   "outputs": [],
   "source": []
  }
 ],
 "metadata": {
  "kernelspec": {
   "display_name": "Python 3 (ipykernel)",
   "language": "python",
   "name": "python3"
  },
  "language_info": {
   "codemirror_mode": {
    "name": "ipython",
    "version": 3
   },
   "file_extension": ".py",
   "mimetype": "text/x-python",
   "name": "python",
   "nbconvert_exporter": "python",
   "pygments_lexer": "ipython3",
   "version": "3.9.7"
  },
  "latex_envs": {
   "LaTeX_envs_menu_present": true,
   "autoclose": false,
   "autocomplete": true,
   "bibliofile": "biblio.bib",
   "cite_by": "apalike",
   "current_citInitial": 1,
   "eqLabelWithNumbers": true,
   "eqNumInitial": 1,
   "hotkeys": {
    "equation": "Ctrl-E",
    "itemize": "Ctrl-I"
   },
   "labels_anchors": false,
   "latex_user_defs": false,
   "report_style_numbering": false,
   "user_envs_cfg": false
  }
 },
 "nbformat": 4,
 "nbformat_minor": 5
}
