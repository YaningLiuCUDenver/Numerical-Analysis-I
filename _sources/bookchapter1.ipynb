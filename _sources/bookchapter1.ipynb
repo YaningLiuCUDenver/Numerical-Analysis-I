{
 "cells": [
  {
   "cell_type": "markdown",
   "id": "6eda397c",
   "metadata": {},
   "source": [
    "# Chapter 1 Introduction"
   ]
  },
  {
   "cell_type": "markdown",
   "id": "649b7f8c",
   "metadata": {},
   "source": [
    "## Review of Calculus"
   ]
  },
  {
   "cell_type": "markdown",
   "id": "ffbc9377",
   "metadata": {},
   "source": [
    "There are several concepts and facts from Calculus that we need in Numerical Analysis. In this section we will list some definitions and theorems that will be needed later. For the most part functions in this book refer to real valued functions defined on real numbers $\\mathbf{R}$, or an interval $(a,b)\\subset\\mathbf{R}$."
   ]
  },
  {
   "cell_type": "markdown",
   "id": "736ba73c",
   "metadata": {},
   "source": [
    "```{prf:definition}\n",
    ":label: chap1_def1\n",
    "\n",
    "1. A function $f$ has the limit $L$ at $x_{0}$, written as $\\lim_{x\\rightarrow x_{0}}f(x)=L,$\n",
    "if for any $\\epsilon>0,$ there exists $\\delta>0$ such that $|f(x)-L|<\\epsilon$\n",
    "whenever $0<|x-x_{0}|<\\delta$.\n",
    "\n",
    "2. A function $f$ is continuous at $x_{0}$ if $\\lim_{x\\rightarrow x_{0}}f(x)=f(x_{0}),$ and\n",
    "$f$ is continuous on a set $A$ if it is continuous at each $x_{0}\\in A$.\n",
    "\n",
    "3. Let $\\{x_{n}\\}_{n=1}^{\\infty}$ be an infinite sequence of real numbers.\n",
    "The sequence has the limit $x,$ i.e., $\\lim_{n\\rightarrow\\infty}x_{n}=x$\n",
    "(or, written as $x_{n}\\rightarrow x$ as $n\\rightarrow\\infty)$ if\n",
    "for any $\\epsilon>0,$ there exists an integer $N>0$ such that $|x_{n}-x|<\\epsilon$\n",
    "whenever $n>N$.\n",
    "```"
   ]
  },
  {
   "cell_type": "markdown",
   "id": "7ed46c0f",
   "metadata": {},
   "source": [
    "```{prf:theorem}\n",
    ":label: chap1_thm2\n",
    "\n",
    "The following are equivalent for a real valued function $f:$\n",
    "1. $f$ is continuous at $x_{0}$\n",
    "2. If $\\{x_{n}\\}_{n=1}^{\\infty}$ is any sequence converging to $x_{0},$\n",
    "then $\\lim_{n\\rightarrow\\infty}f(x_{n})=f(x_{0})$.\n",
    "```"
   ]
  },
  {
   "cell_type": "markdown",
   "id": "2b6f18a4",
   "metadata": {},
   "source": [
    "```{prf:definition}\n",
    ":label: chap1_def3\n",
    "We say $f(x)$ is differentiable at $x_{0}$ if\n",
    "\\begin{equation*}\n",
    "f'(x_{0})=\\lim_{x\\rightarrow x_{0}}\\frac{f(x)-f(x_{0})}{x-x_{0}}=\\lim_{h\\rightarrow0}\\frac{f(x_{0}+h)-f(x_{0})}{h}\n",
    "\\end{equation*}\n",
    "exists.\n",
    "```"
   ]
  },
  {
   "cell_type": "markdown",
   "id": "e12e3366",
   "metadata": {},
   "source": [
    "**Notation:**\n",
    "\n",
    "$C^{n}(A)$ denotes the set of all functions $f$ such that $f$ and its first $n$ derivatives are continuous on $A.$ If $f$ is only continuous on\n",
    "$A$, then we write $f\\in C^{0}(A).$ $C^{\\infty}(A)$ consists of\n",
    "functions that have derivatives of all orders, for example, $f(x)=\\sin x$\n",
    "or $f(x)=e^{x}$."
   ]
  },
  {
   "cell_type": "markdown",
   "id": "c55e1a93",
   "metadata": {},
   "source": [
    "The following well-known theorems of Calculus will often be used in the remainder of the book.\n",
    "\n",
    "```{prf:theorem} Mean value theorem\n",
    ":label: chap1_thm4\n",
    "    \n",
    "If $f\\in C^{0}[a,b]$ and $f$ is differentiable on $(a,b)$, then there exists $c\\in(a,b)$ such that $f'(c)=\\frac{f(b)-f(a)}{b-a}$.\n",
    "```"
   ]
  },
  {
   "cell_type": "markdown",
   "id": "c6de8021",
   "metadata": {},
   "source": [
    "```{prf:theorem} Extreme value theorem\n",
    ":label: chap1_thm5\n",
    "    \n",
    "If $f\\in C^{0}[a,b]$ and $f$ is differentiable on $(a,b)$, then\n",
    "there exists $c\\in(a,b)$ such that $f'(c)=\\frac{f(b)-f(a)}{b-a}$.\n",
    "```"
   ]
  },
  {
   "cell_type": "markdown",
   "id": "ec80c970",
   "metadata": {},
   "source": [
    "```{prf:theorem} Intermediate value theorem\n",
    ":label: chap1_thm6\n",
    "If $f\\in C^{0}[a,b]$ and $K$ is any number between $f(a)$ and\n",
    "$f(b)$, then there exists $c\\in(a,b)$ with $f(c)=K$.\n",
    "```"
   ]
  },
  {
   "cell_type": "markdown",
   "id": "23010e11",
   "metadata": {},
   "source": [
    "```{prf:theorem} Taylor's theorem\n",
    ":label: chap1_thm7\n",
    "Suppose $f\\in C^{n}[a,b]$ and $f^{(n+1)}$ exists on $(a,b),$\n",
    "and $x_{0}\\in(a,b).$ Then, for $x\\in (a,b)$\n",
    "\\begin{equation*}\n",
    "f(x)=P_{n}(x)+R_{n}(x)\n",
    "\\end{equation*}\n",
    "where $P_{n}$ is the $n$th order Taylor polynomial\n",
    "\\begin{equation*}\n",
    "P_{n}(x)=f(x_{0})+f'(x_{0})(x-x_{0})+f''(x_{0})\\frac{(x-x_{0})^{2}}{2!}+...+f^{(n)}(x_{0})\\frac{(x-x_{0})^{n}}{n!}\n",
    "\\end{equation*}\n",
    "and $R_{n}$ is the remainder term\n",
    "\\begin{equation*}\n",
    "R_{n}(x)=f^{(n+1)}(\\xi)\\frac{(x-x_{0})^{n+1}}{(n+1)!}\n",
    "\\end{equation*}\n",
    "for some $\\xi$ between $x$ and $x_{0}$.\n",
    "```"
   ]
  },
  {
   "cell_type": "markdown",
   "id": "29735aef",
   "metadata": {},
   "source": [
    "```{prf:example} \n",
    ":label: chap1_exa8\n",
    "Let $f(x)=x\\cos x -x.$\n",
    "1. Find $P_{3}(x)$ about $x_{0}=\\pi/2$ and use it to approximate $f(0.8).$\n",
    "2. Compute the exact value for $f(0.8)$, and the error $|f(0.8)-P_{3}(0.8)|.$\n",
    "3. Use the remainder term $R_{3}(x)$ to find an upper bound for the error $|f(0.8)-P_{3}(0.8)|.$ Compare the upper bound with the actual error found in part 2.        \n",
    "```      \n",
    "\n",
    "**Solution.**\n",
    "1. First note that $f(\\pi/2)=-\\pi/2$.\n",
    "    Differentiating $f$ we get:\n",
    "    \\begin{align*}\n",
    "    f'(x) & =\\cos x - x \\sin x -1 \\Rightarrow f'(\\pi/2)=-\\pi/2-1\\\\\n",
    "    f''(x) & =-2\\sin x -x \\cos x \\Rightarrow f''(\\pi/2)=-2\\\\\n",
    "    f'''(x) & =-3 \\cos x+x \\sin x\\Rightarrow f'''(\\pi/2)=\\pi/2.\n",
    "    \\end{align*}\n",
    "    Therefore\n",
    "    \\begin{equation*}\n",
    "    P_{3}(x)=-\\pi/2-(\\pi/2+1)(x-\\pi/2)-(x-\\pi/2)^2+\\frac{\\pi}{12} (x-\\pi/2)^3.\n",
    "    \\end{equation*}\n",
    "    Then we approximate $f(0.8)$ by\n",
    "    $P_{3}(0.8)=-0.3033$ (using 4-digits with rounding).\n",
    "    \n",
    "2. The exact value is $f(0.8)=-0.2426$ and the absolute error is $|f(0.8)-P_{3}(0.8)|=0.06062$.\n",
    "\n",
    "3. To find an upper bound for the error, write\n",
    "    \\begin{equation*}\n",
    "    |f(0.8)-P_{3}(0.8)|=|R_{3}(0.8)|\n",
    "    \\end{equation*}\n",
    "    where\n",
    "    \\begin{equation*}\n",
    "    R_{3}(0.8)=f^{(4)}(\\xi)\\frac{(0.8-\\pi/2)^{4}}{4!}\n",
    "    \\end{equation*}\n",
    "    and $\\xi$ is between $0.8$ and $\\pi/2$. We need to differentiate $f$\n",
    "    one more time: $f^{(4)}(x)=4\\sin x +x \\cos x.$\n",
    "    Since $0.8<\\xi<\\pi/2$, we can find an upper bound for $f^{(4)}(x),$\n",
    "    and thus an upper bound for $R_{3}(0.8),$ using triangle inequality:\n",
    "    \\begin{align*}\n",
    "    \\left|R_{3}(0.8)\\right| & =\\left|f^{(4)}(\\xi)\\frac{(0.8-\\pi/2)^{4}}{4!}\\right|=\\left|4 \\sin\\xi + \\xi \\cos \\xi\\right|(0.01471)\\\\\n",
    "     & \\leq 0.05883 | \\sin \\xi | + 0.01471 |\\xi| |\\cos \\xi|.\n",
    "    \\end{align*}\n",
    "    Note that on $0.8<\\xi<\\pi/2$, $\\sin\\xi$ is a positive increasing\n",
    "    function, and $|\\sin(\\xi)|<\\sin(\\pi/2)=1$. For the second term, we can\n",
    "    find an upper bound by observing $|\\xi|$ attains a maximum\n",
    "    value of $\\pi/2$ on $0.8<\\xi<\\pi/2$, and $\\cos\\xi$, which is a decreasing positive function on $0.8<\\xi<\\pi/2$, has a maximum value\n",
    "    of $\\cos{(0.8)}=0.6967$. Putting these together, we\n",
    "    get\n",
    "    \\begin{equation*}\n",
    "    \\left|R_{3}(0.8)\\right| < 0.05883 (1) + (0.01471) (\\pi/2) (0.6967) \\approx 0.07493.\n",
    "    \\end{equation*}\n",
    "    Therefore, our estimate for the actual error (which is 0.06062 from part 2) is 0.07493."
   ]
  },
  {
   "cell_type": "markdown",
   "id": "12093fe6",
   "metadata": {},
   "source": [
    "**Excercise 1.1**\n",
    "\n",
    "Find the second order Taylor polynomial for $f(x)=e^{x}\\sin x$ about $x_{0}=0$.\n",
    "\n",
    "a. Compute $P_{2}(0.4)$ to approximate $f(0.4)$. Use the remainder term $R_{2}(0.4)$ to find an upper bound for the error $|P_{2}(0.4)-f(0.4)|$. Compare the upper bound with the actual error.\n",
    "\n",
    "b. Compute $\\int_{0}^{1}P_{2}(x)dx$ to approximate $\\int_{0}^{1}f(x)dx$. Find an upper bound for the error using $\\int_{0}^{1}R_{2}(x)dx$,\n",
    "and compare it to the actual error."
   ]
  },
  {
   "cell_type": "markdown",
   "id": "0ae9c6aa",
   "metadata": {},
   "source": [
    "## Python basics"
   ]
  },
  {
   "cell_type": "markdown",
   "id": "374a9d14",
   "metadata": {},
   "source": [
    "We recommend using the free and open-source Python package manager Anaconda (Individual Edition \\url{https://www.anaconda.com/products/individual}). Go to the webpage and choose the installer according to your operating system. At the time of writing this book, Python Version 3.8 is installed by default, which is also the version we use in this book. There are different environments and editors to run Python. Here we will use the Jupyter environment, which will be ready after Anaconda is installed. There are several tutorials and other resources on Python at \\url{https://www.python.org/} where one can find up-to-date information on Python.\n",
    "\n",
    "The Jupyter environment uses the so-called Jupyter notebook where one can write and edit a Python code, run the code, and export the work into various file formats including Latex and pdf. Most of our interaction with Python will be through the Jupyter notebooks. Note that Anaconda, once installed, has already preinstalled a large number of commonly used Python packages, so it is not necessary to install new packages for the purpose of running the codes in this book.\n",
    "\n",
    "After installing Anaconda, open a Jupyter notebook by following Anaconda $\\rightarrow$ Jupyter Notebook $\\rightarrow$ new $\\rightarrow$ Python 3. Here is a screenshot of my notebook:\n",
    "\n",
    "![JupyterNotebook](../images/Notebook.png)"
   ]
  },
  {
   "cell_type": "markdown",
   "id": "a95f168f",
   "metadata": {},
   "source": [
    " Let's start with some basic computations."
   ]
  },
  {
   "cell_type": "code",
   "execution_count": 1,
   "id": "c6c91b63",
   "metadata": {
    "scrolled": true
   },
   "outputs": [
    {
     "data": {
      "text/plain": [
       "5"
      ]
     },
     "execution_count": 1,
     "metadata": {},
     "output_type": "execute_result"
    }
   ],
   "source": [
    "2+3"
   ]
  },
  {
   "cell_type": "markdown",
   "id": "4c35cadb",
   "metadata": {},
   "source": [
    "Now we import the **sin** and **log** function, as well as the $\\pi$ constant from the **math** package,"
   ]
  },
  {
   "cell_type": "code",
   "execution_count": 2,
   "id": "5adcfef0",
   "metadata": {
    "scrolled": true
   },
   "outputs": [],
   "source": [
    "from math import sin, pi, log"
   ]
  },
  {
   "cell_type": "markdown",
   "id": "a78c3723",
   "metadata": {},
   "source": [
    "and compute $\\sin{(\\pi/4)}$:"
   ]
  },
  {
   "cell_type": "code",
   "execution_count": 3,
   "id": "3da984ef",
   "metadata": {
    "scrolled": true
   },
   "outputs": [
    {
     "data": {
      "text/plain": [
       "0.7071067811865476"
      ]
     },
     "execution_count": 3,
     "metadata": {},
     "output_type": "execute_result"
    }
   ],
   "source": [
    "sin(pi/4)"
   ]
  },
  {
   "cell_type": "markdown",
   "id": "9b107596",
   "metadata": {},
   "source": [
    "One way to learn about a function is to search for it online in the\n",
    "Python documentation https://docs.python.org/3/. For example, the syntax\n",
    "for the logarithm function in the **math** package is $\\log (x[,b])$ where $b$ is the optional base. If $b$ is not provided, the natural logarithm of $x$ (to base $e$) is computed."
   ]
  },
  {
   "cell_type": "code",
   "execution_count": 4,
   "id": "69df1185",
   "metadata": {
    "scrolled": true
   },
   "outputs": [
    {
     "data": {
      "text/plain": [
       "2.0"
      ]
     },
     "execution_count": 4,
     "metadata": {},
     "output_type": "execute_result"
    }
   ],
   "source": [
    "log(4,2)"
   ]
  },
  {
   "cell_type": "markdown",
   "id": "83f6210d",
   "metadata": {},
   "source": [
    "### Numpy arrays"
   ]
  },
  {
   "cell_type": "markdown",
   "id": "e334929f",
   "metadata": {},
   "source": [
    "NumPy is a useful Python package for array data structure, random number generation, linear algebra algorithms, and so on. A NumPy array is a data structure that can be used to represent vectors and matrices, for which the computations are also made easier.  Import the NumPy package and define an alias (np) for it."
   ]
  },
  {
   "cell_type": "code",
   "execution_count": 5,
   "id": "20b8e81e",
   "metadata": {
    "scrolled": true
   },
   "outputs": [],
   "source": [
    "import numpy as np"
   ]
  },
  {
   "cell_type": "markdown",
   "id": "7987c511",
   "metadata": {},
   "source": [
    " Here is the basic syntax to create a $1$D NumPy array (representing a vector):"
   ]
  },
  {
   "cell_type": "code",
   "execution_count": 6,
   "id": "5b90a185",
   "metadata": {
    "scrolled": true
   },
   "outputs": [
    {
     "data": {
      "text/plain": [
       "array([10, 20, 30])"
      ]
     },
     "execution_count": 6,
     "metadata": {},
     "output_type": "execute_result"
    }
   ],
   "source": [
    "x = np.array([10, 20, 30])\n",
    "x"
   ]
  },
  {
   "cell_type": "markdown",
   "id": "0c42c4fb",
   "metadata": {},
   "source": [
    "The following line of code shows the entries of the created array are integers of 32 bits."
   ]
  },
  {
   "cell_type": "code",
   "execution_count": 7,
   "id": "10d51fcd",
   "metadata": {
    "scrolled": true
   },
   "outputs": [
    {
     "data": {
      "text/plain": [
       "dtype('int32')"
      ]
     },
     "execution_count": 7,
     "metadata": {},
     "output_type": "execute_result"
    }
   ],
   "source": [
    "x.dtype"
   ]
  },
  {
   "cell_type": "markdown",
   "id": "c75a9150",
   "metadata": {},
   "source": [
    "If we input a real, Python will change the type accordingly:"
   ]
  },
  {
   "cell_type": "code",
   "execution_count": 8,
   "id": "33950858",
   "metadata": {
    "scrolled": true
   },
   "outputs": [
    {
     "data": {
      "text/plain": [
       "array([10. , 20. , 30. ,  0.1])"
      ]
     },
     "execution_count": 8,
     "metadata": {},
     "output_type": "execute_result"
    }
   ],
   "source": [
    "x = np.array([10, 20, 30, 0.1])\n",
    "x"
   ]
  },
  {
   "cell_type": "code",
   "execution_count": 9,
   "id": "c293bb11",
   "metadata": {
    "scrolled": true
   },
   "outputs": [
    {
     "data": {
      "text/plain": [
       "dtype('float64')"
      ]
     },
     "execution_count": 9,
     "metadata": {},
     "output_type": "execute_result"
    }
   ],
   "source": [
    "x.dtype"
   ]
  },
  {
   "cell_type": "markdown",
   "id": "662c60b5",
   "metadata": {},
   "source": [
    "A 1D NumPy array does not assume a particular row or column arrangement of the data, and hence taking transpose for a 1D NumPy array is not valid. Here is another way to construct a 1D array, and some array operations:"
   ]
  },
  {
   "cell_type": "code",
   "execution_count": 10,
   "id": "fae2cede",
   "metadata": {
    "scrolled": true
   },
   "outputs": [
    {
     "data": {
      "text/plain": [
       "array([10, 20, 30, 40, 50])"
      ]
     },
     "execution_count": 10,
     "metadata": {},
     "output_type": "execute_result"
    }
   ],
   "source": [
    "x = np.array([10*i for i in range(1, 6)])\n",
    "x"
   ]
  },
  {
   "cell_type": "code",
   "execution_count": 11,
   "id": "c573176a",
   "metadata": {
    "scrolled": true
   },
   "outputs": [
    {
     "data": {
      "text/plain": [
       "50"
      ]
     },
     "execution_count": 11,
     "metadata": {},
     "output_type": "execute_result"
    }
   ],
   "source": [
    "x[-1]"
   ]
  },
  {
   "cell_type": "code",
   "execution_count": 12,
   "id": "89c63ef0",
   "metadata": {
    "scrolled": true
   },
   "outputs": [
    {
     "data": {
      "text/plain": [
       "10"
      ]
     },
     "execution_count": 12,
     "metadata": {},
     "output_type": "execute_result"
    }
   ],
   "source": [
    "min(x)"
   ]
  },
  {
   "cell_type": "code",
   "execution_count": 13,
   "id": "5a58ca5e",
   "metadata": {
    "scrolled": true
   },
   "outputs": [
    {
     "data": {
      "text/plain": [
       "150"
      ]
     },
     "execution_count": 13,
     "metadata": {},
     "output_type": "execute_result"
    }
   ],
   "source": [
    "np.sum(x)"
   ]
  },
  {
   "cell_type": "code",
   "execution_count": 14,
   "id": "994a6e23",
   "metadata": {
    "scrolled": true
   },
   "outputs": [
    {
     "data": {
      "text/plain": [
       "array([10, 20, 30, 40, 50, 99])"
      ]
     },
     "execution_count": 14,
     "metadata": {},
     "output_type": "execute_result"
    }
   ],
   "source": [
    "x = np.append(x, 99)\n",
    "x"
   ]
  },
  {
   "cell_type": "code",
   "execution_count": 15,
   "id": "3cb0d401",
   "metadata": {
    "scrolled": true
   },
   "outputs": [
    {
     "data": {
      "text/plain": [
       "40"
      ]
     },
     "execution_count": 15,
     "metadata": {},
     "output_type": "execute_result"
    }
   ],
   "source": [
    "x[3]"
   ]
  },
  {
   "cell_type": "code",
   "execution_count": 16,
   "id": "ae15b1ef",
   "metadata": {
    "scrolled": true
   },
   "outputs": [
    {
     "data": {
      "text/plain": [
       "6"
      ]
     },
     "execution_count": 16,
     "metadata": {},
     "output_type": "execute_result"
    }
   ],
   "source": [
    "x.size"
   ]
  },
  {
   "cell_type": "markdown",
   "id": "5e1d1527",
   "metadata": {},
   "source": [
    "The NumPy package has a wide range of mathematical functions such as $\\sin$, $\\log$, etc., which can be applied elementwise to an array:"
   ]
  },
  {
   "cell_type": "code",
   "execution_count": 17,
   "id": "af3c68ae",
   "metadata": {
    "scrolled": true
   },
   "outputs": [
    {
     "data": {
      "text/plain": [
       "array([1, 2, 3])"
      ]
     },
     "execution_count": 17,
     "metadata": {},
     "output_type": "execute_result"
    }
   ],
   "source": [
    "x = np.array([1,2,3])\n",
    "x"
   ]
  },
  {
   "cell_type": "code",
   "execution_count": 18,
   "id": "2b103d9f",
   "metadata": {
    "scrolled": true
   },
   "outputs": [
    {
     "data": {
      "text/plain": [
       "array([0.84147098, 0.90929743, 0.14112001])"
      ]
     },
     "execution_count": 18,
     "metadata": {},
     "output_type": "execute_result"
    }
   ],
   "source": [
    "np.sin(x)"
   ]
  },
  {
   "cell_type": "markdown",
   "id": "f5fd83f4",
   "metadata": {},
   "source": [
    "### Plotting"
   ]
  },
  {
   "cell_type": "markdown",
   "id": "d6f32d72",
   "metadata": {},
   "source": [
    "There are several packages for plotting functions and we will use the PyPlot package. The package is preinstalled in Anaconda. To start the package, use"
   ]
  },
  {
   "cell_type": "code",
   "execution_count": 19,
   "id": "a873a774",
   "metadata": {
    "scrolled": true
   },
   "outputs": [],
   "source": [
    "import matplotlib.pyplot as plt\n",
    "%matplotlib inline"
   ]
  },
  {
   "cell_type": "markdown",
   "id": "0633805b",
   "metadata": {},
   "source": [
    "The following piece of code is a simple example of plotting with PyPlot."
   ]
  },
  {
   "cell_type": "code",
   "execution_count": 20,
   "id": "ebc24210",
   "metadata": {
    "scrolled": true
   },
   "outputs": [
    {
     "data": {
      "image/png": "[encoded data removed]",
      "text/plain": [
       "<Figure size 432x288 with 1 Axes>"
      ]
     },
     "metadata": {
      "needs_background": "light"
     },
     "output_type": "display_data"
    }
   ],
   "source": [
    "x = np.linspace(0, 2*np.pi, 1000)\n",
    "y = np.sin(3*x)\n",
    "plt.plot(x, y, color='red', linewidth=2.0, linestyle='--')\n",
    "plt.title('The sine function');"
   ]
  },
  {
   "cell_type": "markdown",
   "id": "f7ec52cd",
   "metadata": {},
   "source": [
    "Let's plot two functions, $\\sin3x$ and $\\cos x$, and label them appropriately."
   ]
  },
  {
   "cell_type": "code",
   "execution_count": 21,
   "id": "7d9b5966",
   "metadata": {
    "scrolled": true
   },
   "outputs": [
    {
     "data": {
      "image/png": "[encoded data removed]",
      "text/plain": [
       "<Figure size 432x288 with 1 Axes>"
      ]
     },
     "metadata": {
      "needs_background": "light"
     },
     "output_type": "display_data"
    }
   ],
   "source": [
    "x = np.linspace(0, 2*np.pi, 1000)\n",
    "y = np.sin(3*x)\n",
    "z = np.cos(x)\n",
    "plt.plot(x, y, color='red', linewidth=2.0, linestyle='--', label='sin(3x)')\n",
    "plt.plot(x, z, color='blue', linewidth=1.0, linestyle='-', label='cos(x)')\n",
    "plt.legend(loc='upper center');"
   ]
  },
  {
   "cell_type": "markdown",
   "id": "c5c9500f",
   "metadata": {},
   "source": [
    "### Matrix operations"
   ]
  },
  {
   "cell_type": "markdown",
   "id": "a75cd46b",
   "metadata": {},
   "source": [
    "NumPy uses $2$D arrays to represent matrices. Let's create a $3\\times3$ matrix ($2$D array):"
   ]
  },
  {
   "cell_type": "code",
   "execution_count": 22,
   "id": "dd2e73e4",
   "metadata": {
    "scrolled": true
   },
   "outputs": [
    {
     "data": {
      "text/plain": [
       "array([[-1.  ,  0.26,  0.74],\n",
       "       [ 0.09, -1.  ,  0.26],\n",
       "       [ 1.  ,  1.  ,  1.  ]])"
      ]
     },
     "execution_count": 22,
     "metadata": {},
     "output_type": "execute_result"
    }
   ],
   "source": [
    "A = np.array([[-1, 0.26, 0.74], [0.09, -1, 0.26], [1,1,1]])\n",
    "A"
   ]
  },
  {
   "cell_type": "markdown",
   "id": "597d2bb6",
   "metadata": {},
   "source": [
    "Transpose of \\(A\\) is computed as:"
   ]
  },
  {
   "cell_type": "code",
   "execution_count": 23,
   "id": "f879eeb3",
   "metadata": {
    "scrolled": true
   },
   "outputs": [
    {
     "data": {
      "text/plain": [
       "array([[-1.  ,  0.09,  1.  ],\n",
       "       [ 0.26, -1.  ,  1.  ],\n",
       "       [ 0.74,  0.26,  1.  ]])"
      ]
     },
     "execution_count": 23,
     "metadata": {},
     "output_type": "execute_result"
    }
   ],
   "source": [
    "A.T"
   ]
  },
  {
   "cell_type": "markdown",
   "id": "1e343c7e",
   "metadata": {},
   "source": [
    "Here is its inverse."
   ]
  },
  {
   "cell_type": "code",
   "execution_count": 24,
   "id": "80e78b2b",
   "metadata": {
    "scrolled": true
   },
   "outputs": [
    {
     "data": {
      "text/plain": [
       "array([[-0.59693007,  0.22740193,  0.38260375],\n",
       "       [ 0.08053818, -0.82433201,  0.15472807],\n",
       "       [ 0.51639189,  0.59693007,  0.46266818]])"
      ]
     },
     "execution_count": 24,
     "metadata": {},
     "output_type": "execute_result"
    }
   ],
   "source": [
    "np.linalg.inv(A)"
   ]
  },
  {
   "cell_type": "markdown",
   "id": "80236a93",
   "metadata": {},
   "source": [
    "To compute the product of $A$ and the inverse of $A$, use:"
   ]
  },
  {
   "cell_type": "code",
   "execution_count": 25,
   "id": "d05a51ec",
   "metadata": {
    "scrolled": true
   },
   "outputs": [
    {
     "data": {
      "text/plain": [
       "array([[ 1.00000000e+00,  1.24617643e-17, -1.74319952e-17],\n",
       "       [-3.98224397e-17,  1.00000000e+00,  1.74319952e-17],\n",
       "       [ 0.00000000e+00,  0.00000000e+00,  1.00000000e+00]])"
      ]
     },
     "execution_count": 25,
     "metadata": {},
     "output_type": "execute_result"
    }
   ],
   "source": [
    "np.dot(A, np.linalg.inv(A))"
   ]
  },
  {
   "cell_type": "markdown",
   "id": "691cf396",
   "metadata": {},
   "source": [
    "Let's try matrix vector multiplication. Define some vector \\(v\\) as:"
   ]
  },
  {
   "cell_type": "code",
   "execution_count": 26,
   "id": "10a91def",
   "metadata": {
    "scrolled": true
   },
   "outputs": [
    {
     "data": {
      "text/plain": [
       "array([0, 0, 1])"
      ]
     },
     "execution_count": 26,
     "metadata": {},
     "output_type": "execute_result"
    }
   ],
   "source": [
    "v = np.array([0,0,1])\n",
    "v"
   ]
  },
  {
   "cell_type": "markdown",
   "id": "1bda6b84",
   "metadata": {},
   "source": [
    "Now try $\\text{np.dot}(A,v)$ to multiply them."
   ]
  },
  {
   "cell_type": "code",
   "execution_count": 27,
   "id": "92414b96",
   "metadata": {
    "scrolled": true
   },
   "outputs": [
    {
     "data": {
      "text/plain": [
       "array([0.74, 0.26, 1.  ])"
      ]
     },
     "execution_count": 27,
     "metadata": {},
     "output_type": "execute_result"
    }
   ],
   "source": [
    "np.dot(A, v)"
   ]
  },
  {
   "cell_type": "markdown",
   "id": "9b6cd085",
   "metadata": {},
   "source": [
    "To solve the matrix equation \\(Ax=v\\), type:"
   ]
  },
  {
   "cell_type": "code",
   "execution_count": 28,
   "id": "3c85e800",
   "metadata": {
    "scrolled": true
   },
   "outputs": [
    {
     "data": {
      "text/plain": [
       "array([0.38260375, 0.15472807, 0.46266818])"
      ]
     },
     "execution_count": 28,
     "metadata": {},
     "output_type": "execute_result"
    }
   ],
   "source": [
    "np.linalg.solve(A, v)"
   ]
  },
  {
   "cell_type": "markdown",
   "id": "852ccc8d",
   "metadata": {},
   "source": [
    "The solution to $Ax=v$ can be also computed as $x=A^{-1}v$ as\n",
    "follows:"
   ]
  },
  {
   "cell_type": "code",
   "execution_count": 29,
   "id": "ec44687a",
   "metadata": {
    "scrolled": true
   },
   "outputs": [
    {
     "data": {
      "text/plain": [
       "array([0.38260375, 0.15472807, 0.46266818])"
      ]
     },
     "execution_count": 29,
     "metadata": {},
     "output_type": "execute_result"
    }
   ],
   "source": [
    "np.dot(np.linalg.inv(A), v)"
   ]
  },
  {
   "cell_type": "markdown",
   "id": "dfc04663",
   "metadata": {},
   "source": [
    "Powers of \\(A\\) can be computed as:"
   ]
  },
  {
   "cell_type": "code",
   "execution_count": 30,
   "id": "0ef6f99b",
   "metadata": {
    "scrolled": true
   },
   "outputs": [
    {
     "data": {
      "text/plain": [
       "array([[-2.80229724,  0.39583437,  2.76651959],\n",
       "       [ 0.12572728, -1.39301724,  0.84621677],\n",
       "       [ 3.74250756,  3.24338756,  4.51654028]])"
      ]
     },
     "execution_count": 30,
     "metadata": {},
     "output_type": "execute_result"
    }
   ],
   "source": [
    "np.linalg.matrix_power(A, 5)"
   ]
  },
  {
   "cell_type": "markdown",
   "id": "5336cf78",
   "metadata": {},
   "source": [
    "### Logic operations"
   ]
  },
  {
   "cell_type": "markdown",
   "id": "814c6d67",
   "metadata": {},
   "source": [
    "Here are some basic logic operations:"
   ]
  },
  {
   "cell_type": "code",
   "execution_count": 31,
   "id": "22567c26",
   "metadata": {
    "scrolled": true
   },
   "outputs": [
    {
     "data": {
      "text/plain": [
       "False"
      ]
     },
     "execution_count": 31,
     "metadata": {},
     "output_type": "execute_result"
    }
   ],
   "source": [
    "2 == 3"
   ]
  },
  {
   "cell_type": "code",
   "execution_count": 32,
   "id": "bf613fee",
   "metadata": {
    "scrolled": true
   },
   "outputs": [
    {
     "data": {
      "text/plain": [
       "True"
      ]
     },
     "execution_count": 32,
     "metadata": {},
     "output_type": "execute_result"
    }
   ],
   "source": [
    "2 <= 3"
   ]
  },
  {
   "cell_type": "code",
   "execution_count": 33,
   "id": "f7e40a21",
   "metadata": {
    "scrolled": true
   },
   "outputs": [
    {
     "data": {
      "text/plain": [
       "True"
      ]
     },
     "execution_count": 33,
     "metadata": {},
     "output_type": "execute_result"
    }
   ],
   "source": [
    "(2==2) or (1<0)"
   ]
  },
  {
   "cell_type": "code",
   "execution_count": 34,
   "id": "8845cf56",
   "metadata": {
    "scrolled": true
   },
   "outputs": [
    {
     "data": {
      "text/plain": [
       "False"
      ]
     },
     "execution_count": 34,
     "metadata": {},
     "output_type": "execute_result"
    }
   ],
   "source": [
    "(2==2) and (1<0)"
   ]
  },
  {
   "cell_type": "code",
   "execution_count": 35,
   "id": "f781dd29",
   "metadata": {
    "scrolled": true
   },
   "outputs": [
    {
     "data": {
      "text/plain": [
       "True"
      ]
     },
     "execution_count": 35,
     "metadata": {},
     "output_type": "execute_result"
    }
   ],
   "source": [
    "(4 % 2) == 0 # Check if 4 is an even number"
   ]
  },
  {
   "cell_type": "code",
   "execution_count": 36,
   "id": "4bc45208",
   "metadata": {
    "scrolled": true
   },
   "outputs": [
    {
     "data": {
      "text/plain": [
       "False"
      ]
     },
     "execution_count": 36,
     "metadata": {},
     "output_type": "execute_result"
    }
   ],
   "source": [
    "(5 % 2) == 0"
   ]
  },
  {
   "cell_type": "code",
   "execution_count": 37,
   "id": "f8a3362a",
   "metadata": {
    "scrolled": true
   },
   "outputs": [
    {
     "data": {
      "text/plain": [
       "True"
      ]
     },
     "execution_count": 37,
     "metadata": {},
     "output_type": "execute_result"
    }
   ],
   "source": [
    "(5 % 2) == 1 # Check if 5 is an odd number"
   ]
  },
  {
   "cell_type": "markdown",
   "id": "c72daf63",
   "metadata": {},
   "source": [
    "### Defining functions"
   ]
  },
  {
   "cell_type": "markdown",
   "id": "39e97aed",
   "metadata": {},
   "source": [
    "There are two  ways to define a function. Here is the basic syntax:"
   ]
  },
  {
   "cell_type": "code",
   "execution_count": 38,
   "id": "8e91d7c6",
   "metadata": {
    "scrolled": true
   },
   "outputs": [],
   "source": [
    "def squareit(x):\n",
    "    return x**2"
   ]
  },
  {
   "cell_type": "code",
   "execution_count": 39,
   "id": "42c5d179",
   "metadata": {
    "scrolled": true
   },
   "outputs": [
    {
     "data": {
      "text/plain": [
       "9"
      ]
     },
     "execution_count": 39,
     "metadata": {},
     "output_type": "execute_result"
    }
   ],
   "source": [
    "squareit(3)"
   ]
  },
  {
   "cell_type": "markdown",
   "id": "3d1433ba",
   "metadata": {},
   "source": [
    "There is also a compact form to define a function, if the body of the function is a short, simple expression:"
   ]
  },
  {
   "cell_type": "code",
   "execution_count": 40,
   "id": "d926173d",
   "metadata": {
    "scrolled": true
   },
   "outputs": [],
   "source": [
    "cubeit = lambda x: x**3 "
   ]
  },
  {
   "cell_type": "code",
   "execution_count": 41,
   "id": "5e6fbfd9",
   "metadata": {
    "scrolled": true
   },
   "outputs": [
    {
     "data": {
      "text/plain": [
       "125"
      ]
     },
     "execution_count": 41,
     "metadata": {},
     "output_type": "execute_result"
    }
   ],
   "source": [
    "cubeit(5)"
   ]
  },
  {
   "cell_type": "markdown",
   "id": "eb040cfb",
   "metadata": {},
   "source": [
    "Suppose we want to pick the elements of an array that are greater than 0. This can be done using:"
   ]
  },
  {
   "cell_type": "code",
   "execution_count": 42,
   "id": "e0fc72eb",
   "metadata": {
    "scrolled": true
   },
   "outputs": [
    {
     "data": {
      "text/plain": [
       "array([3, 4, 5])"
      ]
     },
     "execution_count": 42,
     "metadata": {},
     "output_type": "execute_result"
    }
   ],
   "source": [
    "x = np.array([-2,3,4,5,-3,0])\n",
    "x[x>0]"
   ]
  },
  {
   "cell_type": "markdown",
   "id": "85f465cd",
   "metadata": {},
   "source": [
    "To count the number of elements that are greater than $0$ in the array above, use"
   ]
  },
  {
   "cell_type": "code",
   "execution_count": 43,
   "id": "4b4edf01",
   "metadata": {
    "scrolled": true
   },
   "outputs": [
    {
     "data": {
      "text/plain": [
       "3"
      ]
     },
     "execution_count": 43,
     "metadata": {},
     "output_type": "execute_result"
    }
   ],
   "source": [
    "x[x>0].size"
   ]
  },
  {
   "cell_type": "markdown",
   "id": "a5436be2",
   "metadata": {},
   "source": [
    "### Types"
   ]
  },
  {
   "cell_type": "markdown",
   "id": "39ac285c",
   "metadata": {},
   "source": [
    "In Python, there are several types for integers and floating-point\n",
    "numbers such as int8, int64, float32, float64, and more advanced types\n",
    "for Boolean variables and strings. When we write a\n",
    "function, we do not have to declare the type of its variables: Python\n",
    "figures what the correct type is when the code is compiled. This is\n",
    "called a dynamic type system. For example, consider the\n",
    "**squareit** function we defined before:"
   ]
  },
  {
   "cell_type": "code",
   "execution_count": 44,
   "id": "4007bd7d",
   "metadata": {
    "scrolled": true
   },
   "outputs": [],
   "source": [
    "def squareit(x):\n",
    "    return x**2"
   ]
  },
  {
   "cell_type": "markdown",
   "id": "52efa254",
   "metadata": {},
   "source": [
    "The type of $x$ is not declared in the function definition. We can\n",
    "call it with real or integer inputs, and Python will know what to do:"
   ]
  },
  {
   "cell_type": "code",
   "execution_count": 45,
   "id": "11164e85",
   "metadata": {
    "scrolled": true
   },
   "outputs": [
    {
     "data": {
      "text/plain": [
       "25"
      ]
     },
     "execution_count": 45,
     "metadata": {},
     "output_type": "execute_result"
    }
   ],
   "source": [
    "squareit(5)"
   ]
  },
  {
   "cell_type": "code",
   "execution_count": 46,
   "id": "4721cf17",
   "metadata": {
    "scrolled": true
   },
   "outputs": [
    {
     "data": {
      "text/plain": [
       "30.25"
      ]
     },
     "execution_count": 46,
     "metadata": {},
     "output_type": "execute_result"
    }
   ],
   "source": [
    "squareit(5.5)"
   ]
  },
  {
   "cell_type": "markdown",
   "id": "47a6a714",
   "metadata": {},
   "source": [
    "Now suppose the type of the input is a floating-point number. We can write another version of **squareit** that specifies the type."
   ]
  },
  {
   "cell_type": "code",
   "execution_count": 47,
   "id": "3b622a3a",
   "metadata": {
    "scrolled": true
   },
   "outputs": [],
   "source": [
    "def typesquareit(x: float):\n",
    "    return x**2"
   ]
  },
  {
   "cell_type": "markdown",
   "id": "b4469c05",
   "metadata": {},
   "source": [
    "The input $x$ is now statically typed. However, the purpose here is to add an annotation to remind the users of the input type that should be used. In fact, Python interpreter will not perform any type checking automatically, unless some additional packages are used. In other words, there will be no difference between the *squareit* and *typesquareit* functions."
   ]
  },
  {
   "cell_type": "code",
   "execution_count": 48,
   "id": "a0f5f0ad",
   "metadata": {
    "scrolled": true
   },
   "outputs": [
    {
     "data": {
      "text/plain": [
       "30.25"
      ]
     },
     "execution_count": 48,
     "metadata": {},
     "output_type": "execute_result"
    }
   ],
   "source": [
    "typesquareit(5.5)"
   ]
  },
  {
   "cell_type": "code",
   "execution_count": 49,
   "id": "eb4b671e",
   "metadata": {
    "scrolled": true
   },
   "outputs": [
    {
     "data": {
      "text/plain": [
       "25"
      ]
     },
     "execution_count": 49,
     "metadata": {},
     "output_type": "execute_result"
    }
   ],
   "source": [
    "typesquareit(5)"
   ]
  },
  {
   "cell_type": "markdown",
   "id": "ef75f313",
   "metadata": {},
   "source": [
    " It can be seen that the function *typesquareit* has no problem taking the integer $5$ as an input."
   ]
  },
  {
   "cell_type": "markdown",
   "id": "64172f73",
   "metadata": {},
   "source": [
    "### Control flow"
   ]
  },
  {
   "cell_type": "markdown",
   "id": "b2c36887",
   "metadata": {},
   "source": [
    "Let's create a NumPy array of 10 entries of floating-type. A simple way to do it is by using the function **np.zeros(n)**, which creates an array of size $n$, and sets each entry to zero. (A similar function is **np.ones(n)** which creates an array of size $n$ with each entry set to 1.)"
   ]
  },
  {
   "cell_type": "code",
   "execution_count": 50,
   "id": "0878f24b",
   "metadata": {
    "scrolled": true
   },
   "outputs": [
    {
     "data": {
      "text/plain": [
       "array([0., 0., 0., 0., 0., 0., 0., 0., 0., 0.])"
      ]
     },
     "execution_count": 50,
     "metadata": {},
     "output_type": "execute_result"
    }
   ],
   "source": [
    "values = np.zeros(10)\n",
    "values"
   ]
  },
  {
   "cell_type": "markdown",
   "id": "d8e0bb11",
   "metadata": {},
   "source": [
    "Now we will set the elements of the array to values of sin function."
   ]
  },
  {
   "cell_type": "code",
   "execution_count": 51,
   "id": "f9e585c0",
   "metadata": {
    "scrolled": true
   },
   "outputs": [],
   "source": [
    "for n in range(10):\n",
    "    values[n] = np.sin((n+1)**2)"
   ]
  },
  {
   "cell_type": "code",
   "execution_count": 52,
   "id": "3636ba99",
   "metadata": {
    "scrolled": true
   },
   "outputs": [
    {
     "data": {
      "text/plain": [
       "array([ 0.84147098, -0.7568025 ,  0.41211849, -0.28790332, -0.13235175,\n",
       "       -0.99177885, -0.95375265,  0.92002604, -0.62988799, -0.50636564])"
      ]
     },
     "execution_count": 52,
     "metadata": {},
     "output_type": "execute_result"
    }
   ],
   "source": [
    "values"
   ]
  },
  {
   "cell_type": "markdown",
   "id": "6b32516b",
   "metadata": {},
   "source": [
    "Here is another way to do this. Start with creating an empty array:"
   ]
  },
  {
   "cell_type": "code",
   "execution_count": 53,
   "id": "101e8585",
   "metadata": {
    "scrolled": true
   },
   "outputs": [],
   "source": [
    "newvalues = np.array([])"
   ]
  },
  {
   "cell_type": "markdown",
   "id": "6c73eeb0",
   "metadata": {},
   "source": [
    "Then use a **while** statement to generate the values, and append them to the array."
   ]
  },
  {
   "cell_type": "code",
   "execution_count": 54,
   "id": "d96c0547",
   "metadata": {
    "scrolled": true
   },
   "outputs": [
    {
     "data": {
      "text/plain": [
       "array([ 0.84147098, -0.7568025 ,  0.41211849, -0.28790332, -0.13235175,\n",
       "       -0.99177885, -0.95375265,  0.92002604, -0.62988799, -0.50636564,\n",
       "       -0.50636564])"
      ]
     },
     "execution_count": 54,
     "metadata": {},
     "output_type": "execute_result"
    }
   ],
   "source": [
    "n = 1\n",
    "while n<=10:\n",
    "    newvalues = np.append(values, np.sin(n**2))\n",
    "    n += 1\n",
    "newvalues"
   ]
  },
  {
   "cell_type": "markdown",
   "id": "591e87c9",
   "metadata": {},
   "source": [
    "Here is how the **if** statement works:"
   ]
  },
  {
   "cell_type": "code",
   "execution_count": 55,
   "id": "62127426",
   "metadata": {
    "scrolled": true
   },
   "outputs": [],
   "source": [
    "def f(x, y):\n",
    "    if x < y:\n",
    "        print(x, ' is less than ', y)\n",
    "    elif x > y:\n",
    "        print(x, ' is greater than ', y)\n",
    "    else:\n",
    "        print(x, ' is equal to ', y)"
   ]
  },
  {
   "cell_type": "code",
   "execution_count": 56,
   "id": "4cb0bf00",
   "metadata": {
    "scrolled": true
   },
   "outputs": [
    {
     "name": "stdout",
     "output_type": "stream",
     "text": [
      "2  is less than  3\n"
     ]
    }
   ],
   "source": [
    "f(2, 3)"
   ]
  },
  {
   "cell_type": "code",
   "execution_count": 57,
   "id": "383ef83d",
   "metadata": {
    "scrolled": true
   },
   "outputs": [
    {
     "name": "stdout",
     "output_type": "stream",
     "text": [
      "3  is greater than  2\n"
     ]
    }
   ],
   "source": [
    "f(3, 2)"
   ]
  },
  {
   "cell_type": "code",
   "execution_count": 58,
   "id": "dbc0d5e3",
   "metadata": {
    "scrolled": true
   },
   "outputs": [
    {
     "name": "stdout",
     "output_type": "stream",
     "text": [
      "1  is equal to  1\n"
     ]
    }
   ],
   "source": [
    "f(1, 1)"
   ]
  },
  {
   "cell_type": "markdown",
   "id": "2926cb58",
   "metadata": {},
   "source": [
    "In the next example we use **if** and **while** to find all the odd numbers in $\\{1,\\ldots,10\\}$.  The empty array created in the first line is of int64 type."
   ]
  },
  {
   "cell_type": "code",
   "execution_count": 59,
   "id": "0c924264",
   "metadata": {
    "scrolled": true
   },
   "outputs": [
    {
     "data": {
      "text/plain": [
       "array([1, 3, 5, 7, 9], dtype=int64)"
      ]
     },
     "execution_count": 59,
     "metadata": {},
     "output_type": "execute_result"
    }
   ],
   "source": [
    "odds = np.array([]).astype('int64')\n",
    "n = 1\n",
    "while n <= 10:\n",
    "    if n%2 == 1:\n",
    "        odds = np.append(odds, n)\n",
    "    n += 1\n",
    "odds"
   ]
  },
  {
   "cell_type": "markdown",
   "id": "f573bef3",
   "metadata": {},
   "source": [
    "Here is an interesting property of the function **break**:"
   ]
  },
  {
   "cell_type": "code",
   "execution_count": 60,
   "id": "1416ea3d",
   "metadata": {
    "scrolled": true
   },
   "outputs": [
    {
     "name": "stdout",
     "output_type": "stream",
     "text": [
      "2\n"
     ]
    }
   ],
   "source": [
    "n = 1\n",
    "while n <= 20:\n",
    "    if n%2 == 0:\n",
    "        print(n)\n",
    "        break\n",
    "    n += 1"
   ]
  },
  {
   "cell_type": "markdown",
   "id": "790f3ef4",
   "metadata": {},
   "source": [
    " Why did the above execution stop at 2? Let's try\n",
    "removing **break**:"
   ]
  },
  {
   "cell_type": "code",
   "execution_count": 61,
   "id": "fc75fafd",
   "metadata": {
    "scrolled": true
   },
   "outputs": [
    {
     "name": "stdout",
     "output_type": "stream",
     "text": [
      "2\n",
      "4\n",
      "6\n",
      "8\n",
      "10\n",
      "12\n",
      "14\n",
      "16\n",
      "18\n",
      "20\n"
     ]
    }
   ],
   "source": [
    "n = 1\n",
    "while n <= 20:\n",
    "    if n%2 == 0:\n",
    "        print(n)\n",
    "    n += 1"
   ]
  },
  {
   "cell_type": "markdown",
   "id": "c79e2e00",
   "metadata": {},
   "source": [
    "The function **break** causes the code to exit the while loop once it is evaluated."
   ]
  },
  {
   "cell_type": "markdown",
   "id": "6dd0e543",
   "metadata": {},
   "source": [
    "### Random numbers"
   ]
  },
  {
   "cell_type": "markdown",
   "id": "68991e7a",
   "metadata": {},
   "source": [
    " These are $5$ uniform random numbers from $(0,1)$."
   ]
  },
  {
   "cell_type": "code",
   "execution_count": 62,
   "id": "6dfcfe24",
   "metadata": {
    "scrolled": true
   },
   "outputs": [],
   "source": [
    "import numpy as np"
   ]
  },
  {
   "cell_type": "code",
   "execution_count": 63,
   "id": "4007dd20",
   "metadata": {
    "scrolled": true
   },
   "outputs": [
    {
     "data": {
      "text/plain": [
       "array([0.10282795, 0.13470601, 0.06855465, 0.30214477, 0.71481935])"
      ]
     },
     "execution_count": 63,
     "metadata": {},
     "output_type": "execute_result"
    }
   ],
   "source": [
    "np.random.rand(5)"
   ]
  },
  {
   "cell_type": "markdown",
   "id": "ac0a2ce4",
   "metadata": {},
   "source": [
    "And these are random numbers from the standard normal distribution:"
   ]
  },
  {
   "cell_type": "code",
   "execution_count": 64,
   "id": "8d49caa7",
   "metadata": {
    "scrolled": true
   },
   "outputs": [
    {
     "data": {
      "text/plain": [
       "array([ 1.50739162, -0.70077227, -0.04879029, -1.50371943, -0.00782251])"
      ]
     },
     "execution_count": 64,
     "metadata": {},
     "output_type": "execute_result"
    }
   ],
   "source": [
    "np.random.randn(5)"
   ]
  },
  {
   "cell_type": "markdown",
   "id": "1297662e",
   "metadata": {},
   "source": [
    "Here is a frequency histogram of $10^5$ random numbers from the standard normal\n",
    "distribution using $50$ bins:"
   ]
  },
  {
   "cell_type": "code",
   "execution_count": 65,
   "id": "559eb4d3",
   "metadata": {
    "scrolled": true
   },
   "outputs": [
    {
     "data": {
      "image/png": "[encoded data removed]",
      "text/plain": [
       "<Figure size 432x288 with 1 Axes>"
      ]
     },
     "metadata": {
      "needs_background": "light"
     },
     "output_type": "display_data"
    }
   ],
   "source": [
    "y = np.random.randn(10**5)\n",
    "plt.hist(y, 50);"
   ]
  },
  {
   "cell_type": "markdown",
   "id": "7ea1c20b",
   "metadata": {},
   "source": [
    "Sometimes we are interested in relative frequency histograms where the\n",
    "height of each bin is the relative frequency of the numbers in the bin.\n",
    "Adding the option \"density=true\" outputs a relative frequency histogram:"
   ]
  },
  {
   "cell_type": "code",
   "execution_count": 66,
   "id": "52f52d12",
   "metadata": {
    "scrolled": true
   },
   "outputs": [
    {
     "data": {
      "image/png": "[encoded data removed]",
      "text/plain": [
       "<Figure size 432x288 with 1 Axes>"
      ]
     },
     "metadata": {
      "needs_background": "light"
     },
     "output_type": "display_data"
    }
   ],
   "source": [
    "y = np.random.randn(10**5)\n",
    "plt.hist(y, 50, density=True);"
   ]
  },
  {
   "cell_type": "markdown",
   "id": "1a7d95b5",
   "metadata": {},
   "source": [
    "**Excercise 1.2**\n",
    "\n",
    "In Python you can compute the factorial of a positive integer $n$\n",
    "by the built-in function **factorial(n)}** from the subpackage *special*\n",
    "in SciPy (**scipy.special.factorial(n)**). Write your own\n",
    "version of this function, called $factorial2$, using a for loop.\n",
    "Use the **time.time()** function to compare the execution time of\n",
    "your version and the built-in version of the factorial function."
   ]
  },
  {
   "cell_type": "markdown",
   "id": "47db6353",
   "metadata": {},
   "source": [
    "**Excercise 1.3**\n",
    "Write a Python code to estimate the value of  $\\pi$ using the following procedure: Place a circle of diameter one in the unit square. Generate 10,000 pairs of random numbers $(u,v)$ from the unit square. Count the number of pairs $(u,v)$ that fall into the circle, and call this number  $n$. Then  $n/10000$ is approximately the area of the circle. (This approach is known as the Monte Carlo method.)"
   ]
  },
  {
   "cell_type": "markdown",
   "id": "673868d6",
   "metadata": {},
   "source": [
    "**Excercise 1.4**\n",
    "Consider the following function\n",
    "\\begin{equation*}\n",
    "f(x,n)=\\sum_{i=1}^n \\prod _{j=1}^i x^{n-j+1}.\n",
    "\\end{equation*}\n",
    "\n",
    "a. Compute $f(2,3)$ by hand.\n",
    "\n",
    "b. Write a Python code that computes $f$. Verify $f(2,3)$ matches your answer above."
   ]
  },
  {
   "cell_type": "markdown",
   "id": "0b0c94e1",
   "metadata": {},
   "source": [
    "## Computer arithmetic"
   ]
  },
  {
   "cell_type": "markdown",
   "id": "e868871e",
   "metadata": {},
   "source": [
    "The way computers store numbers and perform computations could surprise\n",
    "the beginner. In Python if you type $(\\sqrt{3})^{2}$ the result will\n",
    "be 2.9....96, where 9 is repeated 15 times. Here are two obvious\n",
    "but fundamental differences in the way computers do arithmetic:\n",
    "\n",
    "- only finitely many numbers can be represented in a computer;\n",
    "- a number represented in a computer can only have finitely many digits.\n",
    "\n",
    "Therefore the numbers that can be represented in a computer exactly\n",
    "is only a subset of rational numbers. Anytime the computer performs\n",
    "an operation whose outcome is not a number that can be represented\n",
    "exactly in the computer, an approximation will replace the exact number.\n",
    "This is called the *roundoff error*: error produced when a computer\n",
    "is used to perform real number calculations."
   ]
  },
  {
   "cell_type": "markdown",
   "id": "50f3e1ef",
   "metadata": {},
   "source": [
    "### Floating-point representation of real numbers"
   ]
  },
  {
   "cell_type": "markdown",
   "id": "1ed2a6e1",
   "metadata": {},
   "source": [
    "Here is a general model for representing real numbers in a computer:"
   ]
  },
  {
   "cell_type": "markdown",
   "id": "78f878d7",
   "metadata": {},
   "source": [
    "```{math}\n",
    ":label: float_pt_general\n",
    "x=s(.a_{1}a_{2}...a_{t})_{\\beta}\\times\\beta^{e}\n",
    "```"
   ]
  },
  {
   "cell_type": "markdown",
   "id": "b5780250",
   "metadata": {},
   "source": [
    "where\n",
    "\n",
    "\\begin{align*}\n",
    "s & \\rightarrow\\text{sign of } x=\\pm 1\\\\\n",
    "e & \\rightarrow\\text{exponent, with bounds } L\\le e\\leq U\\\\\n",
    "(.a_{1}...a_{t})_{\\beta} & =\\frac{a_{1}}{\\beta}+\\frac{a_{2}}{\\beta^{2}}+...+\\frac{a_{t}}{\\beta^{t}};\\text{ the mantissa}\\\\\n",
    "\\beta & \\rightarrow\\text{base}\\\\\n",
    "t & \\rightarrow\\text{number of digits; the precision.}\n",
    "\\end{align*}"
   ]
  },
  {
   "cell_type": "markdown",
   "id": "b2b85b42",
   "metadata": {},
   "source": [
    "In the floating-point representation {eq}`float_pt_general`,\n",
    "if we specify $e$ in such a way that $a_{1}\\neq 0,$ then the representation\n",
    "will be unique. This is called the **normalized** floating-point\n",
    "representation. For example if $\\beta=10,$ in the normalized floating-point\n",
    "we would write $0.012$ as $0.12\\times10^{-1}$, instead of choices\n",
    "like $0.012 \\times 10^{0}$ or $0.0012 \\times 10$.\n",
    "\n",
    "In most computers today, the base is $\\beta=2.$ Bases 8 and 16 were\n",
    "used in old IBM mainframes in the past. Some handheld calculators\n",
    "use base 10. An interesting historical example is a short-lived\n",
    "computer named Setun developed at Moscow State University which used base 3.\n",
    "\n",
    "There are several choices to make in the general floating-point model\n",
    "{eq}`float_pt_general` for the values of $s,\\beta, t,e$. The IEEE 64-bit floating-point representation \n",
    "is the specific model used in most computers today:"
   ]
  },
  {
   "cell_type": "markdown",
   "id": "8e44b356",
   "metadata": {},
   "source": [
    "```{math}\n",
    ":label: IEEE\n",
    "x=(-1)^{s}(1.a_{2}a_{3}...a_{53})_{2}2^{e-1023}.\n",
    "```"
   ]
  },
  {
   "cell_type": "markdown",
   "id": "75c121b3",
   "metadata": {},
   "source": [
    "Some comments:\n",
    "\n",
    "- Notice how $s$ appears in different forms in equations {eq}`float_pt_general` and {eq}`IEEE`. In {eq}`IEEE`, $s$ is either 0 or 1. If $s=0$, then $x$ is positive. If $s=1$, $x$ is negative.\n",
    "\n",
    "- Since $\\beta=2,$ in the normalized floating-point representation of $x$ the first (nonzero) digit after the decimal point has to be 1. Then we do not have to store this number. That's why we write $x$ as a decimal number starting at 1 in {eq}`IEEE`. Even though precision is $t=52,$ we are able to access up to the 53rd digit $a_{53}$.\n",
    "\n",
    "- The bounds for the exponent are: $0\\leq e\\leq 2047.$ We will discuss where 2047 comes from shortly. But first, let's discuss why we have $e-1023$ as the exponent in the representation {eq}`IEEE`, as opposed to simply $e$ (which we had in the representation {eq}`float_pt_general`. If the smallest exponent possible was $e=0$, then the smallest positive number the computer can generate would be $(1.00...0)_{2}=1$: certainly we need the computer to represent numbers less than 1! That's why we use the shifted expression $e-1023$, called the \\textbf{biased exponent},  in the representation In {eq}`IEEE`. Note that the bounds for the biased exponent are $-1023\\leq e-1023 \\leq 1024.$\n",
    "\n",
    "Here is a schema that illustrates how the physical bits of a computer\n",
    "correspond to the representation above. Each cell in the table below,\n",
    "numbered 1 through 64, correspond to the physical bits in the computer\n",
    "memory."
   ]
  },
  {
   "cell_type": "markdown",
   "id": "e1aef383",
   "metadata": {},
   "source": [
    "\\begin{equation*}\n",
    "\\begin{array}{|c|c|c|c|c|c|c|c|}\n",
    "\\hline\n",
    "1 & \\textcolor{blue}{2} & \\textcolor{blue}{3} & \\textcolor{blue}{\\ldots} & \\textcolor{blue}{12} & \\textcolor{red}{13} & \\textcolor{red}{\\ldots} & \\textcolor{red}{64}\\\\\n",
    "\\hline\n",
    "\\end{array}\n",
    "\\end{equation*}\n",
    "\n",
    "- The first bit is the sign bit: it stores the value for $s$, 0 or 1.\n",
    "- The blue bits 2 through 12 store the exponent $e$ (not $e-1023)$. Using 11 bits, one can generate the integers from 0 to $2^{11}-1=2047$. Here is how you get the smallest and largest values for $e$:\n",
    "\\begin{align*}\n",
    "e&=(00...0)_{2}=0\\\\\n",
    "e&=(11...1)_{2}=2^{0}+2^{1}+...+2^{10}=\\frac{2^{11}-1}{2-1}=2047.\n",
    "\\end{align*}\n",
    "- The red bits, and there are 52 of them, store the digits $a_{2}$"
   ]
  },
  {
   "cell_type": "markdown",
   "id": "56667da5",
   "metadata": {},
   "source": [
    "```{prf:example}\n",
    ":label: chap1_exa9\n",
    "\n",
    "Find the floating-point representation of 10.375.\n",
    "```"
   ]
  },
  {
   "cell_type": "markdown",
   "id": "b25c09fe",
   "metadata": {},
   "source": [
    "**Solution.**\n",
    "\n",
    "You can check that $10=({\\color{cyan}{\\color{red}1}}{\\color{brown}{\\color{green}{\\color{green}0}}}{\\color{blue}1}{\\color{black}0})_{2}$\n",
    "and $0.375=(.0{\\color{blue}1}{\\color{green}1})_{2}$ by computing\n",
    "\\begin{align*}\n",
    "10 & ={\\color{black}0}\\times2^{0}+{\\color{blue}1}\\times2^{1}+{\\color{brown}{\\color{green}{\\color{green}0}}}\\times2^{2}+{\\color{cyan}{\\color{red}1}}\\times2^{3}\\\\\n",
    "0.375 & =0\\times2^{-1}+{\\color{blue}1}\\times2^{-2}+{\\color{green}1}\\times2^{-3}.\n",
    "\\end{align*}\n",
    "Then\n",
    "\\begin{equation*}\n",
    "10.375=(1010.011)_{2}=(1.010011)_{2}\\times2^{3}\n",
    "\\end{equation*}\n",
    "where $(1.010011)_{2}\\times2^{3}$ is the normalized floating-point representation of the number.\n",
    "Now we rewrite this in terms of the representation {eq}`IEEE`:\n",
    "\\begin{equation*}\n",
    "10.375=(-1)^{0}(1.010011)_{2}\\times2^{1026-1023}.\n",
    "\\end{equation*}\n",
    "Since $1026=(10000000010)_{2}$, the bit by bit representation is:"
   ]
  },
  {
   "cell_type": "markdown",
   "id": "1f348327",
   "metadata": {},
   "source": [
    "\\begin{equation*}\n",
    "\\begin{array}{|c||c|c|c|c|c|c|c|c|c|c|c||c|c|c|c|c|c|c|c|c|}\n",
    "\\hline\n",
    "0 & \\textcolor{blue}{1} & \\textcolor{blue}{0} & \\textcolor{blue}{0} & \\textcolor{blue}{0} & \\textcolor{blue}{0} & \\textcolor{blue}{0} & \\textcolor{blue}{0} & \\textcolor{blue}{0} & \\textcolor{blue}{0} & \\textcolor{blue}{1} & \\textcolor{blue}{0} & \\textcolor{red}{0} & \\textcolor{red}{1} & \\textcolor{red}{0} & \\textcolor{red}{0} & \\textcolor{red}{1} & \\textcolor{red}{1} & 0 & \\ldots & 0\\\\\n",
    "\\hline\n",
    "\\end{array}\n",
    "\\end{equation*}"
   ]
  },
  {
   "cell_type": "markdown",
   "id": "7ce1ea7b",
   "metadata": {},
   "source": [
    "Notice the first sign bit is 0 since the number is positive. The next\n",
    "11 bits (in blue) represent the exponent $e=1026$, and the next group of\n",
    "red bits are the mantissa, filled with 0's after the last digit of\n",
    "the mantissa. In Python, although there is no built-in function that produces\n",
    "the bit by bit representation of a number, we can define the following function named *float2bin*, which provides the bit representation of a floating-point number, based on the *struct* package:"
   ]
  },
  {
   "cell_type": "code",
   "execution_count": 67,
   "id": "7d6c03d5",
   "metadata": {
    "scrolled": true
   },
   "outputs": [],
   "source": [
    "import struct\n",
    "def float2bin(f):\n",
    "    (d,) = struct.unpack(\">Q\", struct.pack(\">d\", f))\n",
    "    return f'{d:064b}'"
   ]
  },
  {
   "cell_type": "code",
   "execution_count": 68,
   "id": "4c2bbae9",
   "metadata": {
    "scrolled": true
   },
   "outputs": [
    {
     "data": {
      "text/plain": [
       "'0100000000100100110000000000000000000000000000000000000000000000'"
      ]
     },
     "execution_count": 68,
     "metadata": {},
     "output_type": "execute_result"
    }
   ],
   "source": [
    "float2bin(10.375)"
   ]
  },
  {
   "cell_type": "markdown",
   "id": "3c425245",
   "metadata": {},
   "source": [
    "#### Special cases: zero, infinity, NAN"
   ]
  },
  {
   "cell_type": "markdown",
   "id": "d45a3bf5",
   "metadata": {},
   "source": [
    "In the floating-point arithmetic there are two zeros: $+0.0$ and $-0.0$, and they have special representations. In the representation of zero, all exponent and mantissa bits are set to 0. The sign bit is 0 for $+0.0$, and 1, for $-0.0$:\n",
    "\\begin{equation*}\n",
    "0.0\\rightarrow\n",
    "\\begin{array}{|c|c|c|c|c|c|c|}\n",
    "\\hline\n",
    "0 & \\textcolor{blue}{0} & \\textcolor{blue}{\\text{all zeros}} & \\textcolor{blue}{0} & \\textcolor{red}{0} & \\textcolor{red}{\\text{all zeros}} & \\textcolor{red}{0}\\\\\n",
    "\\hline\n",
    "\\end{array}\n",
    "\\end{equation*}\\\n",
    "\n",
    "\\begin{equation*}\n",
    "-0.0\\rightarrow \n",
    "\\begin{array}{|c|c|c|c|c|c|c|}\n",
    "\\hline\n",
    "1 & \\textcolor{blue}{0} & \\textcolor{blue}{\\text{all zeros}} & \\textcolor{blue}{0} & \\textcolor{red}{0} & \\textcolor{red}{\\text{all zeros}} & \\textcolor{red}{0}\\\\\n",
    "\\hline\n",
    "\\end{array}\n",
    "\\end{equation*}"
   ]
  },
  {
   "cell_type": "markdown",
   "id": "78752d1a",
   "metadata": {},
   "source": [
    "When the exponent bits are set to zero, we have $e=0$ and thus $e-1023=-1023.$\n",
    "This arrangement, all exponent bits set to zero, is reserved for\n",
    "$\\pm 0.0$ and **subnormal numbers**. Subnormal\n",
    "numbers are an exception to our normalized floating-point representation,\n",
    "an exception that is useful in various ways. For details see {cite}`goldberg`."
   ]
  },
  {
   "cell_type": "markdown",
   "id": "4e3b722a",
   "metadata": {},
   "source": [
    "Here is how plus and minus infinity is represented in the computer:\n",
    "\\begin{equation*}\n",
    "\\infty\\rightarrow\n",
    "\\begin{array}{|c|c|c|c|c|c|c|}\n",
    "\\hline\n",
    "0 & \\textcolor{blue}{1} & \\textcolor{blue}{\\text{all ones}} & \\textcolor{blue}{1} & \\textcolor{red}{0} & \\textcolor{red}{\\text{all zeros}} & \\textcolor{red}{0}\\\\\n",
    "\\hline\n",
    "\\end{array}\n",
    "\\end{equation*}\\\n",
    "\n",
    "\\begin{equation*}\n",
    "-\\infty\\rightarrow \n",
    "\\begin{array}{|c|c|c|c|c|c|c|}\n",
    "\\hline\n",
    "1 & \\textcolor{blue}{1} & \\textcolor{blue}{\\text{all ones}} & \\textcolor{blue}{1} & \\textcolor{red}{0} & \\textcolor{red}{\\text{all zeros}} & \\textcolor{red}{0}\\\\\n",
    "\\hline\n",
    "\\end{array}\n",
    "\\end{equation*}"
   ]
  },
  {
   "cell_type": "markdown",
   "id": "04b300e9",
   "metadata": {},
   "source": [
    "When the exponent bits are set to one, we have $e=2047$ and thus\n",
    "$e-1023=1024.$ This arrangement is reserved for $\\pm \\infty$ as\n",
    "well as other special values such as NaN (not-a-number).\n",
    "\n",
    "In conclusion, even though $-1023\\leq e-1023\\leq 1024$ in {eq}`IEEE`,\n",
    "when it comes to representing non-zero real numbers, we only have\n",
    "access to exponents in the following range: $-1022\\leq e-1023\\leq 1023.$\n",
    "\n",
    "Therefore, the smallest positive real number that can be represented in a computer is\n",
    "\\begin{equation*}\n",
    "x=(-1)^{0}(1.00\\ldots0)_{2}\\times2^{-1022}=2^{-1022}\\approx0.2\\times10^{-307}\n",
    "\\end{equation*}\n",
    "and the largest is\n",
    "\\begin{align*}\n",
    "x=(-1)^{0}(1.11\\ldots1)_{2}\\times2^{1023}&=\\left(1+\\frac{1}{2}+\\frac{1}{2^{2}}+...+\\frac{1}{2^{52}}\\right)\\times2^{1023}\\\\\n",
    "&=(2-2^{-52})2^{1023}\\\\\n",
    "&\\approx0.18\\times10^{309}.\n",
    "\\end{align*}\n",
    "\n",
    "During a calculation, if a number\n",
    "less than the smallest floating-point number is obtained, then we obtain\n",
    "the **underflow error**. A number greater than the largest\n",
    "gives **overflow error**."
   ]
  },
  {
   "cell_type": "markdown",
   "id": "ef0681a2",
   "metadata": {},
   "source": [
    "**Excercise 1.5**\n",
    "\n",
    "Consider the following toy model for a normalized floating-point representation\n",
    "in base 2: $x=(-1)^{s}(1.a_{2}a_{3})_{2}\\times2^{e}$ where $-1\\leq e\\leq1$.\n",
    "Find all positive machine numbers (there are 12 of them) that can\n",
    "be represented in this model. Convert the numbers to base 10, and\n",
    "then carefully plot them on the number line, by hand, and comment\n",
    "on how the numbers are spaced."
   ]
  },
  {
   "cell_type": "markdown",
   "id": "68f2246c",
   "metadata": {},
   "source": [
    "### Representation of integers"
   ]
  },
  {
   "cell_type": "markdown",
   "id": "73ba8ae8",
   "metadata": {},
   "source": [
    "In the previous section, we discussed representing real numbers in a computer. Here we will give a brief discussion of representing integers. How does a computer represent an integer $n$? As in real numbers, we start with writing $n$ in base 2. We have 64 bits to represent its digits and sign. As in the floating-point representation, we can allocate one bit for the sign, and use the rest, 63 bits, for the digits. This approach has some disadvantages when we start adding integers. Another approach, known as the **two's complement**, is more commonly used, including in Python.\n",
    "\n",
    "For an example, assume we have 8 bits in our computer. To represent 12 in two's complement (or any positive integer), we simply write it in its base 2 expansion: $(00001100)_2$. To represent $-12$, we do the following: flip all digits, replacing 1 by 0, and 0 by 1, and then add 1 to the result. When we flip digits for 12, we get  $(11110011)_2$, and adding 1 (in binary), gives $(11110100)_2$. Therefore $-12$ is represented as $(11110100)_2$ in two's complement approach. It may seem mysterious to go through all this trouble to represent $-12$, until you add the representations of 12 and $-12$,\n",
    "\\begin{equation*}\n",
    "(00001100)_2 + (11110100)_2 = (\\textcolor{red}{1}00000000)_2\n",
    "\\end{equation*}\n",
    "and realize that the first 8 digits of the sum (from right to left), which is what the computer can only represent (ignoring the red digit 1), is $(00000000)_2$. So just like $12+(-12)=0$ in base 10, the sum of the representations of these numbers is also 0.\n",
    "\n",
    "We can repeat these calculations with 64-bits, using Python. The function \\textit{int2bin} defined below outputs the digits of an integer, using two's complement for negative numbers:"
   ]
  },
  {
   "cell_type": "code",
   "execution_count": 71,
   "id": "9ab425b1",
   "metadata": {
    "scrolled": true
   },
   "outputs": [],
   "source": [
    "import struct\n",
    "def int2bin(i):\n",
    "    (d,) = struct.unpack(\">Q\", struct.pack(\">q\", i))    \n",
    "    return f'{d:064b}'"
   ]
  },
  {
   "cell_type": "code",
   "execution_count": 72,
   "id": "1c0b503a",
   "metadata": {
    "scrolled": true
   },
   "outputs": [
    {
     "data": {
      "text/plain": [
       "'0000000000000000000000000000000000000000000000000000000000001100'"
      ]
     },
     "execution_count": 72,
     "metadata": {},
     "output_type": "execute_result"
    }
   ],
   "source": [
    "int2bin(12)"
   ]
  },
  {
   "cell_type": "markdown",
   "id": "391cb050",
   "metadata": {},
   "source": [
    "```{bibliography}\n",
    "```"
   ]
  },
  {
   "cell_type": "code",
   "execution_count": 73,
   "id": "dd509bd0",
   "metadata": {
    "scrolled": true
   },
   "outputs": [
    {
     "data": {
      "text/plain": [
       "'1111111111111111111111111111111111111111111111111111111111110100'"
      ]
     },
     "execution_count": 73,
     "metadata": {},
     "output_type": "execute_result"
    }
   ],
   "source": [
    "int2bin(-12)"
   ]
  },
  {
   "cell_type": "markdown",
   "id": "2f519be9",
   "metadata": {},
   "source": [
    "You can verify that the sum of these representations is 0, when truncated to 64-digits.\n",
    "\n",
    "Here is another example illustrating the advantages of two's complement. Consider $-3$ and 5, with representations,\n",
    "\\begin{equation*}\n",
    "-3=(11111101)_2 \\text{ and }\n",
    "5=(00000101)_2.\n",
    "\\end{equation*}\n",
    "\n",
    "The sum of $-3$ and 5 is 2; what about the binary sum of their representations? We have\n",
    "\\begin{equation*}\n",
    "(11111101)_2+(00000101)_2=(\\textcolor{red}{1}00000010)_2\n",
    "\\end{equation*}\n",
    "and if we ignore the ninth bit in red, the result is $(10)_2$, which is indeed 2. Notice that if we followed the same approach used in the floating-point representation and allocated the leftmost bit to the sign of the integer, we would not have had this property.\n",
    "\n",
    "We will not discuss integer representations and integer arithmetic any further. However one useful fact to keep in mind is the following: in two's complement, using 64 bits, one can represent integers between $-2^{63}=-9223372036854775808$ and $2^{63}-1=9223372036854775807$. Any integer below or above yields **underflow** or **overflow** error. However, Python is special compared to the other programming languages in that it supports arbitrary-precision integer implementation. Integers of any size can be supported in Python, while it is not true for floats."
   ]
  },
  {
   "cell_type": "markdown",
   "id": "572c61cb",
   "metadata": {},
   "source": [
    "```{prf:example}\n",
    ":label: chap1_exa10\n",
    "\n",
    "From Calculus, we know that $\\lim_{n->\\infty} \\frac{n^n}{n!}=\\infty$. Therefore, computing $\\frac{n^n}{n!}$, which is a float, for large $n$ will cause overflow at some point. Here is a Python code for this calculation:\n",
    "```"
   ]
  },
  {
   "cell_type": "code",
   "execution_count": 74,
   "id": "ba9902e5",
   "metadata": {
    "scrolled": true
   },
   "outputs": [],
   "source": [
    "from scipy.special import factorial\n",
    "f = lambda n: n**n/factorial(n)"
   ]
  },
  {
   "cell_type": "markdown",
   "id": "aa5a9311",
   "metadata": {},
   "source": [
    "Let's have a closer look at this function. The Python function \\textbf{factorial(n)} computes the factorial, returned as a float, as the gamma function at $n+1$. If we call $f$ with an integer input, then the above code will compute $n^n$ as an integer and $\\text{factorial}(n)$ as a float. Then it will divide these numbers, by first converting $n^n$ to a float, and obtain a floating-point factorial. Let's compute\n",
    "$f(n)=\\frac{n^n}{n!}$ as $n=1,...,1000$:"
   ]
  },
  {
   "cell_type": "code",
   "execution_count": 81,
   "id": "70b3c372",
   "metadata": {
    "scrolled": true,
    "tags": [
     "{",
     "\"tags\":",
     "[",
     "\"output_scroll\"",
     "]",
     "}",
     "output_scroll"
    ]
   },
   "outputs": [
    {
     "name": "stdout",
     "output_type": "stream",
     "text": [
      "1 1.0\n",
      "2 2.0\n",
      "3 4.5\n",
      "4 10.666666666666666\n",
      "5 26.041666666666668\n",
      "6 64.8\n",
      "7 163.4013888888889\n",
      "8 416.1015873015873\n",
      "9 1067.6270089285715\n",
      "10 2755.731922398589\n",
      "11 7147.658895778219\n",
      "12 18613.926233766233\n",
      "13 48638.8461384701\n",
      "14 127463.00337621226\n",
      "15 334864.627690599\n",
      "16 881657.9515664614\n",
      "17 2325750.6353670303\n",
      "18 6145596.911985091\n",
      "19 16263866.353935543\n",
      "20 43099804.12182177\n",
      "21 114356611.3686037\n",
      "22 303761260.04766583\n",
      "23 807692034.6582023\n",
      "24 2149632061.4646716\n",
      "25 5726042115.469875\n",
      "26 15264691107.046675\n",
      "27 40722913454.160416\n",
      "28 108713644516.20932\n",
      "29 290404350962.9901\n",
      "30 776207020879.728\n",
      "31 2075825009901.003\n",
      "32 5554277310717.434\n",
      "33 14868745536619.768\n",
      "34 39821588060720.56\n",
      "35 106696188125885.62\n",
      "36 285992654335445.2\n",
      "37 766879127067901.0\n",
      "38 2057103777254334.5\n",
      "39 5519943051629867.0\n",
      "40 1.4816805671322662e+16\n",
      "41 3.9784069108519944e+16\n",
      "42 1.0685429454599882e+17\n",
      "43 2.8707602164766144e+17\n",
      "44 7.714688909178948e+17\n",
      "45 2.073725455492908e+18\n",
      "46 5.575586585767318e+18\n",
      "47 1.4994492532091273e+19\n",
      "48 4.03339361002671e+19\n",
      "49 1.0851831788708546e+20\n",
      "50 2.9202857169191866e+20\n",
      "51 7.860206077134315e+20\n",
      "52 2.1160478142780536e+21\n",
      "53 5.697663900168533e+21\n",
      "54 1.5344226789979207e+22\n",
      "55 4.133017184882951e+22\n",
      "56 1.1134245021677868e+23\n",
      "57 3.000013296152004e+23\n",
      "58 8.084479037628234e+23\n",
      "59 2.1789390785575456e+24\n",
      "60 5.873543285009077e+24\n",
      "61 1.5834897308448032e+25\n",
      "62 4.269611651826635e+25\n",
      "63 1.1513773778377436e+26\n",
      "64 3.1052848010126177e+26\n",
      "65 8.3760242842885e+26\n",
      "66 2.2595687315837237e+27\n",
      "67 6.096250282616914e+27\n",
      "68 1.6449327945594907e+28\n",
      "69 4.438950122780101e+28\n",
      "70 1.198002613029648e+29\n",
      "71 3.2335484653005814e+29\n",
      "72 8.72858533644468e+29\n",
      "73 2.3564056090942196e+30\n",
      "74 6.362045919639802e+30\n",
      "75 1.7178412626264913e+31\n",
      "76 4.638821880509554e+31\n",
      "77 1.2527655344509842e+32\n",
      "78 3.383517021537223e+32\n",
      "79 9.139079946268589e+32\n",
      "80 2.4687165974114656e+33\n",
      "81 6.669200710894894e+33\n",
      "82 1.8018112811152115e+34\n",
      "83 4.868296055291825e+34\n",
      "84 1.3154551846753897e+35\n",
      "85 3.5547231931281884e+35\n",
      "86 9.606505987793982e+35\n",
      "87 2.5962970270453022e+36\n",
      "88 7.017329595384578e+36\n",
      "89 1.8967815247508388e+37\n",
      "90 5.127315709529858e+37\n",
      "91 1.3860838995665697e+38\n",
      "92 3.74727103462557e+38\n",
      "93 1.0131325235435687e+39\n",
      "94 2.7393178441482474e+39\n",
      "95 7.407012632304309e+39\n",
      "96 2.0029389939554914e+40\n",
      "97 5.416463730655615e+40\n",
      "98 1.4648290958181994e+41\n",
      "99 3.9616911056658315e+41\n",
      "100 1.0715102881254669e+42\n",
      "101 2.898235845689207e+42\n",
      "102 7.839571392600314e+42\n",
      "103 2.1206632955113312e+43\n",
      "104 5.736823952982959e+43\n",
      "105 1.551998649486449e+44\n",
      "106 4.198854150727546e+44\n",
      "107 1.136029230339268e+45\n",
      "108 3.073740014077651e+45\n",
      "109 8.316935162693644e+45\n",
      "110 2.2504932907103145e+46\n",
      "111 6.089898041900186e+46\n",
      "112 1.6480101901073126e+47\n",
      "113 4.459919540030163e+47\n",
      "114 1.2070106753482381e+48\n",
      "115 3.26671960681431e+48\n",
      "116 8.841561651906265e+48\n",
      "117 2.393107411698789e+49\n",
      "118 6.477556687451066e+49\n",
      "119 1.7533790152611896e+50\n",
      "120 4.746305390490181e+50\n",
      "121 1.2848445620360088e+51\n",
      "122 3.4782459979728686e+51\n",
      "123 9.416392383935284e+51\n",
      "124 2.5493127339557556e+52\n",
      "125 6.902012924238449e+52\n",
      "126 1.8687116017035944e+53\n",
      "127 5.059672856069888e+53\n",
      "128 1.3699856602506274e+54\n",
      "129 3.70956362867368e+54\n",
      "130 1.00448312177488e+55\n",
      "131 2.7200399275386365e+55\n",
      "132 7.365810408105395e+55\n",
      "133 1.994702925605016e+56\n",
      "134 5.401920128725678e+56\n",
      "135 1.4629522660965042e+57\n",
      "136 3.962087287769907e+57\n",
      "137 1.0730739055834461e+58\n",
      "138 2.90634235201109e+58\n",
      "139 7.871822311096416e+58\n",
      "140 2.132136506640898e+59\n",
      "141 5.775183434192781e+59\n",
      "142 1.5643266954396485e+60\n",
      "143 4.2374040203696554e+60\n"
     ]
    },
    {
     "ename": "OverflowError",
     "evalue": "int too large to convert to float",
     "output_type": "error",
     "traceback": [
      "\u001b[1;31m---------------------------------------------------------------------------\u001b[0m",
      "\u001b[1;31mOverflowError\u001b[0m                             Traceback (most recent call last)",
      "\u001b[1;32m~\\AppData\\Local\\Temp/ipykernel_30924/2742899509.py\u001b[0m in \u001b[0;36m<module>\u001b[1;34m\u001b[0m\n\u001b[0;32m      1\u001b[0m \u001b[1;32mfor\u001b[0m \u001b[0mn\u001b[0m \u001b[1;32min\u001b[0m \u001b[0mrange\u001b[0m\u001b[1;33m(\u001b[0m\u001b[1;36m1\u001b[0m\u001b[1;33m,\u001b[0m \u001b[1;36m1001\u001b[0m\u001b[1;33m)\u001b[0m\u001b[1;33m:\u001b[0m\u001b[1;33m\u001b[0m\u001b[1;33m\u001b[0m\u001b[0m\n\u001b[1;32m----> 2\u001b[1;33m     \u001b[0mprint\u001b[0m\u001b[1;33m(\u001b[0m\u001b[0mn\u001b[0m\u001b[1;33m,\u001b[0m \u001b[0mf\u001b[0m\u001b[1;33m(\u001b[0m\u001b[0mn\u001b[0m\u001b[1;33m)\u001b[0m\u001b[1;33m)\u001b[0m\u001b[1;33m\u001b[0m\u001b[1;33m\u001b[0m\u001b[0m\n\u001b[0m",
      "\u001b[1;32m~\\AppData\\Local\\Temp/ipykernel_30924/1974136127.py\u001b[0m in \u001b[0;36m<lambda>\u001b[1;34m(n)\u001b[0m\n\u001b[0;32m      1\u001b[0m \u001b[1;32mfrom\u001b[0m \u001b[0mscipy\u001b[0m\u001b[1;33m.\u001b[0m\u001b[0mspecial\u001b[0m \u001b[1;32mimport\u001b[0m \u001b[0mfactorial\u001b[0m\u001b[1;33m\u001b[0m\u001b[1;33m\u001b[0m\u001b[0m\n\u001b[1;32m----> 2\u001b[1;33m \u001b[0mf\u001b[0m \u001b[1;33m=\u001b[0m \u001b[1;32mlambda\u001b[0m \u001b[0mn\u001b[0m\u001b[1;33m:\u001b[0m \u001b[0mn\u001b[0m\u001b[1;33m**\u001b[0m\u001b[0mn\u001b[0m\u001b[1;33m/\u001b[0m\u001b[0mfactorial\u001b[0m\u001b[1;33m(\u001b[0m\u001b[0mn\u001b[0m\u001b[1;33m)\u001b[0m\u001b[1;33m\u001b[0m\u001b[1;33m\u001b[0m\u001b[0m\n\u001b[0m",
      "\u001b[1;31mOverflowError\u001b[0m: int too large to convert to float"
     ]
    }
   ],
   "source": [
    "for n in range(1, 1001):\n",
    "    print(n, f(n))"
   ]
  },
  {
   "cell_type": "markdown",
   "id": "d123934f",
   "metadata": {},
   "source": [
    "Notice that the process cannot proceed beyond $n=143$.  Where exactly does the error occur? Python can compute $144^{144}$ exactly (arbitrary-precision); however, when it is converted to a floating-point number, overflow occurs. For $143^{143}$, overflow does not happen."
   ]
  },
  {
   "cell_type": "code",
   "execution_count": 82,
   "id": "5e6c5a77",
   "metadata": {
    "scrolled": true
   },
   "outputs": [
    {
     "data": {
      "text/plain": [
       "1.6332525972973913e+308"
      ]
     },
     "execution_count": 82,
     "metadata": {},
     "output_type": "execute_result"
    }
   ],
   "source": [
    "float(143**143)"
   ]
  },
  {
   "cell_type": "code",
   "execution_count": 83,
   "id": "b5c83564",
   "metadata": {
    "scrolled": true
   },
   "outputs": [
    {
     "ename": "OverflowError",
     "evalue": "int too large to convert to float",
     "output_type": "error",
     "traceback": [
      "\u001b[1;31m---------------------------------------------------------------------------\u001b[0m",
      "\u001b[1;31mOverflowError\u001b[0m                             Traceback (most recent call last)",
      "\u001b[1;32m~\\AppData\\Local\\Temp/ipykernel_30924/889305548.py\u001b[0m in \u001b[0;36m<module>\u001b[1;34m\u001b[0m\n\u001b[1;32m----> 1\u001b[1;33m \u001b[0mfloat\u001b[0m\u001b[1;33m(\u001b[0m\u001b[1;36m144\u001b[0m\u001b[1;33m**\u001b[0m\u001b[1;36m144\u001b[0m\u001b[1;33m)\u001b[0m\u001b[1;33m\u001b[0m\u001b[1;33m\u001b[0m\u001b[0m\n\u001b[0m",
      "\u001b[1;31mOverflowError\u001b[0m: int too large to convert to float"
     ]
    }
   ],
   "source": [
    "float(144**144)"
   ]
  },
  {
   "cell_type": "markdown",
   "id": "2da038c4",
   "metadata": {},
   "source": [
    "The function $f(n)$ can be coded in a much better way if we rewrite $\\frac{n^n}{n!}$ as $\\frac{n}{n}\\frac{n}{n-1}...\\frac{n}{1}$. Each fraction can be computed separately, and then multiplied,  which will slow down the growth of the numbers. Here is a new code using a \\textbf{for} statement."
   ]
  },
  {
   "cell_type": "code",
   "execution_count": 84,
   "id": "55e95b5b",
   "metadata": {
    "scrolled": true
   },
   "outputs": [],
   "source": [
    "def f(n):\n",
    "    pr = 1.\n",
    "    for i in range(1, n):\n",
    "        pr *= n/(n-i)\n",
    "    return pr"
   ]
  },
  {
   "cell_type": "markdown",
   "id": "9f27d6a5",
   "metadata": {},
   "source": [
    "Let's compute $f(n)=\\frac{n^n}{n!}$ as $n=1,...,1000$ again:"
   ]
  },
  {
   "cell_type": "code",
   "execution_count": 86,
   "id": "c5713540",
   "metadata": {
    "scrolled": true,
    "tags": [
     "output_scroll"
    ]
   },
   "outputs": [
    {
     "name": "stdout",
     "output_type": "stream",
     "text": [
      "1 1.0\n",
      "2 2.0\n",
      "3 4.5\n",
      "4 10.666666666666666\n",
      "5 26.04166666666667\n",
      "6 64.8\n",
      "7 163.4013888888889\n",
      "8 416.1015873015873\n",
      "9 1067.6270089285717\n",
      "10 2755.7319223985896\n",
      "11 7147.658895778218\n",
      "12 18613.92623376623\n",
      "13 48638.846138470086\n",
      "14 127463.00337621223\n",
      "15 334864.62769059895\n",
      "16 881657.9515664612\n",
      "17 2325750.6353670293\n",
      "18 6145596.911985093\n",
      "19 16263866.35393554\n",
      "20 43099804.12182178\n",
      "21 114356611.36860378\n",
      "22 303761260.04766595\n",
      "23 807692034.6582019\n",
      "24 2149632061.46467\n",
      "25 5726042115.469877\n",
      "26 15264691107.046677\n",
      "27 40722913454.16043\n",
      "28 108713644516.20929\n",
      "29 290404350962.99005\n",
      "30 776207020879.7278\n",
      "31 2075825009901.0051\n",
      "32 5554277310717.432\n",
      "33 14868745536619.773\n",
      "34 39821588060720.57\n",
      "35 106696188125885.61\n",
      "36 285992654335445.25\n",
      "37 766879127067901.2\n",
      "38 2057103777254333.8\n",
      "39 5519943051629865.0\n",
      "40 1.481680567132267e+16\n",
      "41 3.9784069108519896e+16\n",
      "42 1.0685429454599886e+17\n",
      "43 2.8707602164766144e+17\n",
      "44 7.714688909178948e+17\n",
      "45 2.0737254554929075e+18\n",
      "46 5.575586585767318e+18\n",
      "47 1.4994492532091275e+19\n",
      "48 4.033393610026708e+19\n",
      "49 1.0851831788708546e+20\n",
      "50 2.920285716919191e+20\n",
      "51 7.860206077134318e+20\n",
      "52 2.1160478142780536e+21\n",
      "53 5.697663900168536e+21\n",
      "54 1.5344226789979213e+22\n",
      "55 4.133017184882952e+22\n",
      "56 1.1134245021677864e+23\n",
      "57 3.0000132961520014e+23\n",
      "58 8.08447903762823e+23\n",
      "59 2.1789390785575456e+24\n",
      "60 5.873543285009077e+24\n",
      "61 1.583489730844801e+25\n",
      "62 4.26961165182664e+25\n",
      "63 1.151377377837744e+26\n",
      "64 3.105284801012615e+26\n",
      "65 8.376024284288511e+26\n",
      "66 2.259568731583724e+27\n",
      "67 6.09625028261691e+27\n",
      "68 1.6449327945594896e+28\n",
      "69 4.4389501227800975e+28\n",
      "70 1.198002613029647e+29\n",
      "71 3.233548465300581e+29\n",
      "72 8.72858533644468e+29\n",
      "73 2.3564056090942187e+30\n",
      "74 6.362045919639798e+30\n",
      "75 1.717841262626492e+31\n",
      "76 4.638821880509547e+31\n",
      "77 1.252765534450985e+32\n",
      "78 3.38351702153722e+32\n",
      "79 9.139079946268593e+32\n",
      "80 2.468716597411465e+33\n",
      "81 6.669200710894893e+33\n",
      "82 1.8018112811152087e+34\n",
      "83 4.868296055291834e+34\n",
      "84 1.3154551846753903e+35\n",
      "85 3.5547231931281884e+35\n",
      "86 9.606505987793982e+35\n",
      "87 2.596297027045303e+36\n",
      "88 7.017329595384586e+36\n",
      "89 1.89678152475084e+37\n",
      "90 5.127315709529861e+37\n",
      "91 1.386083899566571e+38\n",
      "92 3.747271034625568e+38\n",
      "93 1.0131325235435703e+39\n",
      "94 2.7393178441482474e+39\n",
      "95 7.407012632304307e+39\n",
      "96 2.0029389939554902e+40\n",
      "97 5.416463730655616e+40\n",
      "98 1.4648290958181994e+41\n",
      "99 3.961691105665826e+41\n",
      "100 1.0715102881254684e+42\n",
      "101 2.898235845689207e+42\n",
      "102 7.839571392600306e+42\n",
      "103 2.120663295511333e+43\n",
      "104 5.736823952982956e+43\n",
      "105 1.551998649486448e+44\n",
      "106 4.198854150727548e+44\n",
      "107 1.1360292303392675e+45\n",
      "108 3.073740014077657e+45\n",
      "109 8.316935162693653e+45\n",
      "110 2.2504932907103145e+46\n",
      "111 6.089898041900195e+46\n",
      "112 1.6480101901073116e+47\n",
      "113 4.459919540030163e+47\n",
      "114 1.207010675348237e+48\n",
      "115 3.2667196068143096e+48\n",
      "116 8.841561651906262e+48\n",
      "117 2.393107411698791e+49\n",
      "118 6.477556687451058e+49\n",
      "119 1.753379015261188e+50\n",
      "120 4.746305390490175e+50\n",
      "121 1.2848445620360104e+51\n",
      "122 3.478245997972867e+51\n",
      "123 9.416392383935275e+51\n",
      "124 2.5493127339557556e+52\n",
      "125 6.902012924238453e+52\n",
      "126 1.8687116017035965e+53\n",
      "127 5.059672856069882e+53\n",
      "128 1.3699856602506262e+54\n",
      "129 3.7095636286736794e+54\n",
      "130 1.0044831217748814e+55\n",
      "131 2.7200399275386404e+55\n",
      "132 7.365810408105398e+55\n",
      "133 1.9947029256050195e+56\n",
      "134 5.401920128725678e+56\n",
      "135 1.4629522660965063e+57\n",
      "136 3.9620872877699045e+57\n",
      "137 1.0730739055834447e+58\n",
      "138 2.9063423520110893e+58\n",
      "139 7.871822311096422e+58\n",
      "140 2.1321365066408954e+59\n",
      "141 5.7751834341927865e+59\n",
      "142 1.5643266954396465e+60\n",
      "143 4.2374040203696526e+60\n",
      "144 1.1478440475610802e+61\n",
      "145 3.1093982266543913e+61\n",
      "146 8.42325815718114e+61\n",
      "147 2.2818865047813226e+62\n",
      "148 6.181843340005503e+62\n",
      "149 1.6747571537347996e+63\n",
      "150 4.537278606250998e+63\n",
      "151 1.2292739630930912e+64\n",
      "152 3.330515210625084e+64\n",
      "153 9.023676930255959e+64\n",
      "154 2.4449214514023576e+65\n",
      "155 6.624535326790721e+65\n",
      "156 1.7949607192256203e+66\n",
      "157 4.863661949182378e+66\n",
      "158 1.3178943772667414e+67\n",
      "159 3.571136979574354e+67\n",
      "160 9.677005419347709e+67\n",
      "161 2.6223093557471638e+68\n",
      "162 7.1061639753031565e+68\n",
      "163 1.925727277727397e+69\n",
      "164 5.218701973241486e+69\n",
      "165 1.414289338100381e+70\n",
      "166 3.8328515477589505e+70\n",
      "167 1.0387561176557246e+71\n",
      "168 2.815224031581615e+71\n",
      "169 7.629920384331333e+71\n",
      "170 2.0679243137011046e+72\n",
      "171 5.60475679070332e+72\n",
      "172 1.519099832919742e+73\n",
      "173 4.117401193041999e+73\n",
      "174 1.1160079738415468e+74\n",
      "175 3.0249525587933326e+74\n",
      "176 8.199302612340216e+74\n",
      "177 2.222502507552923e+75\n",
      "178 6.024410021229209e+75\n",
      "179 1.6330279792047593e+76\n",
      "180 4.426693917026818e+76\n",
      "181 1.1999745952355402e+77\n",
      "182 3.252903843479908e+77\n",
      "183 8.818139060466311e+77\n",
      "184 2.3905021210113364e+78\n",
      "185 6.48048822382477e+78\n",
      "186 1.7568417821794137e+79\n",
      "187 4.762816426305189e+79\n",
      "188 1.2912229387976535e+80\n",
      "189 3.5006182755290005e+80\n",
      "190 9.490614805681046e+80\n",
      "191 2.573060175914815e+81\n",
      "192 6.976080463543653e+81\n",
      "193 1.891380467024954e+82\n",
      "194 5.1280486611017305e+82\n",
      "195 1.3903723916935297e+83\n",
      "196 3.7697785096390913e+83\n",
      "197 1.022130096272233e+84\n",
      "198 2.77141844983302e+84\n",
      "199 7.514560081859098e+84\n",
      "200 2.0375604057921747e+85\n",
      "201 5.524879929308393e+85\n",
      "202 1.4980991627847728e+86\n",
      "203 4.0622214172427066e+86\n",
      "204 1.1015187209514397e+87\n",
      "205 2.986932326600318e+87\n",
      "206 8.099608777938188e+87\n",
      "207 2.1963816691146752e+88\n",
      "208 5.956026730170594e+88\n",
      "209 1.6151411311478586e+89\n",
      "210 4.3799512748790566e+89\n",
      "211 1.1877717658324937e+90\n",
      "212 3.2210805523442983e+90\n",
      "213 8.735243140983809e+90\n",
      "214 2.3689352415063163e+91\n",
      "215 6.4244523747940336e+91\n",
      "216 1.74230318120021e+92\n",
      "217 4.7251542705622864e+92\n",
      "218 1.2814830297252362e+93\n",
      "219 3.4754759588091777e+93\n",
      "220 9.42584380355192e+93\n",
      "221 2.556410946919441e+94\n",
      "222 6.933388531610192e+94\n",
      "223 1.880463059586577e+95\n",
      "224 5.1002144245256194e+95\n",
      "225 1.3833000266141324e+96\n",
      "226 3.7518772263034314e+96\n",
      "227 1.01761874138367e+97\n",
      "228 2.7601061387376622e+97\n",
      "229 7.486358844964272e+97\n",
      "230 2.030577794332652e+98\n",
      "231 5.507731035042956e+98\n",
      "232 1.493928726935934e+99\n",
      "233 4.052201768868784e+99\n",
      "234 1.0991481652438422e+100\n",
      "235 2.9814352157577752e+100\n",
      "236 8.087204794796654e+100\n",
      "237 2.193690722090323e+101\n",
      "238 5.95053777431425e+101\n",
      "239 1.6141387466263185e+102\n",
      "240 4.378539834593071e+102\n",
      "241 1.1877403546904882e+103\n",
      "242 3.2219400331915657e+103\n",
      "243 8.740113985519147e+103\n",
      "244 2.3709391747224618e+104\n",
      "245 6.431723574016972e+104\n",
      "246 1.7447690219584072e+105\n",
      "247 4.733169924615158e+105\n",
      "248 1.2840141366006204e+106\n",
      "249 3.4833012854553513e+106\n",
      "250 9.449651073074732e+106\n",
      "251 2.5635628821150116e+107\n",
      "252 6.95465545536e+107\n",
      "253 1.8867340123126726e+108\n",
      "254 5.11857564549587e+108\n",
      "255 1.388644040577844e+109\n",
      "256 3.767350945647505e+109\n",
      "257 1.022079156116496e+110\n",
      "258 2.772913154054641e+110\n",
      "259 7.523003474577936e+110\n",
      "260 2.0410304773749747e+111\n",
      "261 5.537464121423557e+111\n",
      "262 1.5023653011302969e+112\n",
      "263 4.076085855260692e+112\n",
      "264 1.1058958721045081e+113\n",
      "265 3.000462910352867e+113\n",
      "266 8.14076797198489e+113\n",
      "267 2.2087448799146888e+114\n",
      "268 5.992786105336744e+114\n",
      "269 1.6259793212374632e+115\n",
      "270 4.4116825669408705e+115\n",
      "271 1.1970063914403172e+116\n",
      "272 3.247817635206273e+116\n",
      "273 8.812309331168172e+116\n",
      "274 2.391061470300828e+117\n",
      "275 6.487757941622224e+117\n",
      "276 1.7603596388028485e+118\n",
      "277 4.776513553091653e+118\n",
      "278 1.2960550625927264e+119\n",
      "279 3.516727339130854e+119\n",
      "280 9.542380474837798e+119\n",
      "281 2.589271114322551e+120\n",
      "282 7.025885547720942e+120\n",
      "283 1.9064584414713852e+121\n",
      "284 5.173164903927287e+121\n",
      "285 1.4037442541486945e+122\n",
      "286 3.809099619766039e+122\n",
      "287 1.0336162345444411e+123\n",
      "288 2.80478093174234e+123\n",
      "289 7.610990597885944e+123\n",
      "290 2.065313679609402e+124\n",
      "291 5.604455650301734e+124\n",
      "292 1.5208396039682285e+125\n",
      "293 4.127013921484561e+125\n",
      "294 1.1199302642136033e+126\n",
      "295 3.039124819379012e+126\n",
      "296 8.247239109627078e+126\n",
      "297 2.2380568319397974e+127\n",
      "298 6.073458859388726e+127\n",
      "299 1.6481757499125833e+128\n",
      "300 4.472737103142234e+128\n",
      "301 1.2137958111145053e+129\n",
      "302 3.2939749394472764e+129\n",
      "303 8.939172652196277e+129\n",
      "304 2.425921383435442e+130\n",
      "305 6.583524665165869e+130\n",
      "306 1.7866625861512363e+131\n",
      "307 4.848740433538116e+131\n",
      "308 1.3158840714493804e+132\n",
      "309 3.571154261430674e+132\n",
      "310 9.691742416971457e+132\n",
      "311 2.630252080642776e+133\n",
      "312 7.138305410780968e+133\n",
      "313 1.937292093161324e+134\n",
      "314 5.257718145312713e+134\n",
      "315 1.4269268032216341e+135\n",
      "316 3.8726502539967454e+135\n",
      "317 1.0510346411957682e+136\n",
      "318 2.852515035681157e+136\n",
      "319 7.741783096376396e+136\n",
      "320 2.1011457940143395e+137\n",
      "321 5.702607690185135e+137\n",
      "322 1.5477218286355315e+138\n",
      "323 4.200629832443856e+138\n",
      "324 1.1400870067019067e+139\n",
      "325 3.094308756790338e+139\n",
      "326 8.398299343948518e+139\n",
      "327 2.2794028944347603e+140\n",
      "328 6.186611851712586e+140\n",
      "329 1.679139041107944e+141\n",
      "330 4.5574556769726e+141\n",
      "331 1.2369730563085204e+142\n",
      "332 3.357376190532597e+142\n",
      "333 9.112588110471681e+142\n",
      "334 2.473349169454258e+143\n",
      "335 6.713222886259903e+143\n",
      "336 1.822126963266615e+144\n",
      "337 4.945704047777442e+144\n",
      "338 1.3423925227653705e+145\n",
      "339 3.643617868655294e+145\n",
      "340 9.88981140197507e+145\n",
      "341 2.6843866653146904e+146\n",
      "342 7.286248878703198e+146\n",
      "343 1.9777199066119444e+147\n",
      "344 5.368184234643274e+147\n",
      "345 1.4571084370663876e+148\n",
      "346 3.9551062612467614e+148\n",
      "347 1.0735598264699504e+149\n",
      "348 2.914044291640695e+149\n",
      "349 7.909842516692477e+149\n",
      "350 2.147045788219223e+150\n",
      "351 5.827959791500507e+150\n",
      "352 1.581952896950821e+151\n",
      "353 4.294101447242591e+151\n",
      "354 1.1656087355063412e+152\n",
      "355 3.163989385858752e+152\n",
      "356 8.588532506194127e+152\n",
      "357 2.3313346649924287e+153\n",
      "358 6.328371720339829e+153\n",
      "359 1.7178333649842233e+154\n",
      "360 4.663068223635443e+154\n",
      "361 1.2657973418142355e+155\n",
      "362 3.436040339439065e+155\n",
      "363 9.327257871683235e+155\n",
      "364 2.5319280515901315e+156\n",
      "365 6.87306378413002e+156\n",
      "366 1.865739545026157e+157\n",
      "367 5.06469478599074e+157\n",
      "368 1.3748558034925262e+158\n",
      "369 3.7321803838405254e+158\n",
      "370 1.013140540691518e+159\n",
      "371 2.750289094273547e+159\n",
      "372 7.466010145032731e+159\n",
      "373 2.0267508904156617e+160\n",
      "374 5.5019131251632526e+160\n",
      "375 1.4935805032013574e+161\n",
      "376 4.0545726431127e+161\n",
      "377 1.1006850566857062e+162\n",
      "378 2.988013679624788e+162\n",
      "379 8.111545542407982e+162\n",
      "380 2.202044802149995e+163\n",
      "381 5.977921298542024e+163\n",
      "382 1.62284009839198e+164\n",
      "383 4.405576570024306e+164\n",
      "384 1.1960002118303385e+165\n",
      "385 3.2468425644024405e+165\n",
      "386 8.814398244989346e+165\n",
      "387 2.3929055807349844e+166\n",
      "388 6.496207748831716e+166\n",
      "389 1.763582127801201e+167\n",
      "390 4.787765893424384e+167\n",
      "391 1.2997850896138407e+168\n",
      "392 3.5286746208013684e+168\n",
      "393 9.579726033342001e+168\n",
      "394 2.6007342012902264e+169\n",
      "395 7.060577859420968e+169\n",
      "396 1.916840225573428e+170\n",
      "397 5.203948216385326e+170\n",
      "398 1.4128023044387343e+171\n",
      "399 3.8355813001259446e+171\n",
      "400 1.0413155492469523e+172\n",
      "401 2.8270589879464204e+172\n",
      "402 7.675182952923639e+172\n",
      "403 2.0837419991380294e+173\n",
      "404 5.657186417620521e+173\n",
      "405 1.5358838156367175e+174\n",
      "406 4.169822427440538e+174\n",
      "407 1.1320824920397024e+175\n",
      "408 3.073547270625108e+175\n",
      "409 8.344551958642584e+175\n",
      "410 2.265517632176083e+176\n",
      "411 6.150822022817379e+176\n",
      "412 1.6699372766682611e+177\n",
      "413 4.533863450205881e+177\n",
      "414 1.2309431186933009e+178\n",
      "415 3.342018115001358e+178\n",
      "416 9.073625995653543e+178\n",
      "417 2.4635092797024084e+179\n",
      "418 6.688500727988631e+179\n",
      "419 1.8159529689831857e+180\n",
      "420 4.93039427532366e+180\n",
      "421 1.338628090782746e+181\n",
      "422 3.6344562248758005e+181\n",
      "423 9.867796141100456e+181\n",
      "424 2.679181328508912e+182\n",
      "425 7.274200273847912e+182\n",
      "426 1.9750113746102863e+183\n",
      "427 5.36234984148984e+183\n",
      "428 1.455934633344334e+184\n",
      "429 3.9530271253944466e+184\n",
      "430 1.0732944678322144e+185\n",
      "431 2.914131603015729e+185\n",
      "432 7.912260888689149e+185\n",
      "433 2.1482914465643521e+186\n",
      "434 5.832932587395485e+186\n",
      "435 1.5837326388118763e+187\n",
      "436 4.300093745622006e+187\n",
      "437 1.1675490146784249e+188\n",
      "438 3.170103604008571e+188\n",
      "439 8.607418537445635e+188\n",
      "440 2.3370796416454245e+189\n",
      "441 6.345636991222307e+189\n",
      "442 1.7229713336897375e+190\n",
      "443 4.678234529980735e+190\n",
      "444 1.2702436545694102e+191\n",
      "445 3.4489998758660024e+191\n",
      "446 9.364841236678371e+191\n",
      "447 2.54277978620358e+192\n",
      "448 6.904276373176743e+192\n",
      "449 1.874686560059002e+193\n",
      "450 5.090263220097804e+193\n",
      "451 1.3821427075865184e+194\n",
      "452 3.7528966067615044e+194\n",
      "453 1.0190168719376486e+195\n",
      "454 2.7669238519986037e+195\n",
      "455 7.513012170621022e+195\n",
      "456 2.040008728852957e+196\n",
      "457 5.539250461754733e+196\n",
      "458 1.5040802840128846e+197\n",
      "459 4.084059576034625e+197\n",
      "460 1.1089555759830438e+198\n",
      "461 3.01118372645213e+198\n",
      "462 8.176385914834665e+198\n",
      "463 2.220171507129669e+199\n",
      "464 6.0285474060107235e+199\n",
      "465 1.636966696165735e+200\n",
      "466 4.444961573538404e+200\n",
      "467 1.2069719497678254e+201\n",
      "468 3.2773840694244355e+201\n",
      "469 8.899354159728796e+201\n",
      "470 2.4165213073537476e+202\n",
      "471 6.56181148928758e+202\n",
      "472 1.781795462226168e+203\n",
      "473 4.838301427374088e+203\n",
      "474 1.313799113175057e+204\n",
      "475 3.5675163572150127e+204\n",
      "476 9.68732663611055e+204\n",
      "477 2.630527653023461e+205\n",
      "478 7.143034594385643e+205\n",
      "479 1.9396509569418503e+206\n",
      "480 5.267024789107969e+206\n",
      "481 1.4302372388804286e+207\n",
      "482 3.883754223849172e+207\n",
      "483 1.0546207930536975e+208\n",
      "484 2.863794501892171e+208\n",
      "485 7.776573813186128e+208\n",
      "486 2.111716769181049e+209\n",
      "487 5.734346839433423e+209\n",
      "488 1.557159720991589e+210\n",
      "489 4.22847021995204e+210\n",
      "490 1.1482443015616957e+211\n",
      "491 3.118072615591561e+211\n",
      "492 8.467185052328591e+211\n",
      "493 2.2992848318971177e+212\n",
      "494 6.243777092400747e+212\n",
      "495 1.695519913849635e+213\n",
      "496 4.604254120702593e+213\n",
      "497 1.2503066989029923e+214\n",
      "498 3.3952730727271374e+214\n",
      "499 9.22005974560589e+214\n",
      "500 2.503765396162106e+215\n",
      "501 6.799146492914913e+215\n",
      "502 1.8463584938928076e+216\n",
      "503 5.0139329265984147e+216\n",
      "504 1.361575941177785e+217\n",
      "505 3.6974820315500376e+217\n",
      "506 1.0040864961364084e+218\n",
      "507 2.7266979275981127e+218\n",
      "508 7.404637020319575e+218\n",
      "509 2.0108115024060755e+219\n",
      "510 5.4605927141394574e+219\n",
      "511 1.48289036725399e+220\n",
      "512 4.02697685818708e+220\n",
      "513 1.0935787220032823e+221\n",
      "514 2.9697630108267824e+221\n",
      "515 8.06481403070259e+221\n",
      "516 2.190119132364025e+222\n",
      "517 5.947602508167341e+222\n",
      "518 1.6151651844743637e+223\n",
      "519 4.386243747209062e+223\n",
      "520 1.1911580366252355e+224\n",
      "521 3.234795355529715e+224\n",
      "522 8.784661592217142e+224\n",
      "523 2.385635328459897e+225\n",
      "524 6.478640363588688e+225\n",
      "525 1.7593995546417597e+226\n",
      "526 4.777996973124826e+226\n",
      "527 1.2975617872145872e+227\n",
      "528 3.523798006430018e+227\n",
      "529 9.569621091399943e+227\n",
      "530 2.5988382758496614e+228\n",
      "531 7.057721861697713e+228\n",
      "532 1.9166843360406655e+229\n",
      "533 5.20519992429816e+229\n",
      "534 1.4135949983362208e+230\n",
      "535 3.8389578690351613e+230\n",
      "536 1.0425633414363326e+231\n",
      "537 2.831341860176156e+231\n",
      "538 7.689231245431635e+231\n",
      "539 2.0882105424476294e+232\n",
      "540 5.671088084899902e+232\n",
      "541 1.5401366157866813e+233\n",
      "542 4.182662673403384e+233\n",
      "543 1.135918503505381e+234\n",
      "544 3.0849081891317785e+234\n",
      "545 8.37795543879788e+234\n",
      "546 2.275278585763602e+235\n",
      "547 6.179194145940564e+235\n",
      "548 1.6781463289395086e+236\n",
      "549 4.55751950958946e+236\n",
      "550 1.2377358373730007e+237\n",
      "551 3.361461274231412e+237\n",
      "552 9.129121218569328e+237\n",
      "553 2.4793083751117996e+238\n",
      "554 6.733375443306097e+238\n",
      "555 1.828672025333469e+239\n",
      "556 4.966375080885549e+239\n",
      "557 1.3487886822666443e+240\n",
      "558 3.663101980664647e+240\n",
      "559 9.948435831338117e+240\n",
      "560 2.701850352036093e+241\n",
      "561 7.337843939169923e+241\n",
      "562 1.9928579362943738e+242\n",
      "563 5.412337834595677e+242\n",
      "564 1.4699214873107073e+243\n",
      "565 3.9921243631555144e+243\n",
      "566 1.0842131376347e+244\n",
      "567 2.944597548860552e+244\n",
      "568 7.997198983333606e+244\n",
      "569 2.171953537863564e+245\n",
      "570 5.898802144979726e+245\n",
      "571 1.6020563817968196e+246\n",
      "572 4.351033516755785e+246\n",
      "573 1.1817013304402632e+247\n",
      "574 3.209398765390907e+247\n",
      "575 8.716463113110585e+247\n",
      "576 2.367323277301167e+248\n",
      "577 6.429474739291854e+248\n",
      "578 1.7462003549053932e+249\n",
      "579 4.742565083524065e+249\n",
      "580 1.2880513415853102e+250\n",
      "581 3.4982729680180664e+250\n",
      "582 9.501121174494739e+250\n",
      "583 2.580457201987758e+251\n",
      "584 7.008403575651341e+251\n",
      "585 1.903453101594436e+252\n",
      "586 5.169706569194948e+252\n",
      "587 1.4040747776344393e+253\n",
      "588 3.813425024992977e+253\n",
      "589 1.0357163073737352e+254\n",
      "590 2.81298257471672e+254\n",
      "591 7.640009400961531e+254\n",
      "592 2.0750155966646377e+255\n",
      "593 5.6357206383222084e+255\n",
      "594 1.5306580008148933e+256\n",
      "595 4.157262902260366e+256\n",
      "596 1.1291130497306451e+257\n",
      "597 3.066676567208827e+257\n",
      "598 8.329120238393795e+257\n",
      "599 2.2621994647969805e+258\n",
      "600 6.144170572108391e+258\n",
      "601 1.668769045758853e+259\n",
      "602 4.532416455848686e+259\n",
      "603 1.2310167969751927e+260\n",
      "604 3.34348013225258e+260\n",
      "605 9.081009077245452e+260\n",
      "606 2.4664372206888455e+261\n",
      "607 6.698948090327484e+261\n",
      "608 1.8194651785803532e+262\n",
      "609 4.941757969512668e+262\n",
      "610 1.3422078653499607e+263\n",
      "611 3.6455131642490207e+263\n",
      "612 9.901435063454301e+263\n",
      "613 2.689293460335385e+264\n",
      "614 7.304303757557916e+264\n",
      "615 1.9839011581224025e+265\n",
      "616 5.3884246002078806e+265\n",
      "617 1.4635385332328253e+266\n",
      "618 3.975091068191243e+266\n",
      "619 1.0796688516907432e+267\n",
      "620 2.932477092072705e+267\n",
      "621 7.964880214507439e+267\n",
      "622 2.1633382647979042e+268\n",
      "623 5.8758429091643026e+268\n",
      "624 1.595939706154317e+269\n",
      "625 4.334742868320149e+269\n",
      "626 1.1773640132147178e+270\n",
      "627 3.1978547042762784e+270\n",
      "628 8.685748497704022e+270\n",
      "629 2.359154168560159e+271\n",
      "630 6.407755672929845e+271\n",
      "631 1.7404282012984583e+272\n",
      "632 4.727230999959205e+272\n",
      "633 1.2839794752391987e+273\n",
      "634 3.4874651756617213e+273\n",
      "635 9.472447735425941e+273\n",
      "636 2.572853714221954e+274\n",
      "637 6.988251186918478e+274\n",
      "638 1.89811470923551e+275\n",
      "639 5.155572941440133e+275\n",
      "640 1.4003350143224607e+276\n",
      "641 3.8035356440339875e+276\n",
      "642 1.0331028534643966e+277\n",
      "643 2.8060807096521453e+277\n",
      "644 7.621795293857324e+277\n",
      "645 2.070212496032325e+278\n",
      "646 5.6230648576954567e+278\n",
      "647 1.5273261232149635e+279\n",
      "648 4.1484989601595517e+279\n",
      "649 1.126810040317026e+280\n",
      "650 3.0606308103730256e+280\n",
      "651 8.313266391251163e+280\n",
      "652 2.2580469147880274e+281\n",
      "653 6.133307443132825e+281\n",
      "654 1.6659310323798032e+282\n",
      "655 4.5250127652769933e+282\n",
      "656 1.2290883583383514e+283\n",
      "657 3.3384656028243823e+283\n",
      "658 9.067993695737831e+283\n",
      "659 2.4630658020984015e+284\n",
      "660 6.690234168945828e+284\n",
      "661 1.8172183848222402e+285\n",
      "662 4.935980343712929e+285\n",
      "663 1.3407265709092491e+286\n",
      "664 3.6417279981227682e+286\n",
      "665 9.891799068193076e+286\n",
      "666 2.6868508420121552e+287\n",
      "667 7.298142159201527e+287\n",
      "668 1.9823556251851794e+288\n",
      "669 5.384573416233746e+288\n",
      "670 1.4625863735585208e+289\n",
      "671 3.972759058602277e+289\n",
      "672 1.0791042731857537e+290\n",
      "673 2.9311299877642585e+290\n",
      "674 7.961725941023884e+290\n",
      "675 2.1626181697687338e+291\n",
      "676 5.874257055255918e+291\n",
      "677 1.5956091635009784e+292\n",
      "678 4.33411639086148e+292\n",
      "679 1.1772673246841865e+293\n",
      "680 3.197791040016488e+293\n",
      "681 8.686114337143732e+293\n",
      "682 2.3593994303677596e+294\n",
      "683 6.408816919981759e+294\n",
      "684 1.7408234395268693e+295\n",
      "685 4.728594251551542e+295\n",
      "686 1.2844282138358084e+296\n",
      "687 3.4888964895726814e+296\n",
      "688 9.476910794182668e+296\n",
      "689 2.574221771641162e+297\n",
      "690 6.992389028057614e+297\n",
      "691 1.8993528910968646e+298\n",
      "692 5.159245525823278e+298\n",
      "693 1.4014163613207126e+299\n",
      "694 3.806699742638746e+299\n",
      "695 1.0340237467491179e+300\n",
      "696 2.808748489186362e+300\n",
      "697 7.629492300623618e+300\n",
      "698 2.0724252410041355e+301\n",
      "699 5.629405753317709e+301\n",
      "700 1.529137983971613e+302\n",
      "701 4.153662857747968e+302\n",
      "702 1.1282783413388609e+303\n",
      "703 3.064796903651346e+303\n",
      "704 8.325064139791636e+303\n",
      "705 2.261381911989747e+304\n",
      "706 6.142719392952918e+304\n",
      "707 1.6685832310803885e+305\n",
      "708 4.532475935558631e+305\n",
      "709 1.2311857272492938e+306\n",
      "710 3.34435267514059e+306\n",
      "711 9.084499321839277e+306\n",
      "712 2.4676885942863887e+307\n",
      "713 6.70316853566547e+307\n",
      "714 inf\n",
      "715 inf\n",
      "716 inf\n",
      "717 inf\n",
      "718 inf\n",
      "719 inf\n",
      "720 inf\n",
      "721 inf\n",
      "722 inf\n",
      "723 inf\n",
      "724 inf\n",
      "725 inf\n",
      "726 inf\n",
      "727 inf\n",
      "728 inf\n",
      "729 inf\n",
      "730 inf\n",
      "731 inf\n",
      "732 inf\n",
      "733 inf\n",
      "734 inf\n",
      "735 inf\n",
      "736 inf\n",
      "737 inf\n",
      "738 inf\n",
      "739 inf\n",
      "740 inf\n",
      "741 inf\n",
      "742 inf\n",
      "743 inf\n",
      "744 inf\n",
      "745 inf\n",
      "746 inf\n",
      "747 inf\n",
      "748 inf\n",
      "749 inf\n",
      "750 inf\n",
      "751 inf\n",
      "752 inf\n",
      "753 inf\n",
      "754 inf\n",
      "755 inf\n",
      "756 inf\n",
      "757 inf\n",
      "758 inf\n",
      "759 inf\n",
      "760 inf\n",
      "761 inf\n",
      "762 inf\n",
      "763 inf\n",
      "764 inf\n",
      "765 inf\n",
      "766 inf\n",
      "767 inf\n",
      "768 inf\n",
      "769 inf\n",
      "770 inf\n",
      "771 inf\n",
      "772 inf\n",
      "773 inf\n",
      "774 inf\n",
      "775 inf\n",
      "776 inf\n",
      "777 inf\n",
      "778 inf\n",
      "779 inf\n",
      "780 inf\n",
      "781 inf\n",
      "782 inf\n",
      "783 inf\n",
      "784 inf\n",
      "785 inf\n",
      "786 inf\n",
      "787 inf\n",
      "788 inf\n",
      "789 inf\n",
      "790 inf\n",
      "791 inf\n",
      "792 inf\n",
      "793 inf\n",
      "794 inf\n",
      "795 inf\n",
      "796 inf\n",
      "797 inf\n",
      "798 inf\n",
      "799 inf\n",
      "800 inf\n",
      "801 inf\n",
      "802 inf\n",
      "803 inf\n",
      "804 inf\n",
      "805 inf\n",
      "806 inf\n",
      "807 inf\n",
      "808 inf\n",
      "809 inf\n",
      "810 inf\n",
      "811 inf\n",
      "812 inf\n",
      "813 inf\n",
      "814 inf\n",
      "815 inf\n",
      "816 inf\n",
      "817 inf\n",
      "818 inf\n",
      "819 inf\n",
      "820 inf\n",
      "821 inf\n",
      "822 inf\n",
      "823 inf\n",
      "824 inf\n",
      "825 inf\n",
      "826 inf\n",
      "827 inf\n",
      "828 inf\n",
      "829 inf\n",
      "830 inf\n",
      "831 inf\n",
      "832 inf\n",
      "833 inf\n",
      "834 inf\n",
      "835 inf\n",
      "836 inf\n",
      "837 inf\n",
      "838 inf\n",
      "839 inf\n",
      "840 inf\n",
      "841 inf\n",
      "842 inf\n",
      "843 inf\n",
      "844 inf\n",
      "845 inf\n",
      "846 inf\n",
      "847 inf\n",
      "848 inf\n",
      "849 inf\n",
      "850 inf\n",
      "851 inf\n",
      "852 inf\n",
      "853 inf\n",
      "854 inf\n",
      "855 inf\n",
      "856 inf\n",
      "857 inf\n",
      "858 inf\n",
      "859 inf\n",
      "860 inf\n",
      "861 inf\n",
      "862 inf\n",
      "863 inf\n",
      "864 inf\n",
      "865 inf\n",
      "866 inf\n",
      "867 inf\n",
      "868 inf\n",
      "869 inf\n",
      "870 inf\n",
      "871 inf\n",
      "872 inf\n",
      "873 inf\n",
      "874 inf\n",
      "875 inf\n",
      "876 inf\n",
      "877 inf\n",
      "878 inf\n",
      "879 inf\n",
      "880 inf\n",
      "881 inf\n",
      "882 inf\n",
      "883 inf\n",
      "884 inf\n",
      "885 inf\n",
      "886 inf\n",
      "887 inf\n",
      "888 inf\n",
      "889 inf\n",
      "890 inf\n",
      "891 inf\n",
      "892 inf\n",
      "893 inf\n",
      "894 inf\n",
      "895 inf\n",
      "896 inf\n",
      "897 inf\n",
      "898 inf\n",
      "899 inf\n",
      "900 inf\n",
      "901 inf\n",
      "902 inf\n",
      "903 inf\n",
      "904 inf\n",
      "905 inf\n",
      "906 inf\n",
      "907 inf\n",
      "908 inf\n",
      "909 inf\n",
      "910 inf\n",
      "911 inf\n",
      "912 inf\n",
      "913 inf\n",
      "914 inf\n",
      "915 inf\n",
      "916 inf\n",
      "917 inf\n",
      "918 inf\n",
      "919 inf\n",
      "920 inf\n",
      "921 inf\n",
      "922 inf\n",
      "923 inf\n",
      "924 inf\n",
      "925 inf\n",
      "926 inf\n",
      "927 inf\n",
      "928 inf\n",
      "929 inf\n",
      "930 inf\n",
      "931 inf\n",
      "932 inf\n",
      "933 inf\n",
      "934 inf\n",
      "935 inf\n",
      "936 inf\n",
      "937 inf\n",
      "938 inf\n",
      "939 inf\n",
      "940 inf\n",
      "941 inf\n",
      "942 inf\n",
      "943 inf\n",
      "944 inf\n",
      "945 inf\n",
      "946 inf\n",
      "947 inf\n",
      "948 inf\n",
      "949 inf\n",
      "950 inf\n",
      "951 inf\n",
      "952 inf\n",
      "953 inf\n",
      "954 inf\n",
      "955 inf\n",
      "956 inf\n",
      "957 inf\n",
      "958 inf\n",
      "959 inf\n",
      "960 inf\n",
      "961 inf\n",
      "962 inf\n",
      "963 inf\n",
      "964 inf\n",
      "965 inf\n",
      "966 inf\n",
      "967 inf\n",
      "968 inf\n",
      "969 inf\n",
      "970 inf\n",
      "971 inf\n",
      "972 inf\n",
      "973 inf\n",
      "974 inf\n",
      "975 inf\n",
      "976 inf\n",
      "977 inf\n",
      "978 inf\n",
      "979 inf\n",
      "980 inf\n",
      "981 inf\n",
      "982 inf\n",
      "983 inf\n",
      "984 inf\n",
      "985 inf\n",
      "986 inf\n",
      "987 inf\n",
      "988 inf\n",
      "989 inf\n",
      "990 inf\n",
      "991 inf\n",
      "992 inf\n",
      "993 inf\n",
      "994 inf\n",
      "995 inf\n",
      "996 inf\n",
      "997 inf\n",
      "998 inf\n",
      "999 inf\n",
      "1000 inf\n"
     ]
    }
   ],
   "source": [
    "for i in range(1, 1001):\n",
    "    print(i, f(i))"
   ]
  },
  {
   "cell_type": "markdown",
   "id": "63e4adcd",
   "metadata": {},
   "source": [
    "The previous version of the code gave overflow error when $n=144$. This version has no difficulty in computing $n^n/n!$ for $n=144$. In fact, we can go as high as $n=713$. Overflow in floating-point arithmetic yields the output inf, which stands for infinity.\n",
    "\n",
    "Another way to accommodate a larger value of $n$ is to define the function $f$ in this way:"
   ]
  },
  {
   "cell_type": "code",
   "execution_count": 87,
   "id": "23847186",
   "metadata": {},
   "outputs": [],
   "source": [
    "from scipy.special import factorial\n",
    "f = lambda n: n**n/factorial(n, True)"
   ]
  },
  {
   "cell_type": "markdown",
   "id": "b79c0490",
   "metadata": {},
   "source": [
    "With the addition input \"True'', the function **factorial(n)** returns an integer with arbitrary precision, instead of a float, so that both the numerator and denominator are integers. The limit process stops only when the division produces a floating-point number that is so large that overflow occurs. As a result, the same result as in the improved algorithm above is expected. Please verify that the process can continue until $n=713$ with the modified $f$ function."
   ]
  },
  {
   "cell_type": "markdown",
   "id": "287bd943",
   "metadata": {},
   "source": [
    "We will discuss several features of computer arithmetic in the rest\n",
    "of this section. The discussion is easier to follow if we use the familiar\n",
    "base 10 representation of numbers instead of base 2. To this end, we introduce the **normalized\n",
    "decimal floating-point representation**:\n",
    "\\begin{equation*}\n",
    "\\pm0.d_{1}d_{2}...d_{k}\\times10^{n}\n",
    "\\end{equation*}\n",
    "where $1\\leq d_{1}\\leq9,0\\leq d_{i}\\leq9$ for all $i=2,3,...,k.$\n",
    "Informally, we call these numbers $k-$digit decimal machine numbers.\n"
   ]
  },
  {
   "cell_type": "markdown",
   "id": "fba11e74",
   "metadata": {},
   "source": [
    "### Chopping \\& Rounding"
   ]
  },
  {
   "cell_type": "markdown",
   "id": "fb039661",
   "metadata": {},
   "source": [
    "Let $x$ be a real number with more digits the computer can handle:\n",
    "$x=0.d_{1}d_{2}\\ldots d_{k}d_{k+1}\\ldots\\times10^{n}$. How will the\n",
    "computer represent $x$? Let's use the notation $fl(x)$ for the floating-point\n",
    "representation of $x$. There are two choices, chopping and rounding:\n",
    "- In chopping, we simply take the first $k$ digits and ignore the rest: $fl(x)=0.d_{1}d_{2}\\ldots d_{k}.$\n",
    "- In rounding, if $d_{k+1}\\geq 5$ we add 1 to $d_{k}$ to obtain $fl(x)$. If $d_{k+1}<5,$ then we simply do as in chopping."
   ]
  },
  {
   "cell_type": "markdown",
   "id": "42b598ad",
   "metadata": {},
   "source": [
    "```{prf:example}\n",
    ":label: chap1_exa11\n",
    "\n",
    "Find 5-digit ($k=5$) chopping and rounding values of the numbers\n",
    "below:\n",
    "- $\\pi=0.314159265...\\times10^{1}$\n",
    "\n",
    "  Chopping gives $fl(\\pi)=0.31415$ and rounding gives $fl(\\pi)=0.31416.$\n",
    "- $0.0001234567$\n",
    "\n",
    "  We need to write the number in the normalized representation first as $0.1234567\\times10^{-3}.$ Now chopping gives $0.12345$ and rounding gives $0.12346.$\n",
    "```"
   ]
  },
  {
   "cell_type": "markdown",
   "id": "cb9bbb24",
   "metadata": {},
   "source": [
    "### Absolute and relative error"
   ]
  },
  {
   "cell_type": "markdown",
   "id": "184a3a17",
   "metadata": {},
   "source": [
    "Since computers only give approximations to real numbers, we need to be clear on how we measure the error of an approximation."
   ]
  },
  {
   "cell_type": "markdown",
   "id": "4bc0f4a1",
   "metadata": {},
   "source": [
    "```{prf:definition}\n",
    ":label: chap1_def12\n",
    "\n",
    "Suppose $x^{*}$ is an approximation to $x$.\n",
    "- $|x^{*}-x|$ is called the **absolute error**\n",
    "- $\\frac{|x^{*}-x|}{|x|}$ is called the **relative error** $(x\\neq0)$\n",
    "```\n",
    "\n",
    "Relative error usually is a better choice of measure, and we need\n",
    "to understand why."
   ]
  },
  {
   "cell_type": "markdown",
   "id": "e34a3d0b",
   "metadata": {},
   "source": [
    "```{prf:example}\n",
    ":label: chap1_exa13\n",
    "   \n",
    "Find absolute and relative errors of\n",
    "1. $x=0.20\\times10^{1},x^{*}=0.21\\times10^{1}$\n",
    "2. $x=0.20\\times10^{-2},x^{*}=0.21\\times10^{-2}$\n",
    "3. $x=0.20\\times10^{5},x^{*}=0.21\\times10^{5}$\n",
    "```"
   ]
  },
  {
   "cell_type": "markdown",
   "id": "9e3f63ef",
   "metadata": {},
   "source": [
    "Notice how the only difference in the three cases is the exponent\n",
    "of the numbers. The absolute errors are: $0.01\\times 10$ , $0.01\\times 10^{-2}$\n",
    ", $0.01\\times 10^{5}$. The absolute errors are different since the\n",
    "exponents are different. However, the relative error in each case\n",
    "is the same: $0.05$."
   ]
  },
  {
   "cell_type": "markdown",
   "id": "cd62f422",
   "metadata": {},
   "source": [
    "```{prf:definition}\n",
    ":label: chap1_def14\n",
    "\n",
    "The number $x^{*}$ is said to approximate $x$ to $s$ significant\n",
    "digits (or figures) if $s$ is the largest nonnegative integer such\n",
    "that\n",
    "\\begin{equation*}\n",
    "\\frac{|x-x^{*}|}{|x|}\\leq5\\times10^{-s}.\n",
    "\\end{equation*}\n",
    "```"
   ]
  },
  {
   "cell_type": "markdown",
   "id": "7bdd8606",
   "metadata": {},
   "source": [
    "In Example {prf:ref}`chap1_exa13` we had $\\frac{|x-x^{*}|}{|x|}=0.05\\leq5\\times10^{-2}$\n",
    "but not less than or equal to $5\\times10^{-3}$. Therefore we say\n",
    "$x^{*}=0.21$ approximates $x=0.20$ to 2 significant digits (but not to 3 digits).\n",
    "\n",
    "When the computer approximates a real number $x$ by $fl(x)$, what\n",
    "can we say about the error? The following result gives an upper bound\n",
    "for the relative error."
   ]
  },
  {
   "cell_type": "markdown",
   "id": "e5fda8ac",
   "metadata": {},
   "source": [
    "```{prf:lemma}\n",
    ":label: chap1_lem15\n",
    "\n",
    "The relative error of approximating\n",
    "$x$ by $fl(x)$ in the $k$-digit normalized decimal floating-point representation satisfies\n",
    "\\begin{equation*}\n",
    "\\frac{|x-fl(x)|}{|x|}\\leq\\begin{cases}\n",
    "10^{-k+1} & \\text{if chopping}\\\\\n",
    "\\frac{1}{2}(10^{-k+1}) & \\text{if rounding.}\n",
    "\\end{cases}\n",
    "\\end{equation*}\n",
    "```"
   ]
  },
  {
   "cell_type": "markdown",
   "id": "458786cf",
   "metadata": {},
   "source": [
    "```{prf:proof}\n",
    "\n",
    "We will give the proof for chopping; the proof for rounding is similar\n",
    "but tedious. Let\n",
    "\\begin{equation*}\n",
    "x=0.d_{1}d_{2}...d_{k}d_{k+1}...\\times 10^{n}.\n",
    "\\end{equation*}\n",
    "Then\n",
    "\\begin{equation*}\n",
    "fl(x)=0.d_{1}d_{2}...d_{k}\\times 10^{n}\n",
    "\\end{equation*}\n",
    "if chopping is used. Observe that\n",
    "\\begin{equation*}\n",
    "\\frac{|x-fl(x)|}{|x|}=\\frac{0.d_{k+1}d_{k+2}...\\times 10^{n-k}}{0.d_{1}d_{2}...\\times 10^{n}}=\\left(\\frac{0.d_{k+1}d_{k+2}...}{0.d_{1}d_{2}...}\\right)10^{-k}.\n",
    "\\end{equation*}\n",
    "We have two simple bounds: $0.d_{k+1}d_{k+2}...<1$ and $0.d_{1}d_{2}...\\geq 0.1$,\n",
    "the latter true since the smallest $d_{1}$ can be, is 1. Using these\n",
    "bounds in the equation above we get\n",
    "\\begin{equation*}\n",
    "\\frac{|x-fl(x)|}{|x|}\\leq\\frac{1}{0.1}10^{-k}=10^{-k+1}.\n",
    "\\end{equation*}\n",
    "```"
   ]
  },
  {
   "cell_type": "markdown",
   "id": "4d3fffcd",
   "metadata": {},
   "source": [
    "```{prf:remark}\n",
    ":label: chap1_rem16\n",
    "\n",
    "Lemma {prf:ref}`chap1_lem15` easily transfers to the base\n",
    "2 floating-point representation: $x=(-1)^{s}(1.a_{2}...a_{53})_{2}\\times2^{e-1023}$, by\n",
    "\\begin{equation*}\n",
    "\\frac{|x-fl(x)|}{|x|}\\leq\\begin{cases}\n",
    "2^{-t+1}=2^{-53+1}=2^{-52} & \\text{if chopping}\\\\\n",
    "\\frac{1}{2}(2^{-t+1})=2^{-53} & \\text{if rounding}.\n",
    "\\end{cases}\n",
    "\\end{equation*}\n",
    "```"
   ]
  },
  {
   "cell_type": "markdown",
   "id": "8e299cd5",
   "metadata": {},
   "source": [
    "### Machine epsilon"
   ]
  },
  {
   "cell_type": "markdown",
   "id": "0a394d63",
   "metadata": {},
   "source": [
    "Machine epsilon $\\epsilon$ is the smallest positive floating point\n",
    "number for which $fl(1+\\epsilon)>1.$ This means, if we add to $1.0$\n",
    "any number less than $\\epsilon$, the machine computes the sum as\n",
    "$1.0$.\n",
    "\n",
    "The number 1.0 in its binary floating-point representation is simply\n",
    "$(1.0\\ldots0)_{2}$ where $a_{2}=a_{3}=...=a_{53}=0.$ We want to\n",
    "find the smallest number that gives a sum larger than 1.0, when it\n",
    "is added to 1.0. The answer depends on whether we chop or round.\n",
    "\n",
    "If we are chopping, examine the binary addition"
   ]
  },
  {
   "cell_type": "markdown",
   "id": "e1f80083",
   "metadata": {},
   "source": [
    "\\begin{equation*}\n",
    "\\begin{array}{cccccc}\n",
    " &  & a_{2} &  & a_{52} & a_{53}\\\\\n",
    " & 1. & 0 & ... & 0 & 0\\\\\n",
    "+ & 0. & 0 & ... & 0 & 1\\\\\n",
    "\\hline\n",
    " & 1. & 0 & ... & 0 & 1\n",
    "\\end{array}\n",
    "\\end{equation*}\n",
    "\n",
    "and notice $(0.0...01)_{2}=\\left(\\frac{1}{2}\\right)^{52}=2^{-52}$\n",
    "is the smallest number we can add to 1.0 such that the sum will be\n",
    "different than 1.0.\n",
    "\n",
    "If we are rounding, examine the binary addition\n",
    "\n",
    "\\begin{equation*}\n",
    "\\begin{array}{cccccc}\n",
    " &  & a_{2} &  & a_{52} & a_{53} & \\\\\n",
    " & 1. & 0 & ... & 0 & 0 & \\\\\n",
    "+ & 0. & 0 & ... & 0 & 0 & 1\\\\\n",
    "\\hline\n",
    " & 1. & 0 & ... & 0 & 0 & 1\\\\\n",
    "\\end{array}\n",
    "\\end{equation*}\n",
    "\n",
    "where the sum has to be rounded to 53 digits to obtain\n",
    "\n",
    "\\begin{equation*}\n",
    "\\begin{array}{ccccc}\n",
    " & a_{2} &  & a_{52} & a_{53}\\\\\n",
    "1. & 0 & ... & 0 & 1\\\\\n",
    "\\end{array}\n",
    "\\end{equation*}\n",
    "\n",
    "Observe that the number added to $1.0$ above is $(0.0...01)_{2}=\\left(\\frac{1}{2}\\right)^{53}=2^{-53}$,\n",
    "which is the smallest number that will make the sum larger than 1.0 with rounding.\n",
    "\n",
    "In summary, we have shown\n",
    "\\begin{equation*}\n",
    "\\epsilon=\\begin{cases}\n",
    "2^{-52} & \\text{if chopping}\\\\\n",
    "2^{-53} & \\text{if rounding}\n",
    "\\end{cases}.\n",
    "\\end{equation*}\n",
    "As a consequence, notice that we can restate the inequality in Remark {prf:ref}`chap1_rem16` in a compact way using the machine epsilon as:\n",
    "\\begin{equation*}\n",
    "\\frac{|x-fl(x)|}{|x|}\\leq \\epsilon.\n",
    "\\end{equation*}\n"
   ]
  },
  {
   "cell_type": "markdown",
   "id": "06e91792",
   "metadata": {},
   "source": [
    "```{prf:remark}\n",
    ":label: chap1_rem17\n",
    "\n",
    "There is another definition of machine epsilon: it is the distance\n",
    "between 1.0 and the next floating-point number.\n",
    "\n",
    "\\begin{equation*}\n",
    "\\begin{array}{cccccc}\n",
    "&  & a_{2} &  & a_{52} & a_{53}\\\\\n",
    "\\text{number } 1.0 & 1. & 0 & ... & 0 & 0\\\\\n",
    "\\text{next number }& 1. & 0 & ... & 0 & 1\\\\\n",
    "\\hline\n",
    "\\text{distance} & 0. & 0 & ... & 0 & 1\n",
    "\\end{array}\n",
    "\\end{equation*}\n",
    "\n",
    "Note that the distance (absolute value of the difference) is $\\left(\\frac{1}{2}\\right)^{52}=2^{-52}.$\n",
    "In this alternative definition, machine epsilon is not based on whether\n",
    "rounding or chopping is used. Also, note that the distance between\n",
    "two adjacent floating-point numbers is not constant, but it is smaller\n",
    "for smaller values, and larger for larger values (see Exercise 1.5).\n",
    "```"
   ]
  },
  {
   "cell_type": "markdown",
   "id": "10e838e7",
   "metadata": {},
   "source": [
    "### Propagation of error"
   ]
  },
  {
   "cell_type": "markdown",
   "id": "2555cb26",
   "metadata": {},
   "source": [
    "We discussed the resulting error when chopping or rounding is used to approximate\n",
    "a real number by its machine version. Now imagine carrying out a long\n",
    "calculation with many arithmetical operations, and at each step there\n",
    "is some error due to say, rounding. Would all the rounding errors\n",
    "accumulate and cause havoc? This is a rather difficult question to\n",
    "answer in general. For a much simpler example, consider adding two real numbers\n",
    "$x,y$. In the computer, the numbers are represented as $fl(x),fl(y)$.\n",
    "The sum of these number is $fl(x)+fl(y)$; however, the computer can only represent its floating-point version, $fl(fl(x)+fl(y))$.\n",
    "Therefore the relative error in adding two numbers is:\n",
    "\\begin{equation*}\n",
    "\\left|\\frac{(x+y)-fl(fl(x)+fl(y))}{x+y}\\right|.\n",
    "\\end{equation*}\n",
    "In this section, we will look at some specific examples where\n",
    "roundoff error can cause problems, and how we can avoid them."
   ]
  },
  {
   "cell_type": "markdown",
   "id": "b6391c42",
   "metadata": {},
   "source": [
    "#### Subtraction of nearly equal quantities: Cancellation of leading digits"
   ]
  },
  {
   "cell_type": "markdown",
   "id": "a179f8b7",
   "metadata": {},
   "source": [
    "The best way to explain this phenomenon is by an example. Let $x=1.123456,y=1.123447$.\n",
    "We will compute $x-y$ and the resulting roundoff error using rounding\n",
    "and 6-digit arithmetic. First, we find $fl(x),fl(y)$:\n",
    "\\begin{equation*}\n",
    "fl(x)=1.12346,fl(y)=1.12345.\n",
    "\\end{equation*}\n",
    "The absolute and relative error due to rounding is:\n",
    "\\begin{align*}\n",
    "|x-fl(x)| & =4\\times10^{-6},|y-fl(y)|=3\\times 10^{-6}\\\\\n",
    "\\frac{|x-fl(x)|}{|x|} & =3.56\\times10^{-6},\\frac{|y-fl(y)|}{|y|}=2.67\\times 10^{-6}.\n",
    "\\end{align*}\n",
    "From the relative errors, we see that $fl(x)$ and $fl(y)$ approximate $x$\n",
    "and $y$ to six significant digits. Let's see how the error propagates\n",
    "when we subtract $x$ and $y$. The actual difference is:\n",
    "\\begin{equation*}\n",
    "x-y=1.123456-1.123447=0.000009=9\\times 10^{-6}.\n",
    "\\end{equation*}\n",
    "The computer finds this difference first by computing $fl(x),fl(y),$\n",
    "then taking their difference and approximating the difference by its\n",
    "floating-point representation: $fl(fl(x)-fl(y))$:\n",
    "\\begin{equation*}\n",
    "fl(fl(x)-fl(y))=fl\\left(1.12346-1.12345\\right)=10^{-5}.\n",
    "\\end{equation*}\n",
    "The resulting absolute and relative errors are:\n",
    "\\begin{align*}\n",
    "\\left|(x-y)-(fl(fl(x)-fl(y)))\\right| & =10^{-6}\\\\\n",
    "\\frac{|(x-y)-(fl(fl(x)-fl(y)))|}{|x-y|} & =0.1.\n",
    "\\end{align*}\n",
    "Notice how large the relative error is compared to the absolute error!\n",
    "The machine version of $x-y$ approximates $x-y$ to only one significant digit. Why did this\n",
    "happen? When we subtract two numbers that are nearly equal, the leading\n",
    "digits of the numbers cancel, leaving a result close to the rounding\n",
    "error. In other words, the rounding error dominates the difference."
   ]
  },
  {
   "cell_type": "markdown",
   "id": "ac124f26",
   "metadata": {},
   "source": [
    "#### Division by a small number"
   ]
  },
  {
   "cell_type": "markdown",
   "id": "970bcc50",
   "metadata": {},
   "source": [
    "Let $x=0.444446$ and compute $\\frac{x}{10^{-5}}$ in a computer with\n",
    "5-digit arithmetic and rounding. We have $fl(x)=0.44445$, with an\n",
    "absolute error of $4\\times10^{-6}$ and relative error of $9\\times10^{-6}$.\n",
    "The exact division is $\\frac{x}{10^{-5}}=0.444446\\times10^{5}$. The\n",
    "computer computes: $fl\\left(\\frac{x}{10^{-5}}\\right)=0.44445\\times10^{5}$,\n",
    "which has an absolute error of $0.4$ and relative error of $9\\times10^{-6}$.\n",
    "The absolute error went from $4\\times10^{-6}$ to $0.4$. Perhaps\n",
    "not surprisingly, division by a small number magnifies the absolute\n",
    "error but not the relative error.\n",
    "\n",
    "Consider the computation of\n",
    "\\begin{equation*}\n",
    "\\frac{1-\\cos x}{\\sin x}\n",
    "\\end{equation*}\n",
    "when $x$ is near zero. This is a problem where we have both \\textit{subtraction of nearly equal quantities} which happens in the numerator, and \\textit{division by a small number}, when $x$ is close to zero. Let $x=0.1$. Continuing with five-digit rounding, we have\n",
    "\\begin{align*}\n",
    "&fl(\\sin 0.1)=0.099833, fl(\\cos 0.1)=0.99500\\\\\n",
    "&fl\\left(\\frac{1-\\cos 0.1}{\\sin 0.1}\\right)=0.050084.\n",
    "\\end{align*}\n",
    "The exact result to 8 digits is 0.050041708, and the relative error of this computation is $8.5\\times 10^{-4}$. Next we will see how to reduce this error using a simple algebraic identity."
   ]
  },
  {
   "cell_type": "markdown",
   "id": "25bd51a3",
   "metadata": {},
   "source": [
    "#### Ways to avoid loss of accuracy"
   ]
  },
  {
   "cell_type": "markdown",
   "id": "33394c7d",
   "metadata": {},
   "source": [
    "Here we will discuss some examples where a careful rewriting of the\n",
    "expression to compute can make the roundoff error much smaller."
   ]
  },
  {
   "cell_type": "markdown",
   "id": "4326d5e4",
   "metadata": {},
   "source": [
    "```{prf:example}\n",
    ":label: chap1_exa18\n",
    "\n",
    "Let's revisit the calculation of\n",
    "\\begin{equation*}\n",
    "\\frac{1-\\cos x}{\\sin x}.\n",
    "\\end{equation*}\n",
    "Observe that using the algebraic identity\n",
    "\\begin{equation*}\n",
    "\\frac{1-\\cos x}{\\sin x}=\\frac{\\sin x}{1+\\cos x}\n",
    "\\end{equation*}\n",
    "removes both difficulties encountered before: there is no cancellation of significant digits or division by a small number. Using five-digit rounding, we have\n",
    "\\begin{equation*}\n",
    "fl\\left(\\frac{\\sin 0.1}{1+\\cos 0.1}\\right)=0.050042.\n",
    "\\end{equation*}\n",
    "The relative error is $5.8\\times 10^{-6}$, about a factor of 100 smaller than the error in the original computation.\n",
    "```"
   ]
  },
  {
   "cell_type": "markdown",
   "id": "1c48913a",
   "metadata": {},
   "source": [
    "```{prf:example}\n",
    ":label: chap1_exa19\n",
    "Consider the quadratic formula: the solution of $ax^{2}+bx+c=0$ is\n",
    "\\begin{equation*}\n",
    "r_{1}=\\frac{-b+\\sqrt{b^{2}-4ac}}{2a},r_{2}=\\frac{-b-\\sqrt{b^{2}-4ac}}{2a}.\n",
    "\\end{equation*}\n",
    "If $|b|\\approx\\sqrt{b^{2}-4ac}$, then we have a potential loss of precision in computing one of the roots\n",
    "due to cancellation. Let's consider a specific equation: $x^{2}-11x+1=0$.\n",
    "The roots from the quadratic formula are: $r_{1}=\\frac{11+\\sqrt{117}}{2}\\approx 10.90832691$,\n",
    "and $r_{2}=\\frac{11-\\sqrt{117}}{2}\\approx 0.09167308680.$\n",
    "\n",
    "Next will use four-digit\n",
    "arithmetic with rounding to compute the roots:\n",
    "\\begin{gather*}\n",
    "fl(\\sqrt{117})=10.82\\\\\n",
    "fl(r_{1})=fl\\left(\\frac{fl(fl(11.0)+fl(\\sqrt{117}))}{fl(2.0)}\\right)=fl\\left(\\frac{fl(11.0+10.82)}{2.0}\\right)=\n",
    "fl\\left(\\frac{21.82}{2.0}\\right)=10.91\\\\\n",
    "fl(r_{2})=fl\\left(\\frac{fl(fl(11.0)-fl(\\sqrt{117}))}{fl(2.0)}\\right)=fl\\left(\\frac{fl(11.0-10.82)}{2.0}\\right)=\n",
    "fl\\left(\\frac{0.18}{2.0}\\right)=0.09.\n",
    "\\end{gather*}\n",
    "\n",
    "The relative errors are:\n",
    "\\begin{gather*}\n",
    "\\text{rel error in }r_{1}=\\left|\\frac{10.90832691-10.91}{10.90832691}\\right|=1.5\\times10^{-4}\\\\\n",
    "\\text{rel error in }r_{2}=\\left|\\frac{0.09167308680-0.09}{0.09167308680}\\right|=1.8\\times10^{-2}.\n",
    "\\end{gather*}\n",
    "Notice the larger relative error in $r_{2}$ compared to that of $r_{1},$\n",
    "about a factor of $100$, which is due to cancellation of leading\n",
    "digits when we compute $11.0-10.82$.\n",
    "\n",
    "One way to fix this problem is to rewrite the offending expression\n",
    "by rationalizing the numerator:\n",
    "\\begin{equation*}\n",
    "r_{2}=\\frac{11.0-\\sqrt{117}}{2}=\\left(\\frac{1}{2}\\right) \\frac{11.0-\\sqrt{117}}{11.0+\\sqrt{117}}\\left(11.0+\\sqrt{117}\\right)=\\left(\\frac{1}{2}\\right) \\frac{4}{11.0+\\sqrt{117}}=\\frac{2}{11.0+\\sqrt{117}}.\n",
    "\\end{equation*}\n",
    "If we use this formula to compute $r_{2}$ we get:\n",
    "\\begin{equation*}\n",
    "fl(r_{2})=fl\\left(\\frac{2.0}{fl(11.0+fl(\\sqrt{117}))}\\right)=fl\\left(\\frac{2.0}{21.82}\\right)=0.09166.\n",
    "\\end{equation*}\n",
    "The new relative error in $r_{2}$ is:\n",
    "\\begin{equation*}\n",
    "\\text{rel error in }r_{2}=\\left(\\frac{0.09167308680-0.09166}{0.09167308680}\\right)=1.4\\times10^{-4},\n",
    "\\end{equation*}\n",
    "an improvement about a factor of $100,$ even though in the new\n",
    "way of computing $r_{2}$ there are two operations where rounding error\n",
    "happens instead of one.\n",
    "```"
   ]
  },
  {
   "cell_type": "markdown",
   "id": "de691902",
   "metadata": {},
   "source": [
    "```{prf:example}\n",
    ":label: chap1_exa20\n",
    "\n",
    "The simple procedure of adding numbers, even if they do not have mixed signs, can accumulate large errors due to rounding or chopping. Several sophisticated algorithms to add large lists of numbers with accumulated error smaller than straightforward addition exist in the literature (see, for example, {cite:t}`higham`).\n",
    "\n",
    "For a simple example, consider using four-digit arithmetic with rounding, and computing the average of two numbers, $\\frac{a+b}{2}$. For $a=2.954$ and $b=100.9$, the true average is $51.927$. However, four-digit arithmetic with rounding yields:\n",
    "\\begin{equation*}\n",
    "fl\\left( \\frac{100.9+2.954}{2} \\right) = fl\\left( \\frac{fl(103.854)}{2}\\right)=fl\\left( \\frac{103.9}{2}\\right)=51.95,\n",
    "\\end{equation*}\n",
    "which has a relative error of $4.43\\times 10^{-4}$. If we rewrite the averaging formula as $a+\\frac{b-a}{2}$, on the other hand, we obtain 51.93, which has a much smaller relative error of $5.78\\times 10^{-5}$. The following table displays the exact and 4-digit computations, with the corresponding relative error at each step.\n",
    "\n",
    "\\begin{equation*}\n",
    "\\begin{array}{lcccccccll}\n",
    "\\hline\n",
    "                 & a     & b    & a+b     & \\frac{a+b}{2} & b-a     & \\frac{b-a}{2} & a+\\frac{b-a}{2} \\\\ \\hline\n",
    "4-\\text{digit rounding} & 2.954  & 100.9 & 103.9   & 51.95         & 97.95   & 48.98         & 51.93           \\\\\n",
    "\\text{Exact}            &       &       & 103.854 & 51.927        & 97.946  & 48.973        & 51.927         \\\\\n",
    "\\text{Relative error}   &       &       & 4.43e-4 & 4.43e-4       & 4.08e-5 & 1.43e-4       & 5.78e-5         \\\\ \\hline\n",
    "\\end{array}\n",
    "\\end{equation*}\n",
    "```"
   ]
  },
  {
   "cell_type": "markdown",
   "id": "0e9af147",
   "metadata": {},
   "source": [
    "```{prf:example}\n",
    ":label: chap1_exa21\n",
    "\n",
    "There are two standard formulas given in textbooks to compute the sample variance $s^2$ of the numbers $x_1,...,x_n$:\n",
    "\n",
    "1. $s^2=\\frac{1}{n-1} \\left[ \\sum_{i=1}^n x_i^2 - \\frac{1}{n} \\left( \\sum_{i=1}^n x_i \\right)^2 \\right]$,\n",
    "2. First compute $\\bar{x}=\\frac{1}{n} \\sum_{i=1}^n x_i$, and then $s^2=\\frac{1}{n-1} \\sum_{i=1}^n (x_i-\\bar{x})^2$.\n",
    "\n",
    "Both formulas can suffer from roundoff errors due to adding large lists of numbers if $n$ is large, as mentioned in the previous example. However, the first formula is also prone to error due to cancellation of leading digits (see {cite:t}`chan` for details).\n",
    "\n",
    "For an example, consider four-digit rounding arithmetic, and let the data be $1.253,2.411,3.174$. The sample variance from formula 1 and formula 2 are, 0.93 and 0.9355, respectively. The exact value, up to 6 digits, is 0.935562. Formula 2 is a numerically more stable choice for computing the variance than the first one.\n",
    "\n",
    "```"
   ]
  },
  {
   "cell_type": "markdown",
   "id": "9913875e",
   "metadata": {},
   "source": [
    "```{prf:example}\n",
    ":label: chap1_exa22\n",
    "\n",
    "We have a sum to compute:\n",
    "\\begin{equation*}\n",
    "e^{-7}=1+\\frac{-7}{1}+\\frac{(-7)^{2}}{2!}+\\frac{(-7)^{3}}{3!}+...+\\frac{(-7)^{n}}{n!}.\n",
    "\\end{equation*}\n",
    "The alternating signs make this a potentially error prone calculation.\n",
    "\n",
    "Python reports the \"exact\" value for $e^{-7}$ as 0.0009118819655545162. If we use Python to compute this sum with $n=20$, the result is 0.009183673977218275. Here is the Python code for the calculation:\n",
    "```"
   ]
  },
  {
   "cell_type": "code",
   "execution_count": 91,
   "id": "2a3c3ab5",
   "metadata": {},
   "outputs": [],
   "source": [
    "import numpy as np\n",
    "from scipy.special import factorial"
   ]
  },
  {
   "cell_type": "code",
   "execution_count": 92,
   "id": "149c3567",
   "metadata": {},
   "outputs": [
    {
     "data": {
      "text/plain": [
       "0.009183673977218275"
      ]
     },
     "execution_count": 92,
     "metadata": {},
     "output_type": "execute_result"
    }
   ],
   "source": [
    "sum = 1.0\n",
    "for n in range(1, 21):\n",
    "    sum += (-7)**n/factorial(n)\n",
    "sum"
   ]
  },
  {
   "cell_type": "markdown",
   "id": "c6492d2a",
   "metadata": {},
   "source": [
    "This result has a relative error of 9.1. We can avoid this huge error if we simply rewrite the above sum as\n",
    "\\begin{equation*}\n",
    "e^{-7}=\\frac{1}{e^{7}}=\\frac{1}{1+7+\\frac{7^{2}}{2!}+\\frac{7^{3}}{3!}+...}.\n",
    "\\end{equation*}\n",
    "The Python code for this computation using $n=20$ is below:"
   ]
  },
  {
   "cell_type": "code",
   "execution_count": 93,
   "id": "925e5341",
   "metadata": {},
   "outputs": [
    {
     "data": {
      "text/plain": [
       "0.0009118951837867185"
      ]
     },
     "execution_count": 93,
     "metadata": {},
     "output_type": "execute_result"
    }
   ],
   "source": [
    "sum = 1.0\n",
    "for n in range(1, 21):\n",
    "    sum += 7**n/factorial(n)\n",
    "sum = 1/sum\n",
    "sum"
   ]
  },
  {
   "cell_type": "markdown",
   "id": "e206a67b",
   "metadata": {},
   "source": [
    "The result is 0.0009118951837867185, which has a relative error of $1.4\\times 10^{-5}$."
   ]
  },
  {
   "cell_type": "markdown",
   "id": "793988a3",
   "metadata": {},
   "source": [
    "**Exercise 1.6**\n",
    "\n",
    "The $x$-intercept of the line passing through the points $(x_{1},y_{1})$ and $(x_{2},y_{2})$ can be computed using either one of the following formulas:\n",
    "\\begin{equation*}\n",
    "x=\\frac{x_{1}y_{2}-x_{2}y_{1}}{y_{2}-y_{1}}\n",
    "\\end{equation*}\n",
    "or,\n",
    "\\begin{equation*}\n",
    "x=x_{1}-\\frac{(x_{2}-x_{1})y_{1}}{y_{2}-y_{1}}\n",
    "\\end{equation*}\n",
    "with the assumption $y_1 \\neq y_2$.\n",
    "\n",
    "a. Show that the formulas are equivalent to each other.\n",
    "\n",
    "b. Compute the $x$-intercept using each formula when $(x_{1},y_{1})=(1.02,3.32)$ and $(x_{2},y_{2})=(1.31,4.31)$. Use three-digit rounding arithmetic.\n",
    "\n",
    "c. Use Python (or a calculator) to compute the $x$-intercept using\n",
    "the full-precision of the device (you can use either one of the formulas). Using this result, compute the relative and absolute errors of the\n",
    "answers you gave in part (b). Discuss which formula is better and\n",
    "why."
   ]
  },
  {
   "cell_type": "markdown",
   "id": "1ce2c903",
   "metadata": {},
   "source": [
    "**Exercise 1.7**\n",
    "Write two functions in Python to compute the binomial coefficient $\\binom{m}{k}$\n",
    "using the following formulas:\n",
    "\n",
    "a. $\\binom{m}{k}=\\frac{m!}{k!(m-k)!}$ ($m!$ is \\textbf{scipy.special.factorial(m)} in Python.)\n",
    "\n",
    "b. $\\binom{m}{k}=(\\frac{m}{k})(\\frac{m-1}{k-1})\\times...\\times(\\frac{m-k+1}{1})$\n",
    "\n",
    "Then, experiment with various values for $m,k$ to see which formula\n",
    "causes overflow first."
   ]
  },
  {
   "cell_type": "markdown",
   "id": "7b802beb",
   "metadata": {},
   "source": [
    "**Exercise 1.8**\n",
    "\n",
    "Polynomials can be evaluated in a nested form (also called Horner's method) that has two advantages:\n",
    "the nested form has significantly less computation, and it can reduce\n",
    "roundoff error. For\n",
    "\\begin{equation*}\n",
    "p(x)=a_{0}+a_{1}x+a_{2}x^{2}+...+a_{n-1}x^{n-1}+a_{n}x^{n}\n",
    "\\end{equation*}\n",
    " its nested form is\n",
    "\\begin{equation*}\n",
    "p(x)=a_{0}+x(a_{1}+x(a_{2}+...+x(a_{n-1}+x(a_{n}))...)).\n",
    "\\end{equation*}\n",
    " Consider the polynomial $p(x)=x^{2}+1.1x-2.8$.\n",
    "\n",
    "a. Compute $p(3.5)$ using three-digit rounding, and three-digit chopping arithmetic.\n",
    "What are the absolute errors? (Note that the exact value of $p(3.5)$\n",
    "is 13.3.)\n",
    "\n",
    "b. Write $x^{2}+1.1x-2.8$ in nested form by these simple steps:\n",
    "\\begin{equation*}\n",
    "x^{2}+1.1x-2.8=(x^{2}+1.1x)-2.8=(x+1.1)x-2.8.\n",
    "\\end{equation*}\n",
    "Then compute $p(3.5)$ using three-digit rounding and chopping using the\n",
    "nested form. What are the absolute errors? Compare the errors with\n",
    "the ones you found in (a)."
   ]
  },
  {
   "cell_type": "markdown",
   "id": "f3583e47",
   "metadata": {},
   "source": [
    "**Exercise 1.9**\n",
    "Consider the polynomial written in standard form: $5x^{4}+3x^{3}+4x^{2}+7x-5$.\n",
    "\n",
    "a. Write the polynomial in its nested form. (See the previous problem.)\n",
    "\n",
    "b. How many multiplications does the nested form require when we evaluate\n",
    "the polynomial at a real number? How many multiplications does the\n",
    "standard form require? Can you generalize your answer to any $n$th\n",
    "degree polynomial?\n",
    "\\end{enumerate}"
   ]
  },
  {
   "cell_type": "markdown",
   "id": "1cabc5e9",
   "metadata": {},
   "source": [
    "#### Arya and the unexpected challenges of data analysis "
   ]
  },
  {
   "cell_type": "markdown",
   "id": "4da959a7",
   "metadata": {},
   "source": [
    "Meet Arya! Arya is a college student interested in math, biology, literature, and acting. Like a typical college student, she texts while walking on campus, complains about demanding professors, and argues in her blogs that homework should be outlawed.\n",
    "\n",
    "Arya is taking a chemistry class, and she performs some experiments in the lab to find the weight of two substances. Due to difficulty in making precise measurements, she can only assess the weights to four-significant digits of accuracy: 2.312 grams and 0.003982 grams. Arya's professor wants to know the product of these weights, which will be used in a formula.\n",
    "\n",
    "```{figure} ../figs/arya_data_1.png\n",
    "---\n",
    "scale: 50%\n",
    "align: right\n",
    "---\n",
    "```"
   ]
  },
  {
   "cell_type": "markdown",
   "id": "519b88ba",
   "metadata": {},
   "source": [
    "Arya computes the product using her calculator: $2.312\\times0.003982=0.009206384$, and stares at the result in bewilderment. The numbers she multiplied had four-significant digits, but the product has seven digits! Could this be the result of some magic, like a rabbit hopping out of a magician's hat that was only a handkerchief a moment ago? After some internal deliberations, Arya decides to report the answer to her professor as $0.009206$. Do you think Arya was correct in not reporting all of the digits of the product?\n",
    "\n",
    "![arya_data1](../figs/Arya_data_2.png)"
   ]
  },
  {
   "cell_type": "markdown",
   "id": "f31b5351",
   "metadata": {},
   "source": [
    "### Sources of error in applied mathematics\n",
    "\n",
    "Here is a list of potential sources of error when we solve a problem.\n",
    "\n",
    "1. Error due to the simplifying assumptions made in the development of a mathematical model for the physical problem.\n",
    "2. Programming errors.\n",
    "3. Uncertainty in physical data: error in collecting and measuring data.\n",
    "4. Machine errors: rounding/chopping, underflow, overflow, etc.\n",
    "5. Mathematical truncation error: error that results from the use of numerical methods in solving a problem, such as evaluating a series by a finite sum, a definite integral by a numerical integration method, solving a differential equation by a numerical method."
   ]
  },
  {
   "cell_type": "markdown",
   "id": "3f642f0e",
   "metadata": {},
   "source": [
    "```{prf:example}\n",
    ":label: chap1_exa23\n",
    "The volume of the Earth could be computed using the formula for the volume of a sphere,\n",
    "$V=4/3 \\pi r^{3}$, where $r$ is the radius. This computation involves the following approximations:\n",
    "\n",
    "1. The Earth is modeled as a sphere (modeling error)\n",
    "2. Radius $r\\approx6370$ km is based on empirical measurements (uncertainty in physical data)\n",
    "3. All the numerical computations are done in a computer (machine error)\n",
    "4. The value of $\\pi$ has to be truncated (mathematical truncation error)\n",
    "```"
   ]
  },
  {
   "cell_type": "markdown",
   "id": "b25e9928",
   "metadata": {},
   "source": [
    "**exercise 1.9**\n",
    "The following is from \"Numerical mathematics and computing\" by\n",
    "{cite:t}`cheney`:\n",
    "\n",
    "*In 1996, the Ariane 5 rocket launched by the European Space\n",
    "Agency exploded 40 seconds after lift-off from Kourou, French Guiana.\n",
    "An investigation determined that the horizontal velocity required\n",
    "the conversion of a 64-bit floating-point number to a 16-bit signed\n",
    "integer. It failed because the number was larger than 32,767, which\n",
    "was the largest integer of this type that could be stored in memory.\n",
    "The rocket and its cargo were valued at $500 million*.\n",
    "\n",
    "Search online, or in the library, to find another example of computer\n",
    "arithmetic going very wrong! Write a short paragraph explaining the\n",
    "problem, and give a reference."
   ]
  },
  {
   "cell_type": "markdown",
   "id": "59772471",
   "metadata": {},
   "source": [
    "```{bibliography}\n",
    "```"
   ]
  }
 ],
 "metadata": {
  "kernelspec": {
   "display_name": "Python 3 (ipykernel)",
   "language": "python",
   "name": "python3"
  },
  "language_info": {
   "codemirror_mode": {
    "name": "ipython",
    "version": 3
   },
   "file_extension": ".py",
   "mimetype": "text/x-python",
   "name": "python",
   "nbconvert_exporter": "python",
   "pygments_lexer": "ipython3",
   "version": "3.9.7"
  },
  "latex_envs": {
   "LaTeX_envs_menu_present": true,
   "autoclose": false,
   "autocomplete": true,
   "bibliofile": "biblio.bib",
   "cite_by": "apalike",
   "current_citInitial": 1,
   "eqLabelWithNumbers": true,
   "eqNumInitial": 1,
   "hotkeys": {
    "equation": "Ctrl-E",
    "itemize": "Ctrl-I"
   },
   "labels_anchors": false,
   "latex_user_defs": false,
   "report_style_numbering": false,
   "user_envs_cfg": false
  }
 },
 "nbformat": 4,
 "nbformat_minor": 5
}
