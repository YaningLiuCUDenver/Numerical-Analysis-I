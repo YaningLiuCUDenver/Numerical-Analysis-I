{
 "cells": [
  {
   "cell_type": "markdown",
   "id": "532b9f75",
   "metadata": {},
   "source": [
    "# Chapter 2 Solutions of Equations: Root-finding"
   ]
  },
  {
   "cell_type": "markdown",
   "id": "6ba34abf",
   "metadata": {},
   "source": [
    "#### Arya and the mystery of the Rhind papyrus"
   ]
  },
  {
   "cell_type": "markdown",
   "id": "c3345f2d",
   "metadata": {},
   "source": [
    "College life is full of adventures, some hopefully of intellectual nature, and Arya is doing her part by taking a history of science class. She learns about the Rhind papyrus; an ancient Egyptian papyrus purchased by an antiquarian named Henry Rhind in Luxor, Egypt, in 1858.\n",
    ":::{figure-md} Papyrus\n",
    "<img src=\"../images/Rhind_Mathematical_Papyrus.jpg\" class=\"bg-primary mb-1\"  width=\"800px\">\n",
    "\n",
    "Rhind Mathematical Papyrus. (British Museum Image under a Creative Commons license.)\n",
    ":::"
   ]
  },
  {
   "cell_type": "markdown",
   "id": "bd2fd7f9",
   "metadata": {},
   "source": [
    "The papyrus has a collection of mathematical problems and their solutions; a translation is given by {cite:t}`chace`.  The following is Problem 26, taken from {cite}`chace`:\n",
    "\n",
    "A quantity and its $1/4$ added together become 15. What is the quantity?\n",
    "\n",
    "Assume 4.\n",
    "\\begin{align*}\n",
    "&\\backslash 1 & 4 \\\\\n",
    "&\\backslash 1/4 & 1\\\\\n",
    "&\\text{Total} & 5\n",
    "\\end{align*}\n",
    "\n",
    "As many times as 5 must be multiplied to give 15, so many times 4 must be multiplied to give the required number. Multiply 5 so as to get 15.\n",
    "\\begin{align*}\n",
    "&\\backslash 1 & 5 \\\\\n",
    "&\\backslash2 & 10\\\\\n",
    "&\\text{Total} & 3\n",
    "\\end{align*}\n",
    "\n",
    "Multiply 3 by 4.\n",
    "\\begin{align*}\n",
    "&1 & 3 \\\\\n",
    "&2 & 6\\\\\n",
    "&\\backslash 4 & 12\n",
    "\\end{align*}\n",
    "\n",
    "The quantity is\n",
    "\\begin{align*}\n",
    "& &12\\\\\n",
    "&1/4 &3\\\\\n",
    "&\\text{Total} & 15\n",
    "\\end{align*}\n",
    "\n",
    "\n",
    "Arya's instructor knows she has taken math classes and asks her if she could decipher this solution. Although Arya's initial reaction to this assignment can be best described using the word \"despair\", she quickly realizes it is not as bad as she thought. Here is her thought process: the question, in our modern notation is, find $x$ if $x+x/4=15$. The solution starts with an initial guess $p=4$. It then evaluates $x+x/4$ when $x=p$, and finds the result to be 5: however, what we need is 15, not 5, and if we multiply both sides of $p+p/4=5$ by 3, we get $(3p)+(3p)/4=15$. Therefore, the solution is $3p=12$.\n",
    "\n",
    "Here is a more general analysis of this solution technique. Suppose we want to solve the equation $g(x)=a$, and that $g$ is a linear map, that is, $g(\\lambda x)=\\lambda g(x)$ for any constant $\\lambda$. Then, the solution is $x=ap/b$ where $p$ is an initial guess with $g(p)=b$. To see this, simply observe\n",
    "\\begin{equation*}\n",
    "g(\\frac{ap}{b})=\\frac{a}{b} g(p)=a.\n",
    "\\end{equation*}"
   ]
  },
  {
   "cell_type": "markdown",
   "id": "41777054",
   "metadata": {},
   "source": [
    "#### The general problem\n",
    "How can we solve equations that are far complicated than the ancient Egyptians solved? For example, how can we solve $x^{2}+5\\cos x=0$? Stated differently, how can we find the root $p$ such that $f(p)=0$, where $f(x)=x^{2}+5\\cos x$? In this chapter we will learn some iterative methods to solve equations. An **iterative method** produces a sequence of numbers $p_{1},p_{2},...$ such that\n",
    "$\\lim_{n\\rightarrow\\infty}p_{n}=p,$ and $p$ is the root we seek.\n",
    "Of course, we cannot compute the exact limit, so we stop the iteration\n",
    "at some large $N$, and use $p_{N}$ as an approximation to $p$."
   ]
  },
  {
   "cell_type": "markdown",
   "id": "4c4b82da",
   "metadata": {},
   "source": [
    "#### The stopping criteria\n",
    " With any iterative method, a key question is how to decide when to stop the iteration. How well does $p_{N}$ approximate $p$?\n",
    "\n",
    "Let $\\epsilon>0$ be a small tolerance picked ahead of time. Here are some stopping criteria: stop\n",
    "when\n",
    "\n",
    "1. $|p_{N}-p_{N-1}|<\\epsilon$,\n",
    "2. $\\left|\\frac{p_{N}-p_{N-1}}{p_{N}}\\right|<\\epsilon,p_{N}\\neq0$, or\n",
    "3. $|f(p_{N})|<\\epsilon.$\n",
    "\n",
    "However, difficulties can arise with any of these criteria:\n",
    "\n",
    "1. It is possible to have a sequence $\\{p_{n}\\}$ such that $p_{n}-p_{n-1}\\rightarrow0$ but $\\{p_{n}\\}$ diverges.\n",
    "2. It is possible to have $|f(p_{N})|$ small (called residual) but $p_{N}$ not close to $p$.\n",
    "\n",
    "In our numerical results, we will experiment with various stopping criteria. However, the second criterion is usually preferred over the others."
   ]
  },
  {
   "cell_type": "markdown",
   "id": "9a549625",
   "metadata": {},
   "source": [
    "**Exercise 2.1**\n",
    "Solve the following problems and discuss their relevance to the stopping criteria.\n",
    "\n",
    "a. Consider the sequence ${p_n}$ where $p_n=\\sum_{i=1}^n \\frac{1}{i}$. Argue that  ${p_n}$ diverges, but $\\lim_{n\\rightarrow\\infty} (p_n-p_{n-1})=0$.\n",
    "\n",
    "b. Let $f(x)=x^{10}$. Clearly, $p=0$ is a root of $f$, and the sequence $p_n=\\frac{1}{n}$ converges to $p$. Show that $f(p_n)<10^{-3}$ if $n>1$, but to obtain $|p-p_n|<10^{-3}$, $n$ must be greater than $10^3$."
   ]
  },
  {
   "cell_type": "markdown",
   "id": "9e89650c",
   "metadata": {},
   "source": [
    "```{bibliography}\n",
    ":filter: docname in docnames\n",
    "```"
   ]
  }
 ],
 "metadata": {
  "kernelspec": {
   "display_name": "Python 3 (ipykernel)",
   "language": "python",
   "name": "python3"
  },
  "language_info": {
   "codemirror_mode": {
    "name": "ipython",
    "version": 3
   },
   "file_extension": ".py",
   "mimetype": "text/x-python",
   "name": "python",
   "nbconvert_exporter": "python",
   "pygments_lexer": "ipython3",
   "version": "3.9.7"
  },
  "latex_envs": {
   "LaTeX_envs_menu_present": true,
   "autoclose": false,
   "autocomplete": true,
   "bibliofile": "biblio.bib",
   "cite_by": "apalike",
   "current_citInitial": 1,
   "eqLabelWithNumbers": true,
   "eqNumInitial": 1,
   "hotkeys": {
    "equation": "Ctrl-E",
    "itemize": "Ctrl-I"
   },
   "labels_anchors": false,
   "latex_user_defs": false,
   "report_style_numbering": false,
   "user_envs_cfg": false
  }
 },
 "nbformat": 4,
 "nbformat_minor": 5
}
